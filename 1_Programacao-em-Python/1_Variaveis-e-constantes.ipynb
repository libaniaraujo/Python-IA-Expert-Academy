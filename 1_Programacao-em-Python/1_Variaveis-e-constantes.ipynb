{
 "cells": [
  {
   "cell_type": "markdown",
   "id": "1cb950ff",
   "metadata": {},
   "source": [
    "## 1. Manipulação de variáveis e constantes\n",
    "\n",
    "#### Variáveis e constantes\n",
    "\n",
    "- Por meio de variáveis que um algortimo “guarda” os dados do problema.\n",
    "- Todo dado que tem a possibilidade de ser alterado no decorrer do tempo deverá ser tratado como uma variável.\n",
    "- Quando um dado não tem nenhuma possibilidade de variar no decorrer do tempo, deverá ser tratado como constante\n",
    "\n",
    "Exemplo: calcular a área de um triângulo. Sabemos que a fórmula para o cálculo da área de um triângulo é BASE * ALTURA / 2. Base e altura são dados que irão variar no decorrer do “tempo de execução”. O número 2 da fórmula é um dado constante, pois sempre terá o mesmo valor\n",
    "\n",
    "#### Tipo de variáveis\n",
    "\n",
    "- Inteiros: valores positivos ou negativos, que não possuem uma parte fracionária. Exemplos: 1, 30, 40, 12, -50\n",
    "- Float (real): valores positivos ou negativos, que podem possuir uma parte fracionária (também podem ser inteiros). Exemplos: 1.4, 6.7, 10.3, 100, -47\n",
    "- Caracteres (char ou string): qualquer elemento presente no teclado. Exemplos: “Maria”, “João”, ‘M’, ‘F’\n",
    "- Lógico (boleano): verdadeiro ou falso. Exemplos: true, false, 1, 0"
   ]
  },
  {
   "cell_type": "markdown",
   "id": "74b61d53",
   "metadata": {},
   "source": [
    "### 1.1. Variáveis inteiras"
   ]
  },
  {
   "cell_type": "code",
   "execution_count": 1,
   "id": "d6ef03d5",
   "metadata": {},
   "outputs": [],
   "source": [
    "numero = -3\n",
    "numero_jogos = 14\n",
    "numero_convidados = 15"
   ]
  },
  {
   "cell_type": "code",
   "execution_count": 2,
   "id": "f74eec3b",
   "metadata": {},
   "outputs": [
    {
     "data": {
      "text/plain": [
       "-3"
      ]
     },
     "execution_count": 2,
     "metadata": {},
     "output_type": "execute_result"
    }
   ],
   "source": [
    "numero"
   ]
  },
  {
   "cell_type": "code",
   "execution_count": 3,
   "id": "0daa05e2",
   "metadata": {},
   "outputs": [
    {
     "name": "stdout",
     "output_type": "stream",
     "text": [
      "-3\n"
     ]
    }
   ],
   "source": [
    "print(numero)"
   ]
  },
  {
   "cell_type": "code",
   "execution_count": 4,
   "id": "dfca97a5",
   "metadata": {},
   "outputs": [
    {
     "name": "stdout",
     "output_type": "stream",
     "text": [
      "-3 15\n"
     ]
    }
   ],
   "source": [
    "print(numero, numero_convidados)"
   ]
  },
  {
   "cell_type": "markdown",
   "id": "2e69a1de",
   "metadata": {},
   "source": [
    "### 1.2. Variáveis float (ponto flutuante)"
   ]
  },
  {
   "cell_type": "code",
   "execution_count": 5,
   "id": "1c83eb50",
   "metadata": {},
   "outputs": [],
   "source": [
    "pi = 3.14\n",
    "numero_euler = 2.71\n",
    "escala_terremoto = -4.55"
   ]
  },
  {
   "cell_type": "code",
   "execution_count": 6,
   "id": "138f7148",
   "metadata": {},
   "outputs": [
    {
     "name": "stdout",
     "output_type": "stream",
     "text": [
      "3.14\n",
      "2.71\n",
      "-4.55\n"
     ]
    }
   ],
   "source": [
    "print(pi)\n",
    "print(numero_euler)\n",
    "print(escala_terremoto)"
   ]
  },
  {
   "cell_type": "markdown",
   "id": "caeaa1db",
   "metadata": {},
   "source": [
    "### 1.3. Strings e chars"
   ]
  },
  {
   "cell_type": "code",
   "execution_count": 7,
   "id": "fd9498e3",
   "metadata": {},
   "outputs": [],
   "source": [
    "letra = 'a'\n",
    "palavra1 = 'linguagem de programação'\n",
    "palavra2 = 'Python'"
   ]
  },
  {
   "cell_type": "code",
   "execution_count": 8,
   "id": "928530c6",
   "metadata": {},
   "outputs": [
    {
     "name": "stdout",
     "output_type": "stream",
     "text": [
      "a linguagem de programação\n"
     ]
    }
   ],
   "source": [
    "print(letra, palavra1)"
   ]
  },
  {
   "cell_type": "code",
   "execution_count": 9,
   "id": "092cfa07",
   "metadata": {},
   "outputs": [
    {
     "name": "stdout",
     "output_type": "stream",
     "text": [
      "Estou aprendendo uma linguagem de programação\n"
     ]
    }
   ],
   "source": [
    "print('Estou aprendendo uma', palavra1)"
   ]
  },
  {
   "cell_type": "code",
   "execution_count": 10,
   "id": "548d457c",
   "metadata": {},
   "outputs": [
    {
     "name": "stdout",
     "output_type": "stream",
     "text": [
      "Esta linguagem de programação se chama Python\n"
     ]
    }
   ],
   "source": [
    "print('Esta', palavra1, 'se chama', palavra2)"
   ]
  },
  {
   "cell_type": "code",
   "execution_count": 11,
   "id": "f5107463",
   "metadata": {},
   "outputs": [
    {
     "name": "stdout",
     "output_type": "stream",
     "text": [
      "Digite sua idade:29\n",
      "Sua idade é  29\n"
     ]
    }
   ],
   "source": [
    "idade = int(input('Digite sua idade:'))\n",
    "print('Sua idade é ', idade)"
   ]
  },
  {
   "cell_type": "code",
   "execution_count": 12,
   "id": "f6c54702",
   "metadata": {},
   "outputs": [
    {
     "name": "stdout",
     "output_type": "stream",
     "text": [
      "Qual o pH do solo durante a última medição?2\n",
      "O pH medido foi  2.0\n"
     ]
    }
   ],
   "source": [
    "pH = float(input('Qual o pH do solo durante a última medição?'))\n",
    "print('O pH medido foi ', pH)"
   ]
  },
  {
   "cell_type": "code",
   "execution_count": 13,
   "id": "a7225c19",
   "metadata": {},
   "outputs": [
    {
     "name": "stdout",
     "output_type": "stream",
     "text": [
      "Qual o seu nome?Libania\n",
      "Seu nome é Libania\n"
     ]
    }
   ],
   "source": [
    "nome = str(input('Qual o seu nome?'))\n",
    "print('Seu nome é', nome)"
   ]
  },
  {
   "cell_type": "code",
   "execution_count": 14,
   "id": "b01ddbf7",
   "metadata": {},
   "outputs": [
    {
     "data": {
      "text/plain": [
       "29"
      ]
     },
     "execution_count": 14,
     "metadata": {},
     "output_type": "execute_result"
    }
   ],
   "source": [
    "idade"
   ]
  },
  {
   "cell_type": "code",
   "execution_count": null,
   "id": "4732372f",
   "metadata": {},
   "outputs": [],
   "source": []
  }
 ],
 "metadata": {
  "kernelspec": {
   "display_name": "Python 3",
   "language": "python",
   "name": "python3"
  },
  "language_info": {
   "codemirror_mode": {
    "name": "ipython",
    "version": 3
   },
   "file_extension": ".py",
   "mimetype": "text/x-python",
   "name": "python",
   "nbconvert_exporter": "python",
   "pygments_lexer": "ipython3",
   "version": "3.8.8"
  }
 },
 "nbformat": 4,
 "nbformat_minor": 5
}
