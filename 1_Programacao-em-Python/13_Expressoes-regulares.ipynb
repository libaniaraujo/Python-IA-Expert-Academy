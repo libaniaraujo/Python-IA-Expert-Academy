{
 "cells": [
  {
   "cell_type": "markdown",
   "id": "33863089",
   "metadata": {},
   "source": [
    "# 13. Expressões regulares"
   ]
  },
  {
   "cell_type": "markdown",
   "id": "7fd3cca4",
   "metadata": {},
   "source": [
    "## 13.1. Função search"
   ]
  },
  {
   "cell_type": "code",
   "execution_count": 1,
   "id": "21da4f17",
   "metadata": {},
   "outputs": [],
   "source": [
    "import re"
   ]
  },
  {
   "cell_type": "code",
   "execution_count": 2,
   "id": "a5139b58",
   "metadata": {},
   "outputs": [],
   "source": [
    "frase = 'Olá, meu número de telefone é (42)00010-0000'"
   ]
  },
  {
   "cell_type": "code",
   "execution_count": 3,
   "id": "bc0faab4",
   "metadata": {},
   "outputs": [
    {
     "data": {
      "text/plain": [
       "<re.Match object; span=(30, 44), match='(42)00010-0000'>"
      ]
     },
     "execution_count": 3,
     "metadata": {},
     "output_type": "execute_result"
    }
   ],
   "source": [
    "re.search('\\(\\d{2}\\)\\d{4,5}-\\d{4}', frase)"
   ]
  },
  {
   "cell_type": "code",
   "execution_count": 4,
   "id": "3c831730",
   "metadata": {},
   "outputs": [],
   "source": [
    "frase = 'A placa de carro que eu anotei durante o acidente foi FrT-1998'"
   ]
  },
  {
   "cell_type": "code",
   "execution_count": 5,
   "id": "d475eb25",
   "metadata": {},
   "outputs": [
    {
     "data": {
      "text/plain": [
       "<re.Match object; span=(54, 62), match='FrT-1998'>"
      ]
     },
     "execution_count": 5,
     "metadata": {},
     "output_type": "execute_result"
    }
   ],
   "source": [
    "re.search('[A-Za-z]{3}-\\d{4}', frase)"
   ]
  },
  {
   "cell_type": "code",
   "execution_count": 6,
   "id": "328a3e80",
   "metadata": {},
   "outputs": [],
   "source": [
    "email = 'Entre em contato, meu email é teste@teste.com'"
   ]
  },
  {
   "cell_type": "code",
   "execution_count": 7,
   "id": "948ba932",
   "metadata": {},
   "outputs": [
    {
     "data": {
      "text/plain": [
       "<re.Match object; span=(30, 45), match='teste@teste.com'>"
      ]
     },
     "execution_count": 7,
     "metadata": {},
     "output_type": "execute_result"
    }
   ],
   "source": [
    "re.search('\\w+@\\w+\\.com', email)"
   ]
  },
  {
   "cell_type": "markdown",
   "id": "817f28a0",
   "metadata": {},
   "source": [
    "## 13.2. Função match"
   ]
  },
  {
   "cell_type": "code",
   "execution_count": 8,
   "id": "7116de2f",
   "metadata": {},
   "outputs": [],
   "source": [
    "frase = 'A placa de carro que eu anotei durante a batida foi FRT-1998'"
   ]
  },
  {
   "cell_type": "code",
   "execution_count": 9,
   "id": "6cdb50fb",
   "metadata": {},
   "outputs": [
    {
     "name": "stdout",
     "output_type": "stream",
     "text": [
      "None\n"
     ]
    }
   ],
   "source": [
    "print(re.match('[A-Za-z]{3}-\\d{4}', frase))"
   ]
  },
  {
   "cell_type": "code",
   "execution_count": 10,
   "id": "3c1a341d",
   "metadata": {},
   "outputs": [],
   "source": [
    "frase2 = 'FRT-1998 é a placa do carro'"
   ]
  },
  {
   "cell_type": "code",
   "execution_count": 11,
   "id": "5e1ef4dd",
   "metadata": {},
   "outputs": [
    {
     "name": "stdout",
     "output_type": "stream",
     "text": [
      "<re.Match object; span=(0, 8), match='FRT-1998'>\n"
     ]
    }
   ],
   "source": [
    "print(re.match('[A-Za-z]{3}-\\d{4}', frase2))"
   ]
  },
  {
   "cell_type": "markdown",
   "id": "5d69f0dc",
   "metadata": {},
   "source": [
    "## 13.3. Função findall"
   ]
  },
  {
   "cell_type": "code",
   "execution_count": 12,
   "id": "64851f3f",
   "metadata": {},
   "outputs": [],
   "source": [
    "frase3 = 'Meu número de telefone atual é (42)0000-0000. O número (56)1111-1111 é o antigo'"
   ]
  },
  {
   "cell_type": "code",
   "execution_count": 13,
   "id": "04f8e741",
   "metadata": {},
   "outputs": [
    {
     "data": {
      "text/plain": [
       "['(42)0000-0000', '(56)1111-1111']"
      ]
     },
     "execution_count": 13,
     "metadata": {},
     "output_type": "execute_result"
    }
   ],
   "source": [
    "re.findall('\\(\\d{2}\\)\\d{4,5}-\\d{4}', frase3)"
   ]
  },
  {
   "cell_type": "code",
   "execution_count": 14,
   "id": "b679387b",
   "metadata": {},
   "outputs": [],
   "source": [
    "emails = '''Nome: Teste 1\n",
    "email: teste1@teste.com\n",
    "Nome: Teste 2\n",
    "email: teste2@teste.com\n",
    "Nome: Teste 3\n",
    "email: teste3@teste.com.br\n",
    "'''"
   ]
  },
  {
   "cell_type": "code",
   "execution_count": 15,
   "id": "dfb3c004",
   "metadata": {},
   "outputs": [
    {
     "data": {
      "text/plain": [
       "['teste1@teste.com', 'teste2@teste.com', 'teste3@teste.com']"
      ]
     },
     "execution_count": 15,
     "metadata": {},
     "output_type": "execute_result"
    }
   ],
   "source": [
    "re.findall('\\w+@\\w+\\.\\w*', emails)"
   ]
  },
  {
   "cell_type": "code",
   "execution_count": null,
   "id": "5aa1645c",
   "metadata": {},
   "outputs": [],
   "source": []
  }
 ],
 "metadata": {
  "kernelspec": {
   "display_name": "Python 3",
   "language": "python",
   "name": "python3"
  },
  "language_info": {
   "codemirror_mode": {
    "name": "ipython",
    "version": 3
   },
   "file_extension": ".py",
   "mimetype": "text/x-python",
   "name": "python",
   "nbconvert_exporter": "python",
   "pygments_lexer": "ipython3",
   "version": "3.8.8"
  }
 },
 "nbformat": 4,
 "nbformat_minor": 5
}
