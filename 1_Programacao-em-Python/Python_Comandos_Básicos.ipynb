{
 "cells": [
  {
   "cell_type": "markdown",
   "id": "878f8f5b",
   "metadata": {},
   "source": [
    "# Comandos Básicos de Python"
   ]
  },
  {
   "cell_type": "markdown",
   "id": "543d0cf4",
   "metadata": {},
   "source": [
    "### Python Data Types"
   ]
  },
  {
   "cell_type": "markdown",
   "id": "a8318f56",
   "metadata": {},
   "source": [
    "#### String"
   ]
  },
  {
   "cell_type": "code",
   "execution_count": 1,
   "id": "7167e2e5",
   "metadata": {},
   "outputs": [],
   "source": [
    "my_string = \"Hello\""
   ]
  },
  {
   "cell_type": "markdown",
   "id": "c2684c52",
   "metadata": {},
   "source": [
    "#### String Operations"
   ]
  },
  {
   "cell_type": "code",
   "execution_count": 2,
   "id": "4d5f7839",
   "metadata": {},
   "outputs": [
    {
     "data": {
      "text/plain": [
       "'HELLO'"
      ]
     },
     "execution_count": 2,
     "metadata": {},
     "output_type": "execute_result"
    }
   ],
   "source": [
    "# Retorna strings com todas as letras em caixa alta\n",
    "my_string.upper()"
   ]
  },
  {
   "cell_type": "code",
   "execution_count": 4,
   "id": "44bd0071",
   "metadata": {},
   "outputs": [
    {
     "data": {
      "text/plain": [
       "5"
      ]
     },
     "execution_count": 4,
     "metadata": {},
     "output_type": "execute_result"
    }
   ],
   "source": [
    "# Retorna o comprimento de uma string\n",
    "len(my_string)"
   ]
  },
  {
   "cell_type": "code",
   "execution_count": 7,
   "id": "eccdbccc",
   "metadata": {},
   "outputs": [
    {
     "data": {
      "text/plain": [
       "2"
      ]
     },
     "execution_count": 7,
     "metadata": {},
     "output_type": "execute_result"
    }
   ],
   "source": [
    "# retorna o índice da primeira instância da string dentro da string em questão, caso contrário, -1\n",
    "my_string.find ('l')"
   ]
  },
  {
   "cell_type": "code",
   "execution_count": 9,
   "id": "bf59ca7b",
   "metadata": {},
   "outputs": [
    {
     "data": {
      "text/plain": [
       "'Cello'"
      ]
     },
     "execution_count": 9,
     "metadata": {},
     "output_type": "execute_result"
    }
   ],
   "source": [
    "# substitui qualquer instância da primeira string pela segunda em my_string\n",
    "my_string.replace ('H', 'C')"
   ]
  },
  {
   "cell_type": "markdown",
   "id": "0403926f",
   "metadata": {},
   "source": [
    "#### Interger\n",
    "- Um número inteiro"
   ]
  },
  {
   "cell_type": "code",
   "execution_count": 10,
   "id": "fac79484",
   "metadata": {},
   "outputs": [],
   "source": [
    "my_integer = 12321"
   ]
  },
  {
   "cell_type": "markdown",
   "id": "4ba4c76f",
   "metadata": {},
   "source": [
    "#### Float\n",
    "- Um número decimal"
   ]
  },
  {
   "cell_type": "code",
   "execution_count": 11,
   "id": "fd84fd75",
   "metadata": {},
   "outputs": [],
   "source": [
    "my_decimal = 3.14"
   ]
  },
  {
   "cell_type": "markdown",
   "id": "6babe295",
   "metadata": {},
   "source": [
    "#### Booleano\n",
    "- True ou False"
   ]
  },
  {
   "cell_type": "code",
   "execution_count": 12,
   "id": "e4696f1e",
   "metadata": {},
   "outputs": [],
   "source": [
    "a = True\n",
    "b = False"
   ]
  },
  {
   "cell_type": "markdown",
   "id": "e2127d30",
   "metadata": {},
   "source": [
    "#### Dictionary\n",
    "- Coleção mutável de pares de valores-chave"
   ]
  },
  {
   "cell_type": "code",
   "execution_count": 13,
   "id": "9a544563",
   "metadata": {},
   "outputs": [],
   "source": [
    "my_dictionary = {'banana': 1, 12: 'laptop', (0,0):'center'}"
   ]
  },
  {
   "cell_type": "code",
   "execution_count": 14,
   "id": "a94c2b53",
   "metadata": {},
   "outputs": [
    {
     "data": {
      "text/plain": [
       "1"
      ]
     },
     "execution_count": 14,
     "metadata": {},
     "output_type": "execute_result"
    }
   ],
   "source": [
    "# Acessar valor usando uma chave\n",
    "my_dictionary['banana']"
   ]
  },
  {
   "cell_type": "code",
   "execution_count": 15,
   "id": "ae7e06dd",
   "metadata": {},
   "outputs": [
    {
     "data": {
      "text/plain": [
       "dict_keys(['banana', 12, (0, 0)])"
      ]
     },
     "execution_count": 15,
     "metadata": {},
     "output_type": "execute_result"
    }
   ],
   "source": [
    "# Obter todas as chaves de um dicionário como uma lista\n",
    "my_dictionary.keys()"
   ]
  },
  {
   "cell_type": "code",
   "execution_count": 16,
   "id": "056e37e6",
   "metadata": {},
   "outputs": [
    {
     "data": {
      "text/plain": [
       "dict_keys(['banana', 12, (0, 0)])"
      ]
     },
     "execution_count": 16,
     "metadata": {},
     "output_type": "execute_result"
    }
   ],
   "source": [
    "# Obter todos os valores de um dicionário como uma lista\n",
    "my_dictionary.keys()"
   ]
  },
  {
   "cell_type": "markdown",
   "id": "81b01e17",
   "metadata": {},
   "source": [
    "#### Tupla\n",
    "- Coleção imutável de objetos"
   ]
  },
  {
   "cell_type": "code",
   "execution_count": 20,
   "id": "c11bf424",
   "metadata": {},
   "outputs": [
    {
     "data": {
      "text/plain": [
       "(1, 3.12, False, 'Hi')"
      ]
     },
     "execution_count": 20,
     "metadata": {},
     "output_type": "execute_result"
    }
   ],
   "source": [
    "tup = (1, 3.12, False, \"Hi\")\n",
    "tup"
   ]
  },
  {
   "cell_type": "markdown",
   "id": "cda400fe",
   "metadata": {},
   "source": [
    "#### Lista\n",
    "- Coleção mutável de objetos"
   ]
  },
  {
   "cell_type": "code",
   "execution_count": 21,
   "id": "cd71ed44",
   "metadata": {},
   "outputs": [
    {
     "data": {
      "text/plain": [
       "[1, 1, 3.12, False, 'Hi']"
      ]
     },
     "execution_count": 21,
     "metadata": {},
     "output_type": "execute_result"
    }
   ],
   "source": [
    "my_collection = [1, 1, 3.12, False, \"Hi\" ]\n",
    "my_collection"
   ]
  },
  {
   "cell_type": "markdown",
   "id": "62316244",
   "metadata": {},
   "source": [
    "#### Operações com Lista"
   ]
  },
  {
   "cell_type": "code",
   "execution_count": 22,
   "id": "5b21cec6",
   "metadata": {},
   "outputs": [
    {
     "data": {
      "text/plain": [
       "5"
      ]
     },
     "execution_count": 22,
     "metadata": {},
     "output_type": "execute_result"
    }
   ],
   "source": [
    "# Retorna o cumprimento de uma lista\n",
    "len(my_collection)"
   ]
  },
  {
   "cell_type": "code",
   "execution_count": 25,
   "id": "1d98266e",
   "metadata": {},
   "outputs": [
    {
     "data": {
      "text/plain": [
       "[1, 1, 3.12, False, 'Hi', 'More', 'Items', 'More', 'Items']"
      ]
     },
     "execution_count": 25,
     "metadata": {},
     "output_type": "execute_result"
    }
   ],
   "source": [
    "# Adiciona múltiplos itens em uma lista\n",
    "my_collection.extend([ \"More\", \"Items\"])\n",
    "my_collection"
   ]
  },
  {
   "cell_type": "code",
   "execution_count": 27,
   "id": "8f0c9c55",
   "metadata": {},
   "outputs": [
    {
     "data": {
      "text/plain": [
       "[1, 1, 3.12, False, 'Hi', 'More', 'Items', 'More', 'Items', 'Single', 'Single']"
      ]
     },
     "execution_count": 27,
     "metadata": {},
     "output_type": "execute_result"
    }
   ],
   "source": [
    "# Adiciona um único item em uma lista\n",
    "my_collection.append(\"Single\")\n",
    "my_collection"
   ]
  },
  {
   "cell_type": "code",
   "execution_count": 28,
   "id": "e3a6d184",
   "metadata": {},
   "outputs": [],
   "source": [
    "# Apaga um objeto de uma lista com um index específico\n",
    "del(my_collection[2])"
   ]
  },
  {
   "cell_type": "code",
   "execution_count": 29,
   "id": "153705fd",
   "metadata": {},
   "outputs": [],
   "source": [
    "# Clona uma lista\n",
    "clone = my_collection[:]"
   ]
  },
  {
   "cell_type": "code",
   "execution_count": 31,
   "id": "86a1e397",
   "metadata": {},
   "outputs": [
    {
     "data": {
      "text/plain": [
       "[1,\n",
       " 1,\n",
       " False,\n",
       " 'Hi',\n",
       " 'More',\n",
       " 'Items',\n",
       " 'More',\n",
       " 'Items',\n",
       " 'Single',\n",
       " 'Single',\n",
       " 'a',\n",
       " 'b',\n",
       " 'c']"
      ]
     },
     "execution_count": 31,
     "metadata": {},
     "output_type": "execute_result"
    }
   ],
   "source": [
    "# Concatenar duas listas\n",
    "my_collection_2 = [\"a\", \"b\", \"c\"]\n",
    "my_collection_3 = my_collection + my_collection_2\n",
    "my_collection_3"
   ]
  },
  {
   "cell_type": "code",
   "execution_count": 32,
   "id": "5a0b311b",
   "metadata": {},
   "outputs": [
    {
     "data": {
      "text/plain": [
       "10.5"
      ]
     },
     "execution_count": 32,
     "metadata": {},
     "output_type": "execute_result"
    }
   ],
   "source": [
    "# Calcular a soma de uma lista de ints e floats\n",
    "number_collection = [1,2,3,4.5]\n",
    "sum(number_collection)"
   ]
  },
  {
   "cell_type": "code",
   "execution_count": 35,
   "id": "b0a73a35",
   "metadata": {},
   "outputs": [
    {
     "data": {
      "text/plain": [
       "True"
      ]
     },
     "execution_count": 35,
     "metadata": {},
     "output_type": "execute_result"
    }
   ],
   "source": [
    "# Checar se um item está em uma lista, retornar Booleano\n",
    "# item in lista\n",
    "'Hi' in my_collection"
   ]
  },
  {
   "cell_type": "code",
   "execution_count": 36,
   "id": "ce858611",
   "metadata": {},
   "outputs": [
    {
     "data": {
      "text/plain": [
       "False"
      ]
     },
     "execution_count": 36,
     "metadata": {},
     "output_type": "execute_result"
    }
   ],
   "source": [
    "# Checar se um item não está em uma lista, retornar Booleano\n",
    "# item not in lista\n",
    "'Hi' not in my_collection"
   ]
  },
  {
   "cell_type": "markdown",
   "id": "d02a2f8d",
   "metadata": {},
   "source": [
    "#### Conjunto\n",
    "- Coleção não ordenada de objetos únicos"
   ]
  },
  {
   "cell_type": "code",
   "execution_count": 37,
   "id": "3629b151",
   "metadata": {},
   "outputs": [],
   "source": [
    "a = {100, 3.12, False, \"Bye\"}\n",
    "b = {100, 3.12, \"Welcome\"}"
   ]
  },
  {
   "cell_type": "markdown",
   "id": "341e7bad",
   "metadata": {},
   "source": [
    "#### Set Operation"
   ]
  },
  {
   "cell_type": "code",
   "execution_count": 40,
   "id": "82d926c3",
   "metadata": {},
   "outputs": [
    {
     "data": {
      "text/plain": [
       "{1, 2, 3}"
      ]
     },
     "execution_count": 40,
     "metadata": {},
     "output_type": "execute_result"
    }
   ],
   "source": [
    "# Converter uma lista em um conjunto\n",
    "my_set = set([1,1,2,3])\n",
    "my_set"
   ]
  },
  {
   "cell_type": "code",
   "execution_count": 41,
   "id": "021e0737",
   "metadata": {},
   "outputs": [
    {
     "data": {
      "text/plain": [
       "{100, 3.12, 4, 'Bye', False}"
      ]
     },
     "execution_count": 41,
     "metadata": {},
     "output_type": "execute_result"
    }
   ],
   "source": [
    "# Adicionar um item em um conjunto\n",
    "a.add(4)\n",
    "a"
   ]
  },
  {
   "cell_type": "code",
   "execution_count": 42,
   "id": "c5150daf",
   "metadata": {},
   "outputs": [
    {
     "data": {
      "text/plain": [
       "{False, 3.12, 4, 100}"
      ]
     },
     "execution_count": 42,
     "metadata": {},
     "output_type": "execute_result"
    }
   ],
   "source": [
    "# Remover um item de um conjunto\n",
    "a.remove(\"Bye\")\n",
    "a"
   ]
  },
  {
   "cell_type": "code",
   "execution_count": 43,
   "id": "8dd90e45",
   "metadata": {},
   "outputs": [
    {
     "data": {
      "text/plain": [
       "{False, 3.12, 4, 100}"
      ]
     },
     "execution_count": 43,
     "metadata": {},
     "output_type": "execute_result"
    }
   ],
   "source": [
    "# Retorna a interseção do conjunto a e b\n",
    "a.intersection(b)\n",
    "a"
   ]
  },
  {
   "cell_type": "code",
   "execution_count": 44,
   "id": "990ff5b1",
   "metadata": {},
   "outputs": [
    {
     "data": {
      "text/plain": [
       "{False, 3.12, 4, 100}"
      ]
     },
     "execution_count": 44,
     "metadata": {},
     "output_type": "execute_result"
    }
   ],
   "source": [
    "# Retorna a união de um conjunto a e b\n",
    "a.union(b)\n",
    "a"
   ]
  },
  {
   "cell_type": "code",
   "execution_count": 45,
   "id": "01e094e6",
   "metadata": {},
   "outputs": [
    {
     "data": {
      "text/plain": [
       "False"
      ]
     },
     "execution_count": 45,
     "metadata": {},
     "output_type": "execute_result"
    }
   ],
   "source": [
    "# Retorna True se a for um subconjunto de b, false caso contrário\n",
    "a.issubset (b)"
   ]
  },
  {
   "cell_type": "code",
   "execution_count": 46,
   "id": "cb60cf0d",
   "metadata": {},
   "outputs": [
    {
     "data": {
      "text/plain": [
       "False"
      ]
     },
     "execution_count": 46,
     "metadata": {},
     "output_type": "execute_result"
    }
   ],
   "source": [
    "# Retorna True se a for um superconjunto de b, false caso contrário\n",
    "a.issuperset(b)"
   ]
  },
  {
   "cell_type": "markdown",
   "id": "f30d24c2",
   "metadata": {},
   "source": [
    "#### Indexing\n",
    "-  Acessando dados de uma string, lista ou tupla usando um elemento numérico"
   ]
  },
  {
   "cell_type": "code",
   "execution_count": 50,
   "id": "d90f2d7c",
   "metadata": {},
   "outputs": [
    {
     "data": {
      "text/plain": [
       "'e'"
      ]
     },
     "execution_count": 50,
     "metadata": {},
     "output_type": "execute_result"
    }
   ],
   "source": [
    "# string[element_number]\n",
    "my_string[1]"
   ]
  },
  {
   "cell_type": "code",
   "execution_count": 51,
   "id": "ec31b17f",
   "metadata": {},
   "outputs": [
    {
     "data": {
      "text/plain": [
       "1"
      ]
     },
     "execution_count": 51,
     "metadata": {},
     "output_type": "execute_result"
    }
   ],
   "source": [
    "# coleção[element_number]\n",
    "my_collection[1]"
   ]
  },
  {
   "cell_type": "code",
   "execution_count": 52,
   "id": "61280149",
   "metadata": {},
   "outputs": [
    {
     "data": {
      "text/plain": [
       "3.12"
      ]
     },
     "execution_count": 52,
     "metadata": {},
     "output_type": "execute_result"
    }
   ],
   "source": [
    "# tupla[element_number]\n",
    "tup[1]"
   ]
  },
  {
   "cell_type": "markdown",
   "id": "4daafe80",
   "metadata": {},
   "source": [
    "#### Slicing\n",
    "- Acessando um conjunto de dados de uma string, lista ou tupla usando elementos numéricos."
   ]
  },
  {
   "cell_type": "code",
   "execution_count": 53,
   "id": "15501266",
   "metadata": {},
   "outputs": [
    {
     "data": {
      "text/plain": [
       "'H'"
      ]
     },
     "execution_count": 53,
     "metadata": {},
     "output_type": "execute_result"
    }
   ],
   "source": [
    "# string[start:stop]\n",
    "my_string[0:1]"
   ]
  },
  {
   "cell_type": "code",
   "execution_count": 54,
   "id": "602f764f",
   "metadata": {},
   "outputs": [
    {
     "data": {
      "text/plain": [
       "[1]"
      ]
     },
     "execution_count": 54,
     "metadata": {},
     "output_type": "execute_result"
    }
   ],
   "source": [
    "# collection[start:stop]\n",
    "my_collection[0:1]"
   ]
  },
  {
   "cell_type": "code",
   "execution_count": 55,
   "id": "b2b55218",
   "metadata": {},
   "outputs": [
    {
     "data": {
      "text/plain": [
       "(1,)"
      ]
     },
     "execution_count": 55,
     "metadata": {},
     "output_type": "execute_result"
    }
   ],
   "source": [
    "# tupla[start:stop]\n",
    "tup[0:1]"
   ]
  },
  {
   "cell_type": "markdown",
   "id": "b2b46f2f",
   "metadata": {},
   "source": [
    "### Operadores de comparação\n",
    "- Os operadores de comparação comparam operandos e retornam um resultado verdadeiro ou falso"
   ]
  },
  {
   "cell_type": "code",
   "execution_count": 56,
   "id": "4b3696f3",
   "metadata": {},
   "outputs": [
    {
     "data": {
      "text/plain": [
       "False"
      ]
     },
     "execution_count": 56,
     "metadata": {},
     "output_type": "execute_result"
    }
   ],
   "source": [
    "# Igual\n",
    "a == b"
   ]
  },
  {
   "cell_type": "code",
   "execution_count": 57,
   "id": "c3f8db0d",
   "metadata": {},
   "outputs": [
    {
     "data": {
      "text/plain": [
       "False"
      ]
     },
     "execution_count": 57,
     "metadata": {},
     "output_type": "execute_result"
    }
   ],
   "source": [
    "# Menor que\n",
    "a < b"
   ]
  },
  {
   "cell_type": "code",
   "execution_count": 58,
   "id": "b9267705",
   "metadata": {},
   "outputs": [
    {
     "data": {
      "text/plain": [
       "False"
      ]
     },
     "execution_count": 58,
     "metadata": {},
     "output_type": "execute_result"
    }
   ],
   "source": [
    "# Maior que\n",
    "a > b"
   ]
  },
  {
   "cell_type": "code",
   "execution_count": 59,
   "id": "012cce50",
   "metadata": {},
   "outputs": [
    {
     "data": {
      "text/plain": [
       "False"
      ]
     },
     "execution_count": 59,
     "metadata": {},
     "output_type": "execute_result"
    }
   ],
   "source": [
    "# Maior ou igual que\n",
    "a >= b"
   ]
  },
  {
   "cell_type": "code",
   "execution_count": 60,
   "id": "a6d3b881",
   "metadata": {},
   "outputs": [
    {
     "data": {
      "text/plain": [
       "False"
      ]
     },
     "execution_count": 60,
     "metadata": {},
     "output_type": "execute_result"
    }
   ],
   "source": [
    "# Menor ou igual que\n",
    "a <= b"
   ]
  },
  {
   "cell_type": "code",
   "execution_count": 61,
   "id": "6e6597c0",
   "metadata": {},
   "outputs": [
    {
     "data": {
      "text/plain": [
       "True"
      ]
     },
     "execution_count": 61,
     "metadata": {},
     "output_type": "execute_result"
    }
   ],
   "source": [
    "# Diferente\n",
    "a != b"
   ]
  },
  {
   "cell_type": "markdown",
   "id": "c06df566",
   "metadata": {},
   "source": [
    "### Operadores\n",
    "- i + : Adição\n",
    "- i - : Subtração\n",
    "- i * : Multiplicação\n",
    "- i / : Divisão\n",
    "- i // : Divisão Inteira (Resultado arredondado para o inteiro mais próximo) "
   ]
  },
  {
   "cell_type": "markdown",
   "id": "7f93820d",
   "metadata": {},
   "source": [
    "### Condicionais\n",
    "- Operadores condicionais avaliam os operandos e produzem um resultado verdadeiro ou falso"
   ]
  },
  {
   "cell_type": "code",
   "execution_count": 62,
   "id": "fabe5c4a",
   "metadata": {},
   "outputs": [
    {
     "data": {
      "text/plain": [
       "{100, 3.12, 'Welcome'}"
      ]
     },
     "execution_count": 62,
     "metadata": {},
     "output_type": "execute_result"
    }
   ],
   "source": [
    "# \"and\" - Retorna verdadeiro se ambas as afirmações a e b forem verdadeiras, caso contrário, é falso\n",
    "a and b"
   ]
  },
  {
   "cell_type": "code",
   "execution_count": 63,
   "id": "0bcb0253",
   "metadata": {},
   "outputs": [
    {
     "data": {
      "text/plain": [
       "{False, 3.12, 4, 100}"
      ]
     },
     "execution_count": 63,
     "metadata": {},
     "output_type": "execute_result"
    }
   ],
   "source": [
    "# \"or\" - retorna verdadeiro se as afirmações a ou b forem verdadeiras, caso contrário, é falso\n",
    "a or b"
   ]
  },
  {
   "cell_type": "code",
   "execution_count": 64,
   "id": "4bb0f625",
   "metadata": {},
   "outputs": [
    {
     "data": {
      "text/plain": [
       "False"
      ]
     },
     "execution_count": 64,
     "metadata": {},
     "output_type": "execute_result"
    }
   ],
   "source": [
    "# Não retorna o oposto da instrução\n",
    "not a"
   ]
  },
  {
   "cell_type": "markdown",
   "id": "cb55fc21",
   "metadata": {},
   "source": [
    "### Loops"
   ]
  },
  {
   "cell_type": "markdown",
   "id": "9e139dce",
   "metadata": {},
   "source": [
    "#### For"
   ]
  },
  {
   "cell_type": "code",
   "execution_count": null,
   "id": "d55a279a",
   "metadata": {},
   "outputs": [],
   "source": [
    "for x in range(x):\n",
    " # Executes loop x number of time"
   ]
  },
  {
   "cell_type": "code",
   "execution_count": null,
   "id": "41e14dd5",
   "metadata": {},
   "outputs": [],
   "source": [
    "for x in iterable:\n",
    " # Executes loop for each object in an iterable like a string, tuple, \n",
    "list, or set"
   ]
  },
  {
   "cell_type": "markdown",
   "id": "5cd06d37",
   "metadata": {},
   "source": [
    "#### While"
   ]
  },
  {
   "cell_type": "code",
   "execution_count": null,
   "id": "ad4bb329",
   "metadata": {},
   "outputs": [],
   "source": [
    "while statement:\n",
    " # Executes the loop while statement is true"
   ]
  },
  {
   "cell_type": "markdown",
   "id": "97e7c7a5",
   "metadata": {},
   "source": [
    "### Declarações condicionais"
   ]
  },
  {
   "cell_type": "code",
   "execution_count": null,
   "id": "e6f4f2e6",
   "metadata": {},
   "outputs": [],
   "source": [
    "if statement_1:\n",
    "    \n",
    " # Execute of statement_1 is true\n",
    "\n",
    "elif statement_2:\n",
    "\n",
    " # Execute if statement_1 is false and statement_2 is true\n",
    "\n",
    "else:\n",
    "\n",
    " # Execute if all previous statements are false"
   ]
  },
  {
   "cell_type": "markdown",
   "id": "a1337690",
   "metadata": {},
   "source": [
    "### Try/Except"
   ]
  },
  {
   "cell_type": "code",
   "execution_count": null,
   "id": "88ab6ab7",
   "metadata": {},
   "outputs": [],
   "source": [
    "try:\n",
    "\n",
    " # Code to try to execute\n",
    "\n",
    "except a:\n",
    "\n",
    " # Code to execute if there is an error of type a\n",
    "\n",
    "except b:\n",
    "\n",
    " # Code to execute if there is an error of type b\n",
    "\n",
    "except:\n",
    "\n",
    " # Code to execute if there is any exception that has not been handled \n",
    "\n",
    "else:\n",
    "\n",
    " # Code to execute if there is no exception"
   ]
  },
  {
   "cell_type": "markdown",
   "id": "1b8e60c7",
   "metadata": {},
   "source": [
    "### Tipos de erros\n",
    "- IndexError - Quando um index está fora da faixa.\n",
    "- NameError - Quando o nome de uma variável não é encontrada.\n",
    "- SintaxError - Quando há um erro na escrita do código.\n",
    "- ZeroDivisionError - Quando seu código tenta dividir por zero."
   ]
  },
  {
   "cell_type": "markdown",
   "id": "f4a2db52",
   "metadata": {},
   "source": [
    "### Range"
   ]
  },
  {
   "cell_type": "code",
   "execution_count": 2,
   "id": "255f0f4b",
   "metadata": {},
   "outputs": [
    {
     "data": {
      "text/plain": [
       "range(0, 10)"
      ]
     },
     "execution_count": 2,
     "metadata": {},
     "output_type": "execute_result"
    }
   ],
   "source": [
    "# Produza uma sequência iterável de 0 a parada -1\n",
    "# range(stop)\n",
    "range(10)"
   ]
  },
  {
   "cell_type": "code",
   "execution_count": 3,
   "id": "62db856b",
   "metadata": {},
   "outputs": [
    {
     "data": {
      "text/plain": [
       "range(2, 10, 2)"
      ]
     },
     "execution_count": 3,
     "metadata": {},
     "output_type": "execute_result"
    }
   ],
   "source": [
    "# Produza uma sequência iterável do início ao fim - 1 incrementando por etapa\n",
    "# range(start, stop, step)\n",
    "range(2, 10, 2)"
   ]
  },
  {
   "cell_type": "markdown",
   "id": "f25e2950",
   "metadata": {},
   "source": [
    "### Websacrapping"
   ]
  },
  {
   "cell_type": "code",
   "execution_count": null,
   "id": "dbe13799",
   "metadata": {},
   "outputs": [],
   "source": [
    "# Importar BeautifulSoup\n",
    "from bs4 import BeautifulSoup"
   ]
  },
  {
   "cell_type": "code",
   "execution_count": null,
   "id": "4238ed5d",
   "metadata": {},
   "outputs": [],
   "source": [
    "# Analisa o HTML armazenado como uma string \n",
    "soup = BeautifulSoup(html, 'html5lib')"
   ]
  },
  {
   "cell_type": "code",
   "execution_count": null,
   "id": "c413a06c",
   "metadata": {},
   "outputs": [],
   "source": [
    "# Retorna html formatado\n",
    "soup.prettify()"
   ]
  },
  {
   "cell_type": "code",
   "execution_count": null,
   "id": "36b1d133",
   "metadata": {},
   "outputs": [],
   "source": [
    "# Encontre a primeira instância de uma tag HTML\n",
    "soup.find(tag)"
   ]
  },
  {
   "cell_type": "code",
   "execution_count": null,
   "id": "516efebd",
   "metadata": {},
   "outputs": [],
   "source": [
    "# Encontre todas as instâncias de uma tag HTML\n",
    "soup.find_all(tag)"
   ]
  },
  {
   "cell_type": "markdown",
   "id": "f40d52f3",
   "metadata": {},
   "source": [
    "### Solicitações"
   ]
  },
  {
   "cell_type": "code",
   "execution_count": null,
   "id": "2a727bfa",
   "metadata": {},
   "outputs": [],
   "source": [
    "# Importar a biblioteca requests\n",
    "import requests"
   ]
  },
  {
   "cell_type": "code",
   "execution_count": null,
   "id": "eed056e5",
   "metadata": {},
   "outputs": [],
   "source": [
    "# Envie uma solicitação get para o url com parâmetros opcionais\n",
    "response = requests.get(url, parameters)"
   ]
  },
  {
   "cell_type": "code",
   "execution_count": null,
   "id": "d2162b1a",
   "metadata": {},
   "outputs": [],
   "source": [
    "# Obtenha o url da resposta\n",
    "response.url\n",
    "\n",
    "# Obtenha o código de status da resposta\n",
    "response.status_code\n",
    "\n",
    "# Obtenha os cabeçalhos da solicitação\n",
    "response.request.headers\n",
    "\n",
    "# Obtenha o corpo das solicitações\n",
    "response.request.body\n",
    "\n",
    "# Obtenha os cabeçalhos da resposta\n",
    "response.headers\n",
    "\n",
    "# Obtenha o conteúdo da resposta em texto\n",
    "response.text\n",
    "\n",
    "# Obtenha o conteúdo da resposta em json\n",
    "response.json()\n",
    "\n",
    "# Envie solicitações de postagem para o url com parâmetros opcionais\n",
    "requests.post(url, parameters)"
   ]
  },
  {
   "cell_type": "markdown",
   "id": "7c23ab8e",
   "metadata": {},
   "source": [
    "### Funções"
   ]
  },
  {
   "cell_type": "code",
   "execution_count": null,
   "id": "fcf8c4fe",
   "metadata": {},
   "outputs": [],
   "source": [
    "# Criar uma função\n",
    "def function_name(optional_parameter_1, optional_prameter_2):\n",
    "    # Código para executar\n",
    "    return optional_output"
   ]
  },
  {
   "cell_type": "code",
   "execution_count": null,
   "id": "c2b897a4",
   "metadata": {},
   "outputs": [],
   "source": [
    "# Chamando a função\n",
    "output = function_name(parameter_1, parameter_2)"
   ]
  },
  {
   "cell_type": "markdown",
   "id": "0b0808b3",
   "metadata": {},
   "source": [
    "### Trabalhando com arquivos"
   ]
  },
  {
   "cell_type": "markdown",
   "id": "250ec8ab",
   "metadata": {},
   "source": [
    "#### Lendo um arquivo"
   ]
  },
  {
   "cell_type": "code",
   "execution_count": null,
   "id": "c4a3e45e",
   "metadata": {},
   "outputs": [],
   "source": [
    "# Abrir um arquivo no modo de leitura\n",
    "file = open(file_name, r\")\n",
    "\n",
    "# Retornar o nome de um arquivo\n",
    "file.name\n",
    "\n",
    "# Retornar o modo do arquivo que foi aberto\n",
    "file.mode"
   ]
  },
  {
   "cell_type": "code",
   "execution_count": null,
   "id": "dff37916",
   "metadata": {},
   "outputs": [],
   "source": [
    "# Ler o conteudo de um arquivo\n",
    "file.read()"
   ]
  },
  {
   "cell_type": "code",
   "execution_count": null,
   "id": "25f43901",
   "metadata": {},
   "outputs": [],
   "source": [
    "# Ler um certo número de caracteres de um arquivo\n",
    "file.read(characters)"
   ]
  },
  {
   "cell_type": "code",
   "execution_count": null,
   "id": "30b979be",
   "metadata": {},
   "outputs": [],
   "source": [
    "# Ler uma única linha de um arquivo\n",
    "file.readline()"
   ]
  },
  {
   "cell_type": "code",
   "execution_count": null,
   "id": "d91a315c",
   "metadata": {},
   "outputs": [],
   "source": [
    "# Ler todas as linhas e um arquivo\n",
    "file.readlines()"
   ]
  },
  {
   "cell_type": "code",
   "execution_count": null,
   "id": "ff6b3352",
   "metadata": {},
   "outputs": [],
   "source": [
    "# Fechar o arquivo\n",
    "file.close()"
   ]
  },
  {
   "cell_type": "markdown",
   "id": "001d0363",
   "metadata": {},
   "source": [
    "#### Writing to a File"
   ]
  },
  {
   "cell_type": "code",
   "execution_count": null,
   "id": "49a3be28",
   "metadata": {},
   "outputs": [],
   "source": [
    "# Abrir um arquivo no modo de escrita\n",
    "file = open(file_name, w )"
   ]
  },
  {
   "cell_type": "code",
   "execution_count": null,
   "id": "4b2dfdb2",
   "metadata": {},
   "outputs": [],
   "source": [
    "# Escrever conteúdo em um arquivo\n",
    "file.write(content)"
   ]
  },
  {
   "cell_type": "code",
   "execution_count": null,
   "id": "e50854ec",
   "metadata": {},
   "outputs": [],
   "source": [
    "# Adicionar conteúdo no fim de um arquivo\n",
    "file.append(content)"
   ]
  },
  {
   "cell_type": "markdown",
   "id": "fd46b2c3",
   "metadata": {},
   "source": [
    "### Objetos e classes"
   ]
  },
  {
   "cell_type": "code",
   "execution_count": null,
   "id": "9f25a4de",
   "metadata": {},
   "outputs": [],
   "source": [
    "# Criando uma classe\n",
    "class class_name:\n",
    " def __init__(self. optional_parameter_1, optional_parameter_2):\n",
    " self.attribute_1 = optional_parameter_1\n",
    " self.attribute_2 = optional_parameter_2\n",
    "\n",
    "\n",
    " def method_name(self, optional_parameter_1):\n",
    " # Code to execute\n",
    " return optional_output"
   ]
  },
  {
   "cell_type": "code",
   "execution_count": null,
   "id": "3d6d7cd1",
   "metadata": {},
   "outputs": [],
   "source": [
    "# Chamando um método de objeto\n",
    "object.method_name(parameter_3)"
   ]
  }
 ],
 "metadata": {
  "kernelspec": {
   "display_name": "Python 3",
   "language": "python",
   "name": "python3"
  },
  "language_info": {
   "codemirror_mode": {
    "name": "ipython",
    "version": 3
   },
   "file_extension": ".py",
   "mimetype": "text/x-python",
   "name": "python",
   "nbconvert_exporter": "python",
   "pygments_lexer": "ipython3",
   "version": "3.8.8"
  }
 },
 "nbformat": 4,
 "nbformat_minor": 5
}
