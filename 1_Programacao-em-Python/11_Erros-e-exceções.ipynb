{
 "cells": [
  {
   "cell_type": "markdown",
   "id": "62b85b47",
   "metadata": {},
   "source": [
    "# 11. Tratamento de erros e exceções¶\n",
    "\n",
    "- NameError: variável nao foi definida\n",
    "- TypeError: tipos de dados incompatíveis\n",
    "- RuntimeError: erro de execução\n",
    "- SyntaxError: sintaxe digitada é inválida e não reconhecida pelo interpretador\n",
    "- ZeroDivisionError: divisão por zero\n",
    "- IndexError: índice está fora da coleção"
   ]
  },
  {
   "cell_type": "markdown",
   "id": "45cf9556",
   "metadata": {},
   "source": [
    "## 11.1. Tipos de erros"
   ]
  },
  {
   "cell_type": "code",
   "execution_count": 1,
   "id": "b9188082",
   "metadata": {},
   "outputs": [
    {
     "ename": "SyntaxError",
     "evalue": "cannot assign to literal (<ipython-input-1-effb9ca1a7d0>, line 1)",
     "output_type": "error",
     "traceback": [
      "\u001b[1;36m  File \u001b[1;32m\"<ipython-input-1-effb9ca1a7d0>\"\u001b[1;36m, line \u001b[1;32m1\u001b[0m\n\u001b[1;33m    3 = 4\u001b[0m\n\u001b[1;37m    ^\u001b[0m\n\u001b[1;31mSyntaxError\u001b[0m\u001b[1;31m:\u001b[0m cannot assign to literal\n"
     ]
    }
   ],
   "source": [
    "3 = 4"
   ]
  },
  {
   "cell_type": "code",
   "execution_count": 2,
   "id": "7914021e",
   "metadata": {},
   "outputs": [
    {
     "ename": "NameError",
     "evalue": "name 'nome' is not defined",
     "output_type": "error",
     "traceback": [
      "\u001b[1;31m---------------------------------------------------------------------------\u001b[0m",
      "\u001b[1;31mNameError\u001b[0m                                 Traceback (most recent call last)",
      "\u001b[1;32m<ipython-input-2-8814f7563975>\u001b[0m in \u001b[0;36m<module>\u001b[1;34m\u001b[0m\n\u001b[1;32m----> 1\u001b[1;33m \u001b[0mprint\u001b[0m\u001b[1;33m(\u001b[0m\u001b[1;34m'Meu nome é'\u001b[0m\u001b[1;33m,\u001b[0m \u001b[0mnome\u001b[0m\u001b[1;33m)\u001b[0m\u001b[1;33m\u001b[0m\u001b[1;33m\u001b[0m\u001b[0m\n\u001b[0m",
      "\u001b[1;31mNameError\u001b[0m: name 'nome' is not defined"
     ]
    }
   ],
   "source": [
    "print('Meu nome é', nome)"
   ]
  },
  {
   "cell_type": "code",
   "execution_count": 3,
   "id": "f6eb7c78",
   "metadata": {},
   "outputs": [
    {
     "ename": "ZeroDivisionError",
     "evalue": "division by zero",
     "output_type": "error",
     "traceback": [
      "\u001b[1;31m---------------------------------------------------------------------------\u001b[0m",
      "\u001b[1;31mZeroDivisionError\u001b[0m                         Traceback (most recent call last)",
      "\u001b[1;32m<ipython-input-3-76ea80225931>\u001b[0m in \u001b[0;36m<module>\u001b[1;34m\u001b[0m\n\u001b[1;32m----> 1\u001b[1;33m \u001b[0mprint\u001b[0m\u001b[1;33m(\u001b[0m\u001b[1;36m3\u001b[0m \u001b[1;33m/\u001b[0m \u001b[1;36m0\u001b[0m\u001b[1;33m)\u001b[0m\u001b[1;33m\u001b[0m\u001b[1;33m\u001b[0m\u001b[0m\n\u001b[0m",
      "\u001b[1;31mZeroDivisionError\u001b[0m: division by zero"
     ]
    }
   ],
   "source": [
    "print(3 / 0)"
   ]
  },
  {
   "cell_type": "code",
   "execution_count": 4,
   "id": "7611df44",
   "metadata": {},
   "outputs": [
    {
     "ename": "TypeError",
     "evalue": "unsupported operand type(s) for /: 'float' and 'str'",
     "output_type": "error",
     "traceback": [
      "\u001b[1;31m---------------------------------------------------------------------------\u001b[0m",
      "\u001b[1;31mTypeError\u001b[0m                                 Traceback (most recent call last)",
      "\u001b[1;32m<ipython-input-4-48ef6fd474fe>\u001b[0m in \u001b[0;36m<module>\u001b[1;34m\u001b[0m\n\u001b[1;32m----> 1\u001b[1;33m \u001b[1;36m2.3\u001b[0m \u001b[1;33m/\u001b[0m \u001b[1;34m'cachorro'\u001b[0m\u001b[1;33m\u001b[0m\u001b[1;33m\u001b[0m\u001b[0m\n\u001b[0m",
      "\u001b[1;31mTypeError\u001b[0m: unsupported operand type(s) for /: 'float' and 'str'"
     ]
    }
   ],
   "source": [
    "2.3 / 'cachorro'"
   ]
  },
  {
   "cell_type": "code",
   "execution_count": 5,
   "id": "8e8bd905",
   "metadata": {},
   "outputs": [
    {
     "data": {
      "text/plain": [
       "[1, 2, 3, 4, 5]"
      ]
     },
     "execution_count": 5,
     "metadata": {},
     "output_type": "execute_result"
    }
   ],
   "source": [
    "c = [1,2,3,4,5]\n",
    "c"
   ]
  },
  {
   "cell_type": "code",
   "execution_count": 6,
   "id": "0791950f",
   "metadata": {},
   "outputs": [
    {
     "ename": "IndexError",
     "evalue": "list index out of range",
     "output_type": "error",
     "traceback": [
      "\u001b[1;31m---------------------------------------------------------------------------\u001b[0m",
      "\u001b[1;31mIndexError\u001b[0m                                Traceback (most recent call last)",
      "\u001b[1;32m<ipython-input-6-513c54dffebd>\u001b[0m in \u001b[0;36m<module>\u001b[1;34m\u001b[0m\n\u001b[1;32m----> 1\u001b[1;33m \u001b[0mc\u001b[0m\u001b[1;33m[\u001b[0m\u001b[1;36m5\u001b[0m\u001b[1;33m]\u001b[0m\u001b[1;33m\u001b[0m\u001b[1;33m\u001b[0m\u001b[0m\n\u001b[0m",
      "\u001b[1;31mIndexError\u001b[0m: list index out of range"
     ]
    }
   ],
   "source": [
    "c[5]"
   ]
  },
  {
   "cell_type": "markdown",
   "id": "6ea7a077",
   "metadata": {},
   "source": [
    "## 11.2. Tratamento dos erros"
   ]
  },
  {
   "cell_type": "code",
   "execution_count": 7,
   "id": "554e40f0",
   "metadata": {},
   "outputs": [
    {
     "name": "stdout",
     "output_type": "stream",
     "text": [
      "Digite um número inteiro: 1\n",
      "Valor digitado é 1\n"
     ]
    }
   ],
   "source": [
    "try:\n",
    "  n = int(input('Digite um número inteiro: '))\n",
    "except:\n",
    "  print('Valor inválido')\n",
    "else:\n",
    "  print(f'Valor digitado é {n}')"
   ]
  },
  {
   "cell_type": "code",
   "execution_count": 8,
   "id": "2d563096",
   "metadata": {},
   "outputs": [
    {
     "name": "stdout",
     "output_type": "stream",
     "text": [
      "Digite um número inteiro: 2\n",
      "Valor digitado é 2\n"
     ]
    }
   ],
   "source": [
    "while True:\n",
    "  try:\n",
    "    n = int(input('Digite um número inteiro: '))\n",
    "  except:\n",
    "    print('Valor inválido')\n",
    "  else:\n",
    "    print(f'Valor digitado é {n}')\n",
    "    break"
   ]
  },
  {
   "cell_type": "code",
   "execution_count": 9,
   "id": "01371bfd",
   "metadata": {},
   "outputs": [
    {
     "name": "stdout",
     "output_type": "stream",
     "text": [
      "Digite um número inteiro: 4\n",
      "Valor digitado é 4\n"
     ]
    }
   ],
   "source": [
    "while True:\n",
    "  try:\n",
    "    p = int(input('Digite um número inteiro: '))\n",
    "  except ValueError:\n",
    "    print('Valor inválido')\n",
    "  except KeyboardInterrupt:\n",
    "    print('Usuário interrompeu a execução')\n",
    "    break\n",
    "  else:\n",
    "    print(f'Valor digitado é {p}')\n",
    "    break"
   ]
  },
  {
   "cell_type": "code",
   "execution_count": null,
   "id": "834bf296",
   "metadata": {},
   "outputs": [],
   "source": []
  }
 ],
 "metadata": {
  "kernelspec": {
   "display_name": "Python 3",
   "language": "python",
   "name": "python3"
  },
  "language_info": {
   "codemirror_mode": {
    "name": "ipython",
    "version": 3
   },
   "file_extension": ".py",
   "mimetype": "text/x-python",
   "name": "python",
   "nbconvert_exporter": "python",
   "pygments_lexer": "ipython3",
   "version": "3.8.8"
  }
 },
 "nbformat": 4,
 "nbformat_minor": 5
}
