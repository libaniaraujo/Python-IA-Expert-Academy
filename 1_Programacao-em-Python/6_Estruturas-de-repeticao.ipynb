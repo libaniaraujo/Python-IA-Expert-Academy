{
 "cells": [
  {
   "cell_type": "markdown",
   "id": "ff31e3a8",
   "metadata": {},
   "source": [
    "# 6. Estruturas de repetição - for e while"
   ]
  },
  {
   "cell_type": "markdown",
   "id": "00faf437",
   "metadata": {},
   "source": [
    "## 6.1. Estruturas de repetição - for"
   ]
  },
  {
   "cell_type": "code",
   "execution_count": 1,
   "id": "f44854a2",
   "metadata": {},
   "outputs": [
    {
     "name": "stdout",
     "output_type": "stream",
     "text": [
      "1\n",
      "2\n",
      "3\n",
      "4\n",
      "5\n"
     ]
    }
   ],
   "source": [
    "print(1)\n",
    "print(2)\n",
    "print(3)\n",
    "print(4)\n",
    "print(5)"
   ]
  },
  {
   "cell_type": "code",
   "execution_count": 2,
   "id": "9a1260a4",
   "metadata": {},
   "outputs": [
    {
     "name": "stdout",
     "output_type": "stream",
     "text": [
      "1\n",
      "2\n",
      "3\n",
      "4\n",
      "5\n"
     ]
    }
   ],
   "source": [
    "for numero in range(1, 6):\n",
    "  print(numero)"
   ]
  },
  {
   "cell_type": "code",
   "execution_count": 3,
   "id": "939f5067",
   "metadata": {},
   "outputs": [
    {
     "name": "stdout",
     "output_type": "stream",
     "text": [
      "5\n",
      "4\n",
      "3\n",
      "2\n",
      "1\n"
     ]
    }
   ],
   "source": [
    "for numero in range(5, 0, -1):\n",
    "  print(numero)"
   ]
  },
  {
   "cell_type": "code",
   "execution_count": 4,
   "id": "3f53a0c6",
   "metadata": {},
   "outputs": [
    {
     "data": {
      "text/plain": [
       "15"
      ]
     },
     "execution_count": 4,
     "metadata": {},
     "output_type": "execute_result"
    }
   ],
   "source": [
    "5 + 4 + 3 + 2 + 1"
   ]
  },
  {
   "cell_type": "code",
   "execution_count": 5,
   "id": "ce9b78e9",
   "metadata": {},
   "outputs": [
    {
     "name": "stdout",
     "output_type": "stream",
     "text": [
      "15\n"
     ]
    }
   ],
   "source": [
    "soma = 0 \n",
    "for numero in range(1, 6):\n",
    "    soma = soma + numero\n",
    "print(soma)"
   ]
  },
  {
   "cell_type": "code",
   "execution_count": 6,
   "id": "a634896c",
   "metadata": {},
   "outputs": [
    {
     "name": "stdout",
     "output_type": "stream",
     "text": [
      "Achou a letra v\n"
     ]
    }
   ],
   "source": [
    "palavra = 'sorvete'\n",
    "for letra in palavra:\n",
    "    if letra == 'v':\n",
    "        print('Achou a letra v')"
   ]
  },
  {
   "cell_type": "code",
   "execution_count": 7,
   "id": "a16cc32a",
   "metadata": {},
   "outputs": [
    {
     "name": "stdout",
     "output_type": "stream",
     "text": [
      "0\n",
      "---\n",
      "0\n",
      "1\n",
      "2\n",
      "\n",
      "1\n",
      "---\n",
      "0\n",
      "1\n",
      "2\n",
      "\n",
      "2\n",
      "---\n",
      "0\n",
      "1\n",
      "2\n",
      "\n",
      "3\n",
      "---\n",
      "0\n",
      "1\n",
      "2\n",
      "\n",
      "4\n",
      "---\n",
      "0\n",
      "1\n",
      "2\n",
      "\n"
     ]
    }
   ],
   "source": [
    "for i in range(0,5):\n",
    "  print(i)\n",
    "  print('---')\n",
    "  for j in range(0,3):\n",
    "    print(j)\n",
    "  print()"
   ]
  },
  {
   "cell_type": "markdown",
   "id": "4dd61b95",
   "metadata": {},
   "source": [
    "## 6.2. Estruturas de repetição - while"
   ]
  },
  {
   "cell_type": "code",
   "execution_count": 8,
   "id": "c46c1a75",
   "metadata": {},
   "outputs": [
    {
     "name": "stdout",
     "output_type": "stream",
     "text": [
      "1\n",
      "2\n",
      "3\n",
      "4\n",
      "5\n",
      "---\n"
     ]
    }
   ],
   "source": [
    "numero = 1\n",
    "while numero < 6:\n",
    "  print(numero)\n",
    "  numero += 1\n",
    "print('---')"
   ]
  },
  {
   "cell_type": "code",
   "execution_count": 9,
   "id": "78135d65",
   "metadata": {},
   "outputs": [
    {
     "name": "stdout",
     "output_type": "stream",
     "text": [
      "5\n",
      "4\n",
      "3\n",
      "2\n",
      "1\n"
     ]
    }
   ],
   "source": [
    "numero = 5\n",
    "while numero > 0:\n",
    "  print(numero)\n",
    "  numero -= 1"
   ]
  },
  {
   "cell_type": "code",
   "execution_count": 10,
   "id": "0d813d76",
   "metadata": {},
   "outputs": [
    {
     "data": {
      "text/plain": [
       "15"
      ]
     },
     "execution_count": 10,
     "metadata": {},
     "output_type": "execute_result"
    }
   ],
   "source": [
    "1 + 2 + 3 + 4 + 5"
   ]
  },
  {
   "cell_type": "code",
   "execution_count": 12,
   "id": "b2d3e3f8",
   "metadata": {},
   "outputs": [
    {
     "name": "stdout",
     "output_type": "stream",
     "text": [
      "15\n"
     ]
    }
   ],
   "source": [
    "soma = 0\n",
    "numero = 1\n",
    "while numero < 6:\n",
    "  soma += numero\n",
    "  numero += 1\n",
    "print(soma)"
   ]
  },
  {
   "cell_type": "code",
   "execution_count": 13,
   "id": "26788ab4",
   "metadata": {},
   "outputs": [
    {
     "name": "stdout",
     "output_type": "stream",
     "text": [
      "Digite um número de 1 a 10: 3\n"
     ]
    }
   ],
   "source": [
    "numero = 12\n",
    "while numero < 1 or numero > 10:\n",
    "  numero = int(input('Digite um número de 1 a 10: '))"
   ]
  },
  {
   "cell_type": "code",
   "execution_count": null,
   "id": "6fe5afd6",
   "metadata": {},
   "outputs": [],
   "source": []
  }
 ],
 "metadata": {
  "kernelspec": {
   "display_name": "Python 3",
   "language": "python",
   "name": "python3"
  },
  "language_info": {
   "codemirror_mode": {
    "name": "ipython",
    "version": 3
   },
   "file_extension": ".py",
   "mimetype": "text/x-python",
   "name": "python",
   "nbconvert_exporter": "python",
   "pygments_lexer": "ipython3",
   "version": "3.8.8"
  }
 },
 "nbformat": 4,
 "nbformat_minor": 5
}
