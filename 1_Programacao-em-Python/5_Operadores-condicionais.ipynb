{
 "cells": [
  {
   "cell_type": "markdown",
   "id": "4d3adbe6",
   "metadata": {},
   "source": [
    "# 5. Operadores condicionais"
   ]
  },
  {
   "cell_type": "code",
   "execution_count": 1,
   "id": "f66831b1",
   "metadata": {},
   "outputs": [
    {
     "data": {
      "text/plain": [
       "True"
      ]
     },
     "execution_count": 1,
     "metadata": {},
     "output_type": "execute_result"
    }
   ],
   "source": [
    "5 > 3"
   ]
  },
  {
   "cell_type": "code",
   "execution_count": 2,
   "id": "7419fc1c",
   "metadata": {},
   "outputs": [
    {
     "name": "stdout",
     "output_type": "stream",
     "text": [
      "5 é maior que 3\n"
     ]
    }
   ],
   "source": [
    "if 5 > 3:\n",
    "  print('5 é maior que 3')\n",
    "#print('teste')"
   ]
  },
  {
   "cell_type": "code",
   "execution_count": 3,
   "id": "afdf8622",
   "metadata": {},
   "outputs": [
    {
     "name": "stdout",
     "output_type": "stream",
     "text": [
      "5 é maior\n"
     ]
    }
   ],
   "source": [
    "if 5 > 4:\n",
    "  print('5 é maior')\n",
    "else:\n",
    "  print('5 não é maior')"
   ]
  },
  {
   "cell_type": "code",
   "execution_count": 4,
   "id": "2e11a313",
   "metadata": {},
   "outputs": [
    {
     "name": "stdout",
     "output_type": "stream",
     "text": [
      "n não é igual a 4 nem 3\n"
     ]
    }
   ],
   "source": [
    "n = 9\n",
    "if n == 4:\n",
    "  print('n é igual a 4')\n",
    "else:\n",
    "  if n == 3:\n",
    "    print('n é igual a 3')\n",
    "  else:\n",
    "    print('n não é igual a 4 nem 3')"
   ]
  },
  {
   "cell_type": "code",
   "execution_count": 5,
   "id": "758a5529",
   "metadata": {},
   "outputs": [
    {
     "name": "stdout",
     "output_type": "stream",
     "text": [
      "Uma ou nenhuma das condições foram satisfeitas\n"
     ]
    }
   ],
   "source": [
    "x = 1\n",
    "y = 5\n",
    "if (x > 1) or (y % 2 == 0):\n",
    "  print('x é maior que 1 e y é par')\n",
    "else:\n",
    "  print('Uma ou nenhuma das condições foram satisfeitas')"
   ]
  },
  {
   "cell_type": "code",
   "execution_count": null,
   "id": "8391ab9f",
   "metadata": {},
   "outputs": [],
   "source": []
  }
 ],
 "metadata": {
  "kernelspec": {
   "display_name": "Python 3",
   "language": "python",
   "name": "python3"
  },
  "language_info": {
   "codemirror_mode": {
    "name": "ipython",
    "version": 3
   },
   "file_extension": ".py",
   "mimetype": "text/x-python",
   "name": "python",
   "nbconvert_exporter": "python",
   "pygments_lexer": "ipython3",
   "version": "3.8.8"
  }
 },
 "nbformat": 4,
 "nbformat_minor": 5
}
