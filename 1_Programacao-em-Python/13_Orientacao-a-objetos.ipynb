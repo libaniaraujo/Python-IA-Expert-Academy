{
 "cells": [
  {
   "cell_type": "markdown",
   "id": "3ea2a8d5",
   "metadata": {},
   "source": [
    "# 13. Orientação a objetos"
   ]
  },
  {
   "cell_type": "code",
   "execution_count": 1,
   "id": "66775357",
   "metadata": {},
   "outputs": [],
   "source": [
    "class Triangulo:\n",
    "  def __init__(self, lado1, lado2, lado3, base, altura):\n",
    "    self.lado1 = lado1\n",
    "    self.lado2 = lado2\n",
    "    self.lado3 = lado3\n",
    "    self.base = base\n",
    "    self.altura = altura\n",
    "  \n",
    "  def area(self):\n",
    "    return (self.base * self.altura) / 2\n",
    "\n",
    "  def tipo(self):\n",
    "    if self.lado1 > self.lado2 + self.lado3:\n",
    "      return 'não é um triângulo'\n",
    "    elif self.lado1 == self.lado2 or self.lado1 == self.lado3 or self.lado1 == self.lado2:\n",
    "      return 'triângulo isósceles'\n",
    "    else:\n",
    "      return 'outro tipo de triângulo'"
   ]
  },
  {
   "cell_type": "code",
   "execution_count": 2,
   "id": "ba35bfed",
   "metadata": {},
   "outputs": [],
   "source": [
    "t1 = Triangulo(5, 1, 3, 4, 3)"
   ]
  },
  {
   "cell_type": "code",
   "execution_count": 3,
   "id": "ebff8d40",
   "metadata": {},
   "outputs": [
    {
     "name": "stdout",
     "output_type": "stream",
     "text": [
      "5 1 3 4 3\n"
     ]
    }
   ],
   "source": [
    "print(t1.lado1, t1.lado2, t1.lado3, t1.base, t1.altura)"
   ]
  },
  {
   "cell_type": "code",
   "execution_count": 4,
   "id": "b67eb868",
   "metadata": {},
   "outputs": [
    {
     "data": {
      "text/plain": [
       "6.0"
      ]
     },
     "execution_count": 4,
     "metadata": {},
     "output_type": "execute_result"
    }
   ],
   "source": [
    "t1.area()"
   ]
  },
  {
   "cell_type": "code",
   "execution_count": 5,
   "id": "a61c7550",
   "metadata": {},
   "outputs": [
    {
     "data": {
      "text/plain": [
       "'não é um triângulo'"
      ]
     },
     "execution_count": 5,
     "metadata": {},
     "output_type": "execute_result"
    }
   ],
   "source": [
    "t1.tipo()"
   ]
  },
  {
   "cell_type": "code",
   "execution_count": 6,
   "id": "d96a33f3",
   "metadata": {},
   "outputs": [
    {
     "name": "stdout",
     "output_type": "stream",
     "text": [
      "8 8 8 16 9\n"
     ]
    }
   ],
   "source": [
    "t2 = Triangulo(8, 8, 8, 16, 9)\n",
    "print(t2.lado1, t2.lado2, t2.lado3, t2.base, t2.altura)"
   ]
  },
  {
   "cell_type": "code",
   "execution_count": 7,
   "id": "0cbac16f",
   "metadata": {},
   "outputs": [
    {
     "data": {
      "text/plain": [
       "72.0"
      ]
     },
     "execution_count": 7,
     "metadata": {},
     "output_type": "execute_result"
    }
   ],
   "source": [
    "t2.area()"
   ]
  },
  {
   "cell_type": "code",
   "execution_count": 8,
   "id": "0af1617a",
   "metadata": {},
   "outputs": [
    {
     "data": {
      "text/plain": [
       "'triângulo isósceles'"
      ]
     },
     "execution_count": 8,
     "metadata": {},
     "output_type": "execute_result"
    }
   ],
   "source": [
    "t2.tipo()"
   ]
  },
  {
   "cell_type": "code",
   "execution_count": null,
   "id": "76b4e0ed",
   "metadata": {},
   "outputs": [],
   "source": []
  }
 ],
 "metadata": {
  "kernelspec": {
   "display_name": "Python 3",
   "language": "python",
   "name": "python3"
  },
  "language_info": {
   "codemirror_mode": {
    "name": "ipython",
    "version": 3
   },
   "file_extension": ".py",
   "mimetype": "text/x-python",
   "name": "python",
   "nbconvert_exporter": "python",
   "pygments_lexer": "ipython3",
   "version": "3.8.8"
  }
 },
 "nbformat": 4,
 "nbformat_minor": 5
}
