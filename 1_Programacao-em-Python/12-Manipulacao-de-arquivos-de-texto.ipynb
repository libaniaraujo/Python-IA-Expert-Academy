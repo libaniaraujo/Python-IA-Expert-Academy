{
 "cells": [
  {
   "cell_type": "markdown",
   "id": "66e03c9a",
   "metadata": {},
   "source": [
    "# 12. Manipulação de arquivos de texto"
   ]
  },
  {
   "cell_type": "code",
   "execution_count": 1,
   "id": "0ccb3fa5",
   "metadata": {},
   "outputs": [
    {
     "name": "stdout",
     "output_type": "stream",
     "text": [
      "OlÃ¡\n",
      "\n",
      "\n",
      "\n",
      "Estou aprendendo \n",
      "\n",
      "\n",
      "\n",
      "a linguagem Python\n",
      "\n",
      "\n",
      "\n",
      "E estou gostando muito\n"
     ]
    }
   ],
   "source": [
    "with open('frase1.txt', 'r') as tex:\n",
    "  for linha in tex:\n",
    "    print(linha)"
   ]
  },
  {
   "cell_type": "code",
   "execution_count": 2,
   "id": "e0d88d55",
   "metadata": {},
   "outputs": [],
   "source": [
    "with open('frase1.txt') as tex:\n",
    "  r = tex.readlines()"
   ]
  },
  {
   "cell_type": "code",
   "execution_count": 3,
   "id": "8e4ebc4a",
   "metadata": {},
   "outputs": [
    {
     "data": {
      "text/plain": [
       "['OlÃ¡\\n',\n",
       " '\\n',\n",
       " 'Estou aprendendo \\n',\n",
       " '\\n',\n",
       " 'a linguagem Python\\n',\n",
       " '\\n',\n",
       " 'E estou gostando muito']"
      ]
     },
     "execution_count": 3,
     "metadata": {},
     "output_type": "execute_result"
    }
   ],
   "source": [
    "r"
   ]
  },
  {
   "cell_type": "code",
   "execution_count": 4,
   "id": "1ac3835a",
   "metadata": {},
   "outputs": [],
   "source": [
    "with open('texto2.txt', 'w') as texto:\n",
    "  texto.write('Olá a todos')"
   ]
  },
  {
   "cell_type": "code",
   "execution_count": 5,
   "id": "4ef61587",
   "metadata": {},
   "outputs": [
    {
     "name": "stdout",
     "output_type": "stream",
     "text": [
      "Olá a todos\n"
     ]
    }
   ],
   "source": [
    "with open('texto2.txt', 'r') as tex:\n",
    "  for linha in tex:\n",
    "    print(linha)"
   ]
  },
  {
   "cell_type": "code",
   "execution_count": null,
   "id": "d55d7f10",
   "metadata": {},
   "outputs": [],
   "source": []
  }
 ],
 "metadata": {
  "kernelspec": {
   "display_name": "Python 3",
   "language": "python",
   "name": "python3"
  },
  "language_info": {
   "codemirror_mode": {
    "name": "ipython",
    "version": 3
   },
   "file_extension": ".py",
   "mimetype": "text/x-python",
   "name": "python",
   "nbconvert_exporter": "python",
   "pygments_lexer": "ipython3",
   "version": "3.8.8"
  }
 },
 "nbformat": 4,
 "nbformat_minor": 5
}
