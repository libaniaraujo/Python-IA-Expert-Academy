{
 "cells": [
  {
   "cell_type": "markdown",
   "id": "1e277dd7",
   "metadata": {},
   "source": [
    "# 3. Operações Matemáticas"
   ]
  },
  {
   "cell_type": "code",
   "execution_count": 1,
   "id": "d56c776d",
   "metadata": {},
   "outputs": [
    {
     "name": "stdout",
     "output_type": "stream",
     "text": [
      "5 3\n"
     ]
    }
   ],
   "source": [
    "a = 5\n",
    "b = 3\n",
    "print(a, b)"
   ]
  },
  {
   "cell_type": "code",
   "execution_count": 2,
   "id": "5d88b28e",
   "metadata": {},
   "outputs": [
    {
     "data": {
      "text/plain": [
       "8"
      ]
     },
     "execution_count": 2,
     "metadata": {},
     "output_type": "execute_result"
    }
   ],
   "source": [
    "a + b"
   ]
  },
  {
   "cell_type": "code",
   "execution_count": 3,
   "id": "d2b33cc9",
   "metadata": {},
   "outputs": [
    {
     "name": "stdout",
     "output_type": "stream",
     "text": [
      "A soma é 8\n"
     ]
    }
   ],
   "source": [
    "print('A soma é', a + b)"
   ]
  },
  {
   "cell_type": "code",
   "execution_count": 4,
   "id": "4d80cca8",
   "metadata": {},
   "outputs": [
    {
     "name": "stdout",
     "output_type": "stream",
     "text": [
      "A subtração é 2\n"
     ]
    }
   ],
   "source": [
    "print('A subtração é', a - b)"
   ]
  },
  {
   "cell_type": "code",
   "execution_count": 5,
   "id": "8b107415",
   "metadata": {},
   "outputs": [
    {
     "name": "stdout",
     "output_type": "stream",
     "text": [
      "A subtração é 15\n"
     ]
    }
   ],
   "source": [
    "print('A subtração é', a * b)"
   ]
  },
  {
   "cell_type": "code",
   "execution_count": 6,
   "id": "0e986454",
   "metadata": {},
   "outputs": [
    {
     "name": "stdout",
     "output_type": "stream",
     "text": [
      "A multiplicação é 2\n"
     ]
    }
   ],
   "source": [
    "print('A multiplicação é', a - b)"
   ]
  },
  {
   "cell_type": "code",
   "execution_count": 7,
   "id": "a7b6dae7",
   "metadata": {},
   "outputs": [
    {
     "name": "stdout",
     "output_type": "stream",
     "text": [
      "A divisão é 1.6666666666666667\n"
     ]
    }
   ],
   "source": [
    "print('A divisão é', a / b)"
   ]
  },
  {
   "cell_type": "code",
   "execution_count": 8,
   "id": "3c738d57",
   "metadata": {},
   "outputs": [
    {
     "name": "stdout",
     "output_type": "stream",
     "text": [
      "O resto da divisão é 1\n"
     ]
    }
   ],
   "source": [
    "print('O resto da divisão é', 10 % 3)"
   ]
  },
  {
   "cell_type": "code",
   "execution_count": 9,
   "id": "f3bfab6c",
   "metadata": {},
   "outputs": [
    {
     "data": {
      "text/plain": [
       "625"
      ]
     },
     "execution_count": 9,
     "metadata": {},
     "output_type": "execute_result"
    }
   ],
   "source": [
    "5 * 5 * 5 * 5"
   ]
  },
  {
   "cell_type": "code",
   "execution_count": 10,
   "id": "08b7e3cc",
   "metadata": {},
   "outputs": [
    {
     "name": "stdout",
     "output_type": "stream",
     "text": [
      "5 elevado a 4 é 625\n"
     ]
    }
   ],
   "source": [
    "print('5 elevado a 4 é', 5**4)"
   ]
  },
  {
   "cell_type": "code",
   "execution_count": 12,
   "id": "e574f7e3",
   "metadata": {},
   "outputs": [
    {
     "data": {
      "text/plain": [
       "9.0"
      ]
     },
     "execution_count": 12,
     "metadata": {},
     "output_type": "execute_result"
    }
   ],
   "source": [
    "import math\n",
    "math.sqrt(81)"
   ]
  },
  {
   "cell_type": "markdown",
   "id": "7d7fd4d9",
   "metadata": {},
   "source": [
    "## 3.1. Arrendodamento"
   ]
  },
  {
   "cell_type": "code",
   "execution_count": 13,
   "id": "976e5e97",
   "metadata": {},
   "outputs": [
    {
     "name": "stdout",
     "output_type": "stream",
     "text": [
      "0.003891728624535316\n"
     ]
    }
   ],
   "source": [
    "casos_doenca = 134\n",
    "numero_habitantes = 34432\n",
    "casos_por_habitante = casos_doenca / numero_habitantes\n",
    "print(casos_por_habitante)"
   ]
  },
  {
   "cell_type": "code",
   "execution_count": 14,
   "id": "42b0630d",
   "metadata": {},
   "outputs": [
    {
     "data": {
      "text/plain": [
       "0.003892"
      ]
     },
     "execution_count": 14,
     "metadata": {},
     "output_type": "execute_result"
    }
   ],
   "source": [
    "round(casos_por_habitante, 6)"
   ]
  },
  {
   "cell_type": "code",
   "execution_count": 15,
   "id": "5dfc0bdb",
   "metadata": {},
   "outputs": [
    {
     "name": "stdout",
     "output_type": "stream",
     "text": [
      "O número de casos por habitante é de 0.003892\n"
     ]
    }
   ],
   "source": [
    "print('O número de casos por habitante é de', round(casos_por_habitante, 6))"
   ]
  },
  {
   "cell_type": "code",
   "execution_count": null,
   "id": "11d0e814",
   "metadata": {},
   "outputs": [],
   "source": []
  }
 ],
 "metadata": {
  "kernelspec": {
   "display_name": "Python 3",
   "language": "python",
   "name": "python3"
  },
  "language_info": {
   "codemirror_mode": {
    "name": "ipython",
    "version": 3
   },
   "file_extension": ".py",
   "mimetype": "text/x-python",
   "name": "python",
   "nbconvert_exporter": "python",
   "pygments_lexer": "ipython3",
   "version": "3.8.8"
  }
 },
 "nbformat": 4,
 "nbformat_minor": 5
}
