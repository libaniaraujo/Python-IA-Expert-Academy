{
 "cells": [
  {
   "cell_type": "markdown",
   "id": "dbf5594c",
   "metadata": {},
   "source": [
    "# 7. Coleções"
   ]
  },
  {
   "cell_type": "markdown",
   "id": "98410f89",
   "metadata": {},
   "source": [
    "## 7.1. Coleções"
   ]
  },
  {
   "cell_type": "code",
   "execution_count": 1,
   "id": "c5b14d2d",
   "metadata": {},
   "outputs": [],
   "source": [
    "tupla = ('Homo sapiens', 'Canis familiaris', 'Felis catus')"
   ]
  },
  {
   "cell_type": "code",
   "execution_count": 2,
   "id": "412ac389",
   "metadata": {},
   "outputs": [
    {
     "data": {
      "text/plain": [
       "('Homo sapiens', 'Canis familiaris', 'Felis catus')"
      ]
     },
     "execution_count": 2,
     "metadata": {},
     "output_type": "execute_result"
    }
   ],
   "source": [
    "tupla"
   ]
  },
  {
   "cell_type": "code",
   "execution_count": 3,
   "id": "c04f5c39",
   "metadata": {},
   "outputs": [
    {
     "data": {
      "text/plain": [
       "'Homo sapiens'"
      ]
     },
     "execution_count": 3,
     "metadata": {},
     "output_type": "execute_result"
    }
   ],
   "source": [
    "tupla[0]"
   ]
  },
  {
   "cell_type": "code",
   "execution_count": 4,
   "id": "e3bbca88",
   "metadata": {},
   "outputs": [
    {
     "data": {
      "text/plain": [
       "1"
      ]
     },
     "execution_count": 4,
     "metadata": {},
     "output_type": "execute_result"
    }
   ],
   "source": [
    "tupla.index('Canis familiaris')"
   ]
  },
  {
   "cell_type": "code",
   "execution_count": 5,
   "id": "3394c286",
   "metadata": {},
   "outputs": [
    {
     "name": "stdout",
     "output_type": "stream",
     "text": [
      "Homo sapiens\n",
      "Canis familiaris\n",
      "Felis catus\n"
     ]
    }
   ],
   "source": [
    "for elemento in tupla:\n",
    "  print(elemento)"
   ]
  },
  {
   "cell_type": "markdown",
   "id": "d90e83cd",
   "metadata": {},
   "source": [
    "## 7.2. Listas "
   ]
  },
  {
   "cell_type": "code",
   "execution_count": 6,
   "id": "0f4ad663",
   "metadata": {},
   "outputs": [],
   "source": [
    "l1 = ['Homo sapiens', 'Canis familiaris', 'Felis catus']\n",
    "l2 = ['Xenopus laevis', 'Ailuropoda melanoleuca']"
   ]
  },
  {
   "cell_type": "code",
   "execution_count": 7,
   "id": "4fb2edd0",
   "metadata": {},
   "outputs": [],
   "source": [
    "l3 = l1 + l2"
   ]
  },
  {
   "cell_type": "code",
   "execution_count": 8,
   "id": "906e9eff",
   "metadata": {},
   "outputs": [
    {
     "data": {
      "text/plain": [
       "['Homo sapiens',\n",
       " 'Canis familiaris',\n",
       " 'Felis catus',\n",
       " 'Xenopus laevis',\n",
       " 'Ailuropoda melanoleuca']"
      ]
     },
     "execution_count": 8,
     "metadata": {},
     "output_type": "execute_result"
    }
   ],
   "source": [
    "l3"
   ]
  },
  {
   "cell_type": "code",
   "execution_count": 9,
   "id": "9ea4426a",
   "metadata": {},
   "outputs": [
    {
     "name": "stdout",
     "output_type": "stream",
     "text": [
      "['Homo sapiens', 'Canis familiaris', 'Felis catus', 'Xenopus laevis', 'Ailuropoda melanoleuca']\n"
     ]
    }
   ],
   "source": [
    "print(l3)"
   ]
  },
  {
   "cell_type": "code",
   "execution_count": 10,
   "id": "97892e63",
   "metadata": {},
   "outputs": [
    {
     "name": "stdout",
     "output_type": "stream",
     "text": [
      "['Xenopus laevis', 'Ailuropoda melanoleuca', 'Xenopus laevis', 'Ailuropoda melanoleuca']\n"
     ]
    }
   ],
   "source": [
    "l2_2 = l2 * 2\n",
    "print(l2_2)"
   ]
  },
  {
   "cell_type": "code",
   "execution_count": 11,
   "id": "7804f469",
   "metadata": {},
   "outputs": [
    {
     "data": {
      "text/plain": [
       "'Homo sapiens'"
      ]
     },
     "execution_count": 11,
     "metadata": {},
     "output_type": "execute_result"
    }
   ],
   "source": [
    "l1[0]"
   ]
  },
  {
   "cell_type": "code",
   "execution_count": 12,
   "id": "11a46187",
   "metadata": {},
   "outputs": [
    {
     "data": {
      "text/plain": [
       "['Homo sapiens', 'Canis familiaris']"
      ]
     },
     "execution_count": 12,
     "metadata": {},
     "output_type": "execute_result"
    }
   ],
   "source": [
    "l1[0:2]"
   ]
  },
  {
   "cell_type": "code",
   "execution_count": 13,
   "id": "30a03ac9",
   "metadata": {},
   "outputs": [
    {
     "name": "stdout",
     "output_type": "stream",
     "text": [
      "['Homo sapiens', 'Canis familiaris', 'Felis catus', 'Gorila gorila']\n"
     ]
    }
   ],
   "source": [
    "l1.append('Gorila gorila')\n",
    "print(l1)"
   ]
  },
  {
   "cell_type": "code",
   "execution_count": 14,
   "id": "ace69e90",
   "metadata": {},
   "outputs": [
    {
     "name": "stdout",
     "output_type": "stream",
     "text": [
      "['Homo sapiens', 'Canis familiaris', 'Gorila gorila']\n"
     ]
    }
   ],
   "source": [
    "l1.remove('Felis catus')\n",
    "print(l1)"
   ]
  },
  {
   "cell_type": "code",
   "execution_count": 15,
   "id": "fb1b8705",
   "metadata": {},
   "outputs": [],
   "source": [
    "del(l1)"
   ]
  },
  {
   "cell_type": "code",
   "execution_count": 16,
   "id": "5f0d805f",
   "metadata": {},
   "outputs": [
    {
     "ename": "NameError",
     "evalue": "name 'l1' is not defined",
     "output_type": "error",
     "traceback": [
      "\u001b[1;31m---------------------------------------------------------------------------\u001b[0m",
      "\u001b[1;31mNameError\u001b[0m                                 Traceback (most recent call last)",
      "\u001b[1;32m<ipython-input-16-9957399d2fc4>\u001b[0m in \u001b[0;36m<module>\u001b[1;34m\u001b[0m\n\u001b[1;32m----> 1\u001b[1;33m \u001b[0mprint\u001b[0m\u001b[1;33m(\u001b[0m\u001b[0ml1\u001b[0m\u001b[1;33m)\u001b[0m\u001b[1;33m\u001b[0m\u001b[1;33m\u001b[0m\u001b[0m\n\u001b[0m",
      "\u001b[1;31mNameError\u001b[0m: name 'l1' is not defined"
     ]
    }
   ],
   "source": [
    "print(l1)"
   ]
  },
  {
   "cell_type": "code",
   "execution_count": 17,
   "id": "7a2de486",
   "metadata": {},
   "outputs": [
    {
     "name": "stdout",
     "output_type": "stream",
     "text": [
      "Xenopus laevis\n",
      "Ailuropoda melanoleuca\n",
      "Xenopus laevis\n",
      "Ailuropoda melanoleuca\n"
     ]
    }
   ],
   "source": [
    "for item in l2_2:\n",
    "  print(item)"
   ]
  },
  {
   "cell_type": "markdown",
   "id": "9bf660fa",
   "metadata": {},
   "source": [
    "## 7.3. Dicionários"
   ]
  },
  {
   "cell_type": "code",
   "execution_count": 18,
   "id": "49ab7929",
   "metadata": {},
   "outputs": [],
   "source": [
    "coleta = {'Aedes aegypt': 32, 'Aedes albopictus': 22, 'Anopheles darlingi': 14}"
   ]
  },
  {
   "cell_type": "code",
   "execution_count": 19,
   "id": "a8ce2894",
   "metadata": {},
   "outputs": [
    {
     "data": {
      "text/plain": [
       "32"
      ]
     },
     "execution_count": 19,
     "metadata": {},
     "output_type": "execute_result"
    }
   ],
   "source": [
    "coleta['Aedes aegypt']"
   ]
  },
  {
   "cell_type": "code",
   "execution_count": 20,
   "id": "723ba758",
   "metadata": {},
   "outputs": [],
   "source": [
    "coleta['Rhodnius montenegrensis'] = 11"
   ]
  },
  {
   "cell_type": "code",
   "execution_count": 21,
   "id": "c8c43609",
   "metadata": {},
   "outputs": [
    {
     "name": "stdout",
     "output_type": "stream",
     "text": [
      "{'Aedes aegypt': 32, 'Aedes albopictus': 22, 'Anopheles darlingi': 14, 'Rhodnius montenegrensis': 11}\n"
     ]
    }
   ],
   "source": [
    "print(coleta)"
   ]
  },
  {
   "cell_type": "code",
   "execution_count": 22,
   "id": "a762798f",
   "metadata": {},
   "outputs": [
    {
     "name": "stdout",
     "output_type": "stream",
     "text": [
      "{'Aedes aegypt': 32, 'Anopheles darlingi': 14, 'Rhodnius montenegrensis': 11}\n"
     ]
    }
   ],
   "source": [
    "del(coleta)['Aedes albopictus']\n",
    "print(coleta)"
   ]
  },
  {
   "cell_type": "code",
   "execution_count": 23,
   "id": "21e6069d",
   "metadata": {},
   "outputs": [
    {
     "data": {
      "text/plain": [
       "dict_items([('Aedes aegypt', 32), ('Anopheles darlingi', 14), ('Rhodnius montenegrensis', 11)])"
      ]
     },
     "execution_count": 23,
     "metadata": {},
     "output_type": "execute_result"
    }
   ],
   "source": [
    "coleta.items()"
   ]
  },
  {
   "cell_type": "code",
   "execution_count": 24,
   "id": "77f4237b",
   "metadata": {},
   "outputs": [
    {
     "data": {
      "text/plain": [
       "dict_keys(['Aedes aegypt', 'Anopheles darlingi', 'Rhodnius montenegrensis'])"
      ]
     },
     "execution_count": 24,
     "metadata": {},
     "output_type": "execute_result"
    }
   ],
   "source": [
    "coleta.keys()"
   ]
  },
  {
   "cell_type": "code",
   "execution_count": 25,
   "id": "f4487e1f",
   "metadata": {},
   "outputs": [
    {
     "data": {
      "text/plain": [
       "dict_values([32, 14, 11])"
      ]
     },
     "execution_count": 25,
     "metadata": {},
     "output_type": "execute_result"
    }
   ],
   "source": [
    "coleta.values()"
   ]
  },
  {
   "cell_type": "code",
   "execution_count": 26,
   "id": "46609c39",
   "metadata": {},
   "outputs": [
    {
     "name": "stdout",
     "output_type": "stream",
     "text": [
      "{'Anopheles gambiae': 13, 'Anopheles deaneorum': 14}\n"
     ]
    }
   ],
   "source": [
    "coleta2 = {'Anopheles gambiae': 13, 'Anopheles deaneorum': 14}\n",
    "print(coleta2)"
   ]
  },
  {
   "cell_type": "code",
   "execution_count": 27,
   "id": "382643ea",
   "metadata": {},
   "outputs": [
    {
     "name": "stdout",
     "output_type": "stream",
     "text": [
      "{'Aedes aegypt': 32, 'Anopheles darlingi': 14, 'Rhodnius montenegrensis': 11, 'Anopheles gambiae': 13, 'Anopheles deaneorum': 14}\n"
     ]
    }
   ],
   "source": [
    "coleta.update(coleta2)\n",
    "print(coleta)"
   ]
  },
  {
   "cell_type": "code",
   "execution_count": 28,
   "id": "f59645c3",
   "metadata": {},
   "outputs": [
    {
     "data": {
      "text/plain": [
       "dict_items([('Aedes aegypt', 32), ('Anopheles darlingi', 14), ('Rhodnius montenegrensis', 11), ('Anopheles gambiae', 13), ('Anopheles deaneorum', 14)])"
      ]
     },
     "execution_count": 28,
     "metadata": {},
     "output_type": "execute_result"
    }
   ],
   "source": [
    "coleta.items()"
   ]
  },
  {
   "cell_type": "code",
   "execution_count": 29,
   "id": "850fe6dc",
   "metadata": {},
   "outputs": [
    {
     "name": "stdout",
     "output_type": "stream",
     "text": [
      "Espécie: Aedes aegypt, número de espécimes coletados: 32\n",
      "Espécie: Anopheles darlingi, número de espécimes coletados: 14\n",
      "Espécie: Rhodnius montenegrensis, número de espécimes coletados: 11\n",
      "Espécie: Anopheles gambiae, número de espécimes coletados: 13\n",
      "Espécie: Anopheles deaneorum, número de espécimes coletados: 14\n"
     ]
    }
   ],
   "source": [
    "for especie, num_especimes in coleta.items():\n",
    "  print(f'Espécie: {especie}, número de espécimes coletados: {num_especimes}')"
   ]
  },
  {
   "cell_type": "markdown",
   "id": "86689317",
   "metadata": {},
   "source": [
    "## 7.4. Conjuntos (set)"
   ]
  },
  {
   "cell_type": "code",
   "execution_count": 32,
   "id": "d313a306",
   "metadata": {},
   "outputs": [],
   "source": [
    "biomoleculas = ('proteína', 'ácidos nucleicos', 'carboidrato', 'lipídeo',\n",
    "                'ácidos nucleicos', 'carboidrato', 'carboidrato', 'carboidrato')"
   ]
  },
  {
   "cell_type": "code",
   "execution_count": 33,
   "id": "7ede6579",
   "metadata": {},
   "outputs": [
    {
     "name": "stdout",
     "output_type": "stream",
     "text": [
      "('proteína', 'ácidos nucleicos', 'carboidrato', 'lipídeo', 'ácidos nucleicos', 'carboidrato', 'carboidrato', 'carboidrato')\n"
     ]
    }
   ],
   "source": [
    "print(biomoleculas)"
   ]
  },
  {
   "cell_type": "code",
   "execution_count": 34,
   "id": "ec61c986",
   "metadata": {},
   "outputs": [
    {
     "name": "stdout",
     "output_type": "stream",
     "text": [
      "{'proteína', 'carboidrato', 'ácidos nucleicos', 'lipídeo'}\n"
     ]
    }
   ],
   "source": [
    "print(set(biomeleculas))"
   ]
  },
  {
   "cell_type": "code",
   "execution_count": 35,
   "id": "b5f98e3c",
   "metadata": {},
   "outputs": [],
   "source": [
    "c1 = {1,2,3,4,5}\n",
    "c2 = {3,4,5,6,7}\n",
    "c3 = c1.intersection(c2)"
   ]
  },
  {
   "cell_type": "code",
   "execution_count": 36,
   "id": "3e0df01a",
   "metadata": {},
   "outputs": [
    {
     "name": "stdout",
     "output_type": "stream",
     "text": [
      "{3, 4, 5}\n"
     ]
    }
   ],
   "source": [
    "print(c3)"
   ]
  },
  {
   "cell_type": "code",
   "execution_count": 37,
   "id": "b0bf63d7",
   "metadata": {},
   "outputs": [
    {
     "data": {
      "text/plain": [
       "{1, 2}"
      ]
     },
     "execution_count": 37,
     "metadata": {},
     "output_type": "execute_result"
    }
   ],
   "source": [
    "c1.difference(c2)"
   ]
  },
  {
   "cell_type": "code",
   "execution_count": 38,
   "id": "1812b93b",
   "metadata": {},
   "outputs": [
    {
     "data": {
      "text/plain": [
       "{6, 7}"
      ]
     },
     "execution_count": 38,
     "metadata": {},
     "output_type": "execute_result"
    }
   ],
   "source": [
    "c2.difference(c1)"
   ]
  }
 ],
 "metadata": {
  "kernelspec": {
   "display_name": "Python 3",
   "language": "python",
   "name": "python3"
  },
  "language_info": {
   "codemirror_mode": {
    "name": "ipython",
    "version": 3
   },
   "file_extension": ".py",
   "mimetype": "text/x-python",
   "name": "python",
   "nbconvert_exporter": "python",
   "pygments_lexer": "ipython3",
   "version": "3.8.8"
  }
 },
 "nbformat": 4,
 "nbformat_minor": 5
}
