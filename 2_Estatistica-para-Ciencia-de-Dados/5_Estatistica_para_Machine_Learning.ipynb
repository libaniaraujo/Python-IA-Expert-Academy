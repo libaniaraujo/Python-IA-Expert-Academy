{
 "cells": [
  {
   "cell_type": "markdown",
   "id": "07b4c418",
   "metadata": {},
   "source": [
    "# Estatística para Machine Learning"
   ]
  },
  {
   "cell_type": "markdown",
   "id": "5fb020a7",
   "metadata": {},
   "source": [
    "## 5. Distribuições Estatísticas"
   ]
  },
  {
   "cell_type": "code",
   "execution_count": 18,
   "id": "fa79ca6e",
   "metadata": {},
   "outputs": [],
   "source": [
    "import numpy as np\n",
    "import seaborn as sns\n",
    "import pandas as pd\n",
    "from scipy import stats\n",
    "from scipy.stats import norm"
   ]
  },
  {
   "cell_type": "markdown",
   "id": "b4fc2223",
   "metadata": {},
   "source": [
    "### Variáveis contínuas"
   ]
  },
  {
   "cell_type": "markdown",
   "id": "5bd6d2f5",
   "metadata": {},
   "source": [
    "#### Distribuição normal - Gaussian distribution (bell)"
   ]
  },
  {
   "cell_type": "code",
   "execution_count": 10,
   "id": "af1f0c1f",
   "metadata": {},
   "outputs": [],
   "source": [
    "dados_normal = norm.rvs(size = 1000, random_state = 1)"
   ]
  },
  {
   "cell_type": "code",
   "execution_count": 11,
   "id": "58e7864f",
   "metadata": {},
   "outputs": [
    {
     "data": {
      "text/plain": [
       "(-3.053764380426305, 3.9586027040379634)"
      ]
     },
     "execution_count": 11,
     "metadata": {},
     "output_type": "execute_result"
    }
   ],
   "source": [
    "min(dados_normal), max(dados_normal)"
   ]
  },
  {
   "cell_type": "code",
   "execution_count": 13,
   "id": "78bfc62d",
   "metadata": {},
   "outputs": [
    {
     "name": "stderr",
     "output_type": "stream",
     "text": [
      "C:\\Users\\Libania\\anaconda3\\lib\\site-packages\\seaborn\\distributions.py:2557: FutureWarning: `distplot` is a deprecated function and will be removed in a future version. Please adapt your code to use either `displot` (a figure-level function with similar flexibility) or `histplot` (an axes-level function for histograms).\n",
      "  warnings.warn(msg, FutureWarning)\n"
     ]
    },
    {
     "data": {
      "image/png": "[encoded data removed]",
      "text/plain": [
       "<Figure size 432x288 with 1 Axes>"
      ]
     },
     "metadata": {
      "needs_background": "light"
     },
     "output_type": "display_data"
    }
   ],
   "source": [
    "sns.distplot(dados_normal, hist = True, kde = True);"
   ]
  },
  {
   "cell_type": "code",
   "execution_count": 19,
   "id": "c466a767",
   "metadata": {},
   "outputs": [
    {
     "data": {
      "text/plain": [
       "(0.03881247615960185,\n",
       " 0.04129258886921605,\n",
       " ModeResult(mode=array([-3.05376438]), count=array([1])),\n",
       " 0.9623691107920885,\n",
       " 0.9810041339322116)"
      ]
     },
     "execution_count": 19,
     "metadata": {},
     "output_type": "execute_result"
    }
   ],
   "source": [
    "dados_normal.mean(), np.median(dados_normal), stats.mode(dados_normal), np.var(dados_normal), np.std(dados_normal)"
   ]
  },
  {
   "cell_type": "code",
   "execution_count": 20,
   "id": "7e0a2465",
   "metadata": {},
   "outputs": [
    {
     "data": {
      "text/plain": [
       "148"
      ]
     },
     "execution_count": 20,
     "metadata": {},
     "output_type": "execute_result"
    }
   ],
   "source": [
    "np.sum(((dados_normal >= 0.9810041339322116) & (dados_normal <= 0.9810041339322116 + 1)))"
   ]
  },
  {
   "cell_type": "code",
   "execution_count": 21,
   "id": "ad1cd27f",
   "metadata": {},
   "outputs": [
    {
     "data": {
      "text/plain": [
       "353"
      ]
     },
     "execution_count": 21,
     "metadata": {},
     "output_type": "execute_result"
    }
   ],
   "source": [
    "np.sum(((dados_normal <= 0.9810041339322116) & (dados_normal >= 0.9810041339322116 - 1)))"
   ]
  },
  {
   "cell_type": "code",
   "execution_count": 22,
   "id": "f06ae4cf",
   "metadata": {},
   "outputs": [
    {
     "data": {
      "text/plain": [
       "0.501"
      ]
     },
     "execution_count": 22,
     "metadata": {},
     "output_type": "execute_result"
    }
   ],
   "source": [
    "(148 + 353) / 1000"
   ]
  },
  {
   "cell_type": "markdown",
   "id": "06e623a8",
   "metadata": {},
   "source": [
    "### Distribuição normal com dados de alturas"
   ]
  },
  {
   "cell_type": "code",
   "execution_count": 23,
   "id": "63c8985d",
   "metadata": {},
   "outputs": [],
   "source": [
    "dados = np.array([126. , 129.5, 133. , 133. , 136.5, 136.5, 140. , 140. , 140. ,\n",
    "                  140. , 143.5, 143.5, 143.5, 143.5, 143.5, 143.5, 147. , 147. ,\n",
    "                  147. , 147. , 147. , 147. , 147. , 150.5, 150.5, 150.5, 150.5,\n",
    "                  150.5, 150.5, 150.5, 150.5, 154. , 154. , 154. , 154. , 154. ,\n",
    "                  154. , 154. , 154. , 154. , 157.5, 157.5, 157.5, 157.5, 157.5,\n",
    "                  157.5, 157.5, 157.5, 157.5, 157.5, 161. , 161. , 161. , 161. ,\n",
    "                  161. , 161. , 161. , 161. , 161. , 161. , 164.5, 164.5, 164.5,\n",
    "                  164.5, 164.5, 164.5, 164.5, 164.5, 164.5, 168. , 168. , 168. ,\n",
    "                  168. , 168. , 168. , 168. , 168. , 171.5, 171.5, 171.5, 171.5,\n",
    "                  171.5, 171.5, 171.5, 175. , 175. , 175. , 175. , 175. , 175. ,\n",
    "                  178.5, 178.5, 178.5, 178.5, 182. , 182. , 185.5, 185.5, 189., 192.5])"
   ]
  },
  {
   "cell_type": "code",
   "execution_count": 24,
   "id": "0af643ee",
   "metadata": {},
   "outputs": [
    {
     "data": {
      "text/plain": [
       "100"
      ]
     },
     "execution_count": 24,
     "metadata": {},
     "output_type": "execute_result"
    }
   ],
   "source": [
    "len(dados)"
   ]
  },
  {
   "cell_type": "code",
   "execution_count": 25,
   "id": "f978aa29",
   "metadata": {},
   "outputs": [
    {
     "data": {
      "text/plain": [
       "(126.0, 192.5)"
      ]
     },
     "execution_count": 25,
     "metadata": {},
     "output_type": "execute_result"
    }
   ],
   "source": [
    "min(dados), max(dados)"
   ]
  },
  {
   "cell_type": "code",
   "execution_count": 26,
   "id": "aa611098",
   "metadata": {},
   "outputs": [
    {
     "data": {
      "text/plain": [
       "159.25"
      ]
     },
     "execution_count": 26,
     "metadata": {},
     "output_type": "execute_result"
    }
   ],
   "source": [
    "dados.mean()"
   ]
  },
  {
   "cell_type": "code",
   "execution_count": 27,
   "id": "8171c2c3",
   "metadata": {},
   "outputs": [
    {
     "data": {
      "text/plain": [
       "159.25"
      ]
     },
     "execution_count": 27,
     "metadata": {},
     "output_type": "execute_result"
    }
   ],
   "source": [
    "np.median(dados)"
   ]
  },
  {
   "cell_type": "code",
   "execution_count": 28,
   "id": "8573aa33",
   "metadata": {},
   "outputs": [
    {
     "data": {
      "text/plain": [
       "ModeResult(mode=array([157.5]), count=array([10]))"
      ]
     },
     "execution_count": 28,
     "metadata": {},
     "output_type": "execute_result"
    }
   ],
   "source": [
    "stats.mode(dados)"
   ]
  },
  {
   "cell_type": "code",
   "execution_count": 29,
   "id": "ac6a6c69",
   "metadata": {},
   "outputs": [
    {
     "data": {
      "text/plain": [
       "(172.9, 145.6)"
      ]
     },
     "execution_count": 29,
     "metadata": {},
     "output_type": "execute_result"
    }
   ],
   "source": [
    "159.25 + 13.65, 159.25 - 13.65"
   ]
  },
  {
   "cell_type": "code",
   "execution_count": 30,
   "id": "fa1d0ee4",
   "metadata": {},
   "outputs": [
    {
     "data": {
      "text/plain": [
       "(186.3225, 13.65, 8.571428571428571)"
      ]
     },
     "execution_count": 30,
     "metadata": {},
     "output_type": "execute_result"
    }
   ],
   "source": [
    "np.var(dados), np.std(dados), stats.variation(dados) * 100"
   ]
  },
  {
   "cell_type": "code",
   "execution_count": 31,
   "id": "57fe6162",
   "metadata": {},
   "outputs": [
    {
     "data": {
      "image/png": "[encoded data removed]",
      "text/plain": [
       "<Figure size 360x360 with 1 Axes>"
      ]
     },
     "metadata": {
      "needs_background": "light"
     },
     "output_type": "display_data"
    }
   ],
   "source": [
    "sns.displot(dados);"
   ]
  },
  {
   "cell_type": "markdown",
   "id": "f8d2d30a",
   "metadata": {},
   "source": [
    "### Enviesamento"
   ]
  },
  {
   "cell_type": "code",
   "execution_count": 32,
   "id": "7ef34238",
   "metadata": {},
   "outputs": [],
   "source": [
    "from scipy.stats import skewnorm"
   ]
  },
  {
   "cell_type": "code",
   "execution_count": 33,
   "id": "f02c83b1",
   "metadata": {},
   "outputs": [],
   "source": [
    "dados_normal = skewnorm.rvs(a = 0, size = 1000)"
   ]
  },
  {
   "cell_type": "code",
   "execution_count": 34,
   "id": "92d916fc",
   "metadata": {},
   "outputs": [
    {
     "name": "stderr",
     "output_type": "stream",
     "text": [
      "C:\\Users\\Libania\\anaconda3\\lib\\site-packages\\seaborn\\distributions.py:2557: FutureWarning: `distplot` is a deprecated function and will be removed in a future version. Please adapt your code to use either `displot` (a figure-level function with similar flexibility) or `histplot` (an axes-level function for histograms).\n",
      "  warnings.warn(msg, FutureWarning)\n"
     ]
    },
    {
     "data": {
      "image/png": "[encoded data removed]",
      "text/plain": [
       "<Figure size 432x288 with 1 Axes>"
      ]
     },
     "metadata": {
      "needs_background": "light"
     },
     "output_type": "display_data"
    }
   ],
   "source": [
    "sns.distplot(dados_normal);"
   ]
  },
  {
   "cell_type": "code",
   "execution_count": 35,
   "id": "9dfa6657",
   "metadata": {},
   "outputs": [
    {
     "data": {
      "text/plain": [
       "(0.028952578135244576,\n",
       " 0.047478820352549994,\n",
       " ModeResult(mode=array([-3.11419554]), count=array([1])))"
      ]
     },
     "execution_count": 35,
     "metadata": {},
     "output_type": "execute_result"
    }
   ],
   "source": [
    "dados_normal.mean(), np.median(dados_normal), stats.mode(dados_normal)"
   ]
  },
  {
   "cell_type": "code",
   "execution_count": 36,
   "id": "60d195d3",
   "metadata": {},
   "outputs": [
    {
     "name": "stderr",
     "output_type": "stream",
     "text": [
      "C:\\Users\\Libania\\anaconda3\\lib\\site-packages\\seaborn\\distributions.py:2557: FutureWarning: `distplot` is a deprecated function and will be removed in a future version. Please adapt your code to use either `displot` (a figure-level function with similar flexibility) or `histplot` (an axes-level function for histograms).\n",
      "  warnings.warn(msg, FutureWarning)\n"
     ]
    },
    {
     "data": {
      "image/png": "[encoded data removed]",
      "text/plain": [
       "<Figure size 432x288 with 1 Axes>"
      ]
     },
     "metadata": {
      "needs_background": "light"
     },
     "output_type": "display_data"
    }
   ],
   "source": [
    "dados_normal_positivo = skewnorm.rvs(a = 10, size = 1000)\n",
    "sns.distplot(dados_normal_positivo);"
   ]
  },
  {
   "cell_type": "code",
   "execution_count": 37,
   "id": "f455cee5",
   "metadata": {},
   "outputs": [
    {
     "data": {
      "text/plain": [
       "(0.7884774374995973,\n",
       " 0.6806421496341073,\n",
       " ModeResult(mode=array([-0.14419955]), count=array([1])))"
      ]
     },
     "execution_count": 37,
     "metadata": {},
     "output_type": "execute_result"
    }
   ],
   "source": [
    "dados_normal_positivo.mean(), np.median(dados_normal_positivo), stats.mode(dados_normal_positivo)"
   ]
  },
  {
   "cell_type": "code",
   "execution_count": 38,
   "id": "e123e6fc",
   "metadata": {},
   "outputs": [
    {
     "name": "stderr",
     "output_type": "stream",
     "text": [
      "C:\\Users\\Libania\\anaconda3\\lib\\site-packages\\seaborn\\distributions.py:2557: FutureWarning: `distplot` is a deprecated function and will be removed in a future version. Please adapt your code to use either `displot` (a figure-level function with similar flexibility) or `histplot` (an axes-level function for histograms).\n",
      "  warnings.warn(msg, FutureWarning)\n"
     ]
    },
    {
     "data": {
      "image/png": "[encoded data removed]",
      "text/plain": [
       "<Figure size 432x288 with 1 Axes>"
      ]
     },
     "metadata": {
      "needs_background": "light"
     },
     "output_type": "display_data"
    }
   ],
   "source": [
    "dados_normal_negativo = skewnorm.rvs(-10, size = 1000)\n",
    "sns.distplot(dados_normal_negativo);"
   ]
  },
  {
   "cell_type": "code",
   "execution_count": 39,
   "id": "23a9e6f5",
   "metadata": {},
   "outputs": [
    {
     "data": {
      "text/plain": [
       "(-0.8171775525664344,\n",
       " -0.6887932121765566,\n",
       " ModeResult(mode=array([-3.49868394]), count=array([1])))"
      ]
     },
     "execution_count": 39,
     "metadata": {},
     "output_type": "execute_result"
    }
   ],
   "source": [
    "dados_normal_negativo.mean(), np.median(dados_normal_negativo), stats.mode(dados_normal_negativo)"
   ]
  },
  {
   "cell_type": "markdown",
   "id": "1a7b35d0",
   "metadata": {},
   "source": [
    "### Distribuição normal padronizada"
   ]
  },
  {
   "cell_type": "code",
   "execution_count": 40,
   "id": "a291b454",
   "metadata": {},
   "outputs": [],
   "source": [
    "dados_normal_padronizada = np.random.standard_normal(size=1000)"
   ]
  },
  {
   "cell_type": "code",
   "execution_count": 41,
   "id": "e1c44b43",
   "metadata": {},
   "outputs": [
    {
     "data": {
      "text/plain": [
       "(-3.702989056854432, 2.9654926946506994)"
      ]
     },
     "execution_count": 41,
     "metadata": {},
     "output_type": "execute_result"
    }
   ],
   "source": [
    "min(dados_normal_padronizada), max(dados_normal_padronizada)"
   ]
  },
  {
   "cell_type": "code",
   "execution_count": 44,
   "id": "d1e4e22b",
   "metadata": {},
   "outputs": [
    {
     "name": "stderr",
     "output_type": "stream",
     "text": [
      "C:\\Users\\Libania\\anaconda3\\lib\\site-packages\\seaborn\\distributions.py:2557: FutureWarning: `distplot` is a deprecated function and will be removed in a future version. Please adapt your code to use either `displot` (a figure-level function with similar flexibility) or `histplot` (an axes-level function for histograms).\n",
      "  warnings.warn(msg, FutureWarning)\n"
     ]
    },
    {
     "data": {
      "image/png": "[encoded data removed]",
      "text/plain": [
       "<Figure size 432x288 with 1 Axes>"
      ]
     },
     "metadata": {
      "needs_background": "light"
     },
     "output_type": "display_data"
    }
   ],
   "source": [
    "sns.distplot(dados_normal_padronizada);"
   ]
  },
  {
   "cell_type": "code",
   "execution_count": 45,
   "id": "ec3a2afb",
   "metadata": {},
   "outputs": [
    {
     "data": {
      "text/plain": [
       "(0.0025751255028807433, 0.9699766294448413)"
      ]
     },
     "execution_count": 45,
     "metadata": {},
     "output_type": "execute_result"
    }
   ],
   "source": [
    "dados_normal_padronizada.mean(), np.std(dados_normal_padronizada)"
   ]
  },
  {
   "cell_type": "code",
   "execution_count": 46,
   "id": "43cdf6df",
   "metadata": {},
   "outputs": [
    {
     "data": {
      "text/plain": [
       "array([126. , 129.5, 133. , 133. , 136.5, 136.5, 140. , 140. , 140. ,\n",
       "       140. , 143.5, 143.5, 143.5, 143.5, 143.5, 143.5, 147. , 147. ,\n",
       "       147. , 147. , 147. , 147. , 147. , 150.5, 150.5, 150.5, 150.5,\n",
       "       150.5, 150.5, 150.5, 150.5, 154. , 154. , 154. , 154. , 154. ,\n",
       "       154. , 154. , 154. , 154. , 157.5, 157.5, 157.5, 157.5, 157.5,\n",
       "       157.5, 157.5, 157.5, 157.5, 157.5, 161. , 161. , 161. , 161. ,\n",
       "       161. , 161. , 161. , 161. , 161. , 161. , 164.5, 164.5, 164.5,\n",
       "       164.5, 164.5, 164.5, 164.5, 164.5, 164.5, 168. , 168. , 168. ,\n",
       "       168. , 168. , 168. , 168. , 168. , 171.5, 171.5, 171.5, 171.5,\n",
       "       171.5, 171.5, 171.5, 175. , 175. , 175. , 175. , 175. , 175. ,\n",
       "       178.5, 178.5, 178.5, 178.5, 182. , 182. , 185.5, 185.5, 189. ,\n",
       "       192.5])"
      ]
     },
     "execution_count": 46,
     "metadata": {},
     "output_type": "execute_result"
    }
   ],
   "source": [
    "dados"
   ]
  },
  {
   "cell_type": "code",
   "execution_count": 47,
   "id": "d8f218c7",
   "metadata": {},
   "outputs": [
    {
     "data": {
      "text/plain": [
       "159.25"
      ]
     },
     "execution_count": 47,
     "metadata": {},
     "output_type": "execute_result"
    }
   ],
   "source": [
    "media = dados.mean()\n",
    "media"
   ]
  },
  {
   "cell_type": "code",
   "execution_count": 48,
   "id": "7d176633",
   "metadata": {},
   "outputs": [
    {
     "data": {
      "text/plain": [
       "13.65"
      ]
     },
     "execution_count": 48,
     "metadata": {},
     "output_type": "execute_result"
    }
   ],
   "source": [
    "desvio_padrao = np.std(dados)\n",
    "desvio_padrao"
   ]
  },
  {
   "cell_type": "code",
   "execution_count": 49,
   "id": "ffb67934",
   "metadata": {},
   "outputs": [
    {
     "data": {
      "text/plain": [
       "array([-2.43589744, -2.17948718, -1.92307692, -1.92307692, -1.66666667,\n",
       "       -1.66666667, -1.41025641, -1.41025641, -1.41025641, -1.41025641,\n",
       "       -1.15384615, -1.15384615, -1.15384615, -1.15384615, -1.15384615,\n",
       "       -1.15384615, -0.8974359 , -0.8974359 , -0.8974359 , -0.8974359 ,\n",
       "       -0.8974359 , -0.8974359 , -0.8974359 , -0.64102564, -0.64102564,\n",
       "       -0.64102564, -0.64102564, -0.64102564, -0.64102564, -0.64102564,\n",
       "       -0.64102564, -0.38461538, -0.38461538, -0.38461538, -0.38461538,\n",
       "       -0.38461538, -0.38461538, -0.38461538, -0.38461538, -0.38461538,\n",
       "       -0.12820513, -0.12820513, -0.12820513, -0.12820513, -0.12820513,\n",
       "       -0.12820513, -0.12820513, -0.12820513, -0.12820513, -0.12820513,\n",
       "        0.12820513,  0.12820513,  0.12820513,  0.12820513,  0.12820513,\n",
       "        0.12820513,  0.12820513,  0.12820513,  0.12820513,  0.12820513,\n",
       "        0.38461538,  0.38461538,  0.38461538,  0.38461538,  0.38461538,\n",
       "        0.38461538,  0.38461538,  0.38461538,  0.38461538,  0.64102564,\n",
       "        0.64102564,  0.64102564,  0.64102564,  0.64102564,  0.64102564,\n",
       "        0.64102564,  0.64102564,  0.8974359 ,  0.8974359 ,  0.8974359 ,\n",
       "        0.8974359 ,  0.8974359 ,  0.8974359 ,  0.8974359 ,  1.15384615,\n",
       "        1.15384615,  1.15384615,  1.15384615,  1.15384615,  1.15384615,\n",
       "        1.41025641,  1.41025641,  1.41025641,  1.41025641,  1.66666667,\n",
       "        1.66666667,  1.92307692,  1.92307692,  2.17948718,  2.43589744])"
      ]
     },
     "execution_count": 49,
     "metadata": {},
     "output_type": "execute_result"
    }
   ],
   "source": [
    "dados_padronizados = (dados - media) / desvio_padrao\n",
    "dados_padronizados"
   ]
  },
  {
   "cell_type": "code",
   "execution_count": 50,
   "id": "4e4c6765",
   "metadata": {},
   "outputs": [
    {
     "data": {
      "text/plain": [
       "(0.0, 0.9999999999999999)"
      ]
     },
     "execution_count": 50,
     "metadata": {},
     "output_type": "execute_result"
    }
   ],
   "source": [
    "dados_padronizados.mean(), np.std(dados_padronizados)"
   ]
  },
  {
   "cell_type": "code",
   "execution_count": 51,
   "id": "b4685996",
   "metadata": {},
   "outputs": [
    {
     "name": "stderr",
     "output_type": "stream",
     "text": [
      "C:\\Users\\Libania\\anaconda3\\lib\\site-packages\\seaborn\\distributions.py:2557: FutureWarning: `distplot` is a deprecated function and will be removed in a future version. Please adapt your code to use either `displot` (a figure-level function with similar flexibility) or `histplot` (an axes-level function for histograms).\n",
      "  warnings.warn(msg, FutureWarning)\n"
     ]
    },
    {
     "data": {
      "image/png": "[encoded data removed]",
      "text/plain": [
       "<Figure size 432x288 with 1 Axes>"
      ]
     },
     "metadata": {
      "needs_background": "light"
     },
     "output_type": "display_data"
    }
   ],
   "source": [
    "sns.distplot(dados_padronizados);"
   ]
  },
  {
   "cell_type": "markdown",
   "id": "4c400c20",
   "metadata": {},
   "source": [
    "### Teorema central do limite\n",
    "\n",
    "- Quando o tamanho da amostra aumenta, a distribuição amostral da sua média aproxima-se cada vez mais de uma distribuição normal"
   ]
  },
  {
   "cell_type": "code",
   "execution_count": 53,
   "id": "78ea2c61",
   "metadata": {},
   "outputs": [
    {
     "data": {
      "text/plain": [
       "160.228"
      ]
     },
     "execution_count": 53,
     "metadata": {},
     "output_type": "execute_result"
    }
   ],
   "source": [
    "alturas = np.random.randint(126, 192, 500)\n",
    "alturas.mean()"
   ]
  },
  {
   "cell_type": "code",
   "execution_count": 54,
   "id": "3432de55",
   "metadata": {},
   "outputs": [
    {
     "name": "stderr",
     "output_type": "stream",
     "text": [
      "C:\\Users\\Libania\\anaconda3\\lib\\site-packages\\seaborn\\distributions.py:2557: FutureWarning: `distplot` is a deprecated function and will be removed in a future version. Please adapt your code to use either `displot` (a figure-level function with similar flexibility) or `histplot` (an axes-level function for histograms).\n",
      "  warnings.warn(msg, FutureWarning)\n"
     ]
    },
    {
     "data": {
      "text/plain": [
       "<AxesSubplot:ylabel='Density'>"
      ]
     },
     "execution_count": 54,
     "metadata": {},
     "output_type": "execute_result"
    },
    {
     "data": {
      "image/png": "[encoded data removed]",
      "text/plain": [
       "<Figure size 432x288 with 1 Axes>"
      ]
     },
     "metadata": {
      "needs_background": "light"
     },
     "output_type": "display_data"
    }
   ],
   "source": [
    "sns.distplot(alturas)"
   ]
  },
  {
   "cell_type": "code",
   "execution_count": 55,
   "id": "f5c3e50c",
   "metadata": {},
   "outputs": [],
   "source": [
    "medias = [np.mean(np.random.randint(126, 192, 500)) for _ in range(1000)]"
   ]
  },
  {
   "cell_type": "code",
   "execution_count": 56,
   "id": "aa1ef657",
   "metadata": {},
   "outputs": [
    {
     "data": {
      "text/plain": [
       "(list, 1000)"
      ]
     },
     "execution_count": 56,
     "metadata": {},
     "output_type": "execute_result"
    }
   ],
   "source": [
    "type(medias), len(medias)"
   ]
  },
  {
   "cell_type": "code",
   "execution_count": 57,
   "id": "c3768300",
   "metadata": {},
   "outputs": [
    {
     "name": "stdout",
     "output_type": "stream",
     "text": [
      "[159.002, 158.262, 159.224, 156.936, 159.554, 159.0, 157.17, 157.68, 159.056, 159.43, 157.948, 156.592, 158.852, 159.134, 159.976, 159.014, 160.286, 158.848, 160.434, 158.278, 158.064, 158.87, 158.976, 158.746, 159.458, 157.334, 159.45, 159.832, 158.892, 158.95, 159.134, 159.526, 158.842, 158.602, 156.704, 158.586, 158.844, 158.286, 157.464, 157.388, 157.69, 158.2, 159.294, 156.952, 158.254, 158.284, 158.46, 158.042, 159.668, 157.68, 158.688, 158.346, 158.412, 159.062, 157.858, 159.408, 158.442, 159.19, 158.842, 158.702, 158.454, 159.094, 157.396, 159.142, 158.996, 157.632, 158.326, 157.63, 157.706, 158.96, 157.236, 158.982, 158.488, 158.474, 159.4, 158.678, 158.5, 159.672, 157.758, 158.354, 159.62, 157.448, 156.408, 158.152, 157.842, 159.14, 158.704, 159.208, 159.302, 159.23, 158.938, 158.082, 158.278, 157.976, 159.574, 159.22, 158.022, 158.134, 160.394, 158.554, 157.734, 158.358, 158.85, 158.844, 159.46, 158.728, 157.048, 159.426, 157.558, 159.412, 158.882, 158.638, 157.29, 159.254, 157.742, 159.16, 158.312, 157.29, 158.488, 159.112, 159.468, 158.548, 157.332, 158.346, 160.024, 159.072, 159.12, 160.34, 157.926, 157.884, 158.46, 158.892, 159.838, 158.934, 159.162, 158.408, 157.786, 159.312, 159.494, 158.316, 159.512, 159.23, 159.596, 158.38, 158.916, 159.27, 159.212, 160.146, 158.862, 158.55, 157.892, 158.688, 159.998, 158.792, 159.21, 158.63, 158.364, 158.622, 158.26, 158.296, 157.498, 158.916, 157.97, 160.2, 157.442, 158.428, 158.978, 157.522, 159.224, 156.998, 158.928, 158.684, 159.242, 158.492, 158.158, 159.948, 157.166, 156.94, 157.742, 157.338, 157.714, 158.562, 159.25, 160.294, 156.946, 158.138, 158.752, 158.896, 158.716, 159.29, 159.664, 158.286, 157.818, 158.214, 159.684, 159.624, 157.864, 159.73, 158.964, 157.274, 159.026, 159.766, 158.988, 158.846, 156.982, 156.55, 158.91, 158.588, 159.446, 157.794, 158.606, 159.116, 157.954, 159.634, 156.5, 158.072, 157.928, 158.416, 158.332, 160.142, 158.328, 158.674, 158.09, 158.464, 158.794, 159.496, 157.83, 160.036, 157.852, 158.966, 158.714, 157.758, 158.948, 160.152, 158.182, 160.508, 158.194, 158.792, 158.326, 159.01, 159.168, 157.31, 156.818, 159.488, 157.108, 160.366, 158.568, 157.7, 157.73, 157.678, 158.606, 158.31, 157.74, 158.578, 159.564, 158.714, 158.324, 159.368, 160.278, 159.296, 158.944, 158.068, 159.234, 158.96, 159.052, 158.478, 160.43, 156.932, 158.758, 159.198, 158.986, 159.308, 159.534, 157.988, 158.268, 158.77, 157.148, 160.18, 158.504, 158.018, 160.288, 159.232, 159.096, 159.692, 159.254, 159.502, 158.588, 158.98, 158.632, 158.256, 158.134, 159.708, 158.598, 158.244, 159.766, 158.786, 157.726, 157.456, 159.444, 158.512, 158.356, 159.23, 158.562, 159.614, 157.876, 157.416, 156.928, 158.696, 158.306, 158.254, 158.198, 158.952, 158.66, 160.022, 158.106, 158.45, 160.016, 158.352, 160.182, 158.176, 158.268, 157.634, 157.454, 157.918, 157.092, 157.09, 157.164, 158.032, 158.972, 159.66, 158.32, 158.888, 158.686, 158.674, 159.032, 157.426, 158.316, 157.714, 158.972, 156.324, 158.458, 156.712, 158.988, 160.446, 158.398, 158.434, 159.312, 157.448, 158.054, 160.784, 160.028, 158.868, 158.158, 159.738, 159.914, 159.432, 157.96, 158.702, 158.262, 158.42, 159.306, 158.832, 158.104, 158.444, 158.336, 157.38, 157.684, 157.626, 159.218, 157.586, 158.864, 159.764, 158.556, 157.852, 158.616, 159.002, 158.276, 159.294, 159.092, 159.98, 158.258, 160.602, 157.57, 158.464, 158.812, 158.846, 159.024, 158.456, 157.312, 159.68, 159.74, 158.68, 158.134, 156.848, 159.022, 159.612, 159.592, 158.294, 157.958, 159.694, 159.16, 159.172, 158.808, 158.972, 157.404, 159.234, 158.586, 157.666, 159.178, 159.116, 158.656, 157.146, 158.472, 158.71, 158.712, 159.334, 158.078, 159.428, 157.274, 158.27, 158.386, 158.318, 157.088, 159.514, 157.692, 159.438, 157.54, 159.202, 158.942, 158.326, 157.148, 158.418, 157.884, 158.884, 160.136, 158.518, 158.716, 158.164, 158.808, 159.676, 160.276, 157.98, 157.966, 159.18, 159.204, 157.668, 158.25, 159.618, 158.332, 158.868, 159.536, 159.032, 158.33, 159.346, 158.454, 158.744, 158.412, 158.218, 158.088, 157.158, 156.086, 158.576, 159.15, 159.218, 158.978, 157.848, 159.89, 158.246, 157.564, 159.214, 157.988, 158.026, 158.348, 158.784, 159.83, 156.27, 157.86, 158.98, 158.048, 159.898, 157.564, 157.578, 159.55, 158.762, 159.338, 158.056, 159.038, 158.938, 157.216, 158.264, 158.334, 158.312, 159.55, 158.92, 159.266, 158.39, 159.464, 158.036, 157.948, 157.286, 159.768, 158.814, 157.584, 159.06, 159.398, 158.012, 157.992, 158.03, 157.462, 157.344, 158.85, 158.806, 159.29, 158.05, 157.612, 158.482, 157.806, 158.352, 159.09, 158.96, 157.978, 157.908, 159.31, 157.284, 159.042, 158.104, 158.946, 158.852, 158.24, 158.67, 157.588, 158.904, 158.48, 156.736, 157.796, 158.672, 158.9, 158.834, 158.5, 159.944, 158.464, 157.214, 158.068, 159.438, 159.48, 160.272, 159.624, 159.184, 158.544, 158.608, 157.55, 159.242, 160.034, 159.178, 159.094, 158.478, 157.69, 157.18, 159.782, 159.192, 157.622, 159.35, 158.954, 157.326, 158.588, 158.706, 157.966, 159.214, 158.808, 158.846, 158.452, 156.618, 158.392, 157.344, 158.558, 159.264, 159.78, 158.276, 159.078, 158.206, 158.498, 158.858, 159.056, 158.586, 157.4, 157.686, 157.822, 157.968, 158.486, 158.076, 158.63, 157.828, 158.036, 159.02, 158.73, 157.358, 158.924, 158.016, 159.29, 156.98, 158.958, 158.63, 157.708, 158.74, 159.87, 158.86, 158.66, 159.356, 158.6, 159.272, 158.302, 158.398, 158.806, 159.604, 159.374, 158.256, 157.394, 158.03, 158.408, 159.578, 158.514, 158.792, 159.368, 158.228, 158.578, 157.878, 160.16, 159.504, 156.366, 157.666, 158.86, 158.302, 158.736, 158.16, 159.314, 157.898, 158.822, 156.964, 158.286, 158.946, 159.902, 158.49, 159.036, 158.202, 159.08, 158.128, 158.214, 159.324, 159.176, 158.144, 157.86, 158.338, 157.974, 158.06, 158.286, 157.284, 159.334, 159.162, 158.22, 158.072, 157.87, 158.004, 159.692, 158.514, 158.21, 158.044, 158.342, 158.994, 158.666, 158.548, 158.502, 156.63, 158.75, 157.766, 158.506, 158.616, 157.678, 158.982, 160.08, 159.758, 158.318, 159.288, 160.2, 159.85, 158.22, 158.012, 158.416, 158.988, 158.586, 158.008, 157.066, 158.288, 159.63, 158.82, 157.696, 157.952, 157.254, 158.858, 159.366, 158.346, 159.704, 157.978, 158.706, 158.45, 158.154, 158.694, 158.004, 158.828, 159.136, 157.632, 157.112, 158.292, 159.076, 158.118, 159.092, 157.734, 159.872, 159.59, 158.49, 157.67, 158.334, 157.468, 159.314, 158.268, 157.714, 158.7, 157.752, 158.306, 158.074, 159.628, 158.014, 159.36, 158.186, 158.05, 159.962, 158.398, 158.74, 157.972, 158.09, 158.468, 157.686, 158.982, 158.824, 158.016, 156.902, 158.266, 159.354, 157.794, 159.03, 156.956, 158.074, 158.448, 156.41, 157.814, 159.022, 159.53, 157.572, 159.28, 157.424, 159.55, 159.374, 157.652, 157.808, 158.902, 157.662, 158.358, 157.814, 159.282, 158.446, 159.452, 158.66, 159.516, 156.656, 158.196, 158.448, 158.914, 159.288, 158.262, 157.902, 157.608, 158.542, 158.06, 158.754, 158.912, 158.512, 159.122, 157.102, 159.104, 158.356, 157.412, 158.39, 159.036, 160.014, 158.154, 158.602, 158.06, 157.624, 156.244, 159.018, 157.996, 158.67, 159.056, 157.32, 158.584, 158.658, 158.798, 158.53, 158.846, 157.148, 158.658, 159.556, 160.16, 160.634, 157.976, 158.62, 159.454, 157.412, 158.632, 157.968, 159.304, 158.748, 159.062, 158.25, 159.28, 158.362, 159.402, 157.78, 159.716, 158.788, 156.778, 158.628, 158.74, 157.99, 159.688, 158.71, 157.216, 159.272, 157.422, 157.928, 159.95, 157.684, 160.198, 156.94, 158.746, 156.602, 158.802, 159.122, 157.968, 156.908, 158.56, 157.848, 158.822, 158.692, 159.41, 159.004, 158.142, 157.43, 158.462, 158.802, 158.868, 157.002, 156.122, 156.782, 157.966, 158.466, 159.216, 158.52, 157.994, 157.908, 158.508, 160.536, 157.824, 158.258, 158.256, 159.052, 159.24, 159.236, 157.056, 158.008, 156.688, 158.55, 159.372, 159.254, 158.026, 159.146, 158.13, 160.604, 159.734, 158.178, 158.058, 157.536, 157.478, 158.43, 158.836, 157.934, 158.868, 156.4, 157.838, 158.196, 159.03, 157.508, 158.05, 157.614, 160.256, 156.994, 159.07, 158.094, 158.896, 159.142, 158.958, 158.67, 158.5, 157.838, 158.298, 158.214, 158.13, 159.366, 158.102, 158.464, 159.166, 159.326, 158.564, 157.592, 158.736, 159.146, 158.754, 159.65, 157.73, 158.978, 159.128, 158.982, 157.678, 159.626, 157.852, 158.774, 159.66, 159.314, 159.374, 159.12, 159.534, 158.016, 157.966, 159.414, 158.292, 159.56, 158.714, 158.048, 159.174, 159.816, 156.858, 158.65, 159.124, 157.684, 158.462, 157.142, 158.808, 158.196, 158.712, 158.754, 158.858, 157.708, 158.792, 158.794, 159.914, 159.136, 157.136, 157.948, 159.772, 159.202, 158.388, 157.314, 159.906, 158.13, 158.532, 159.466, 158.248, 158.024, 159.088, 156.532, 159.802, 158.692, 159.596, 158.112, 159.008, 159.612, 158.488, 158.41, 157.9, 159.126, 157.91, 158.466, 158.168, 157.94, 157.544, 158.818, 158.192, 159.022, 159.298, 158.224, 157.86]\n"
     ]
    }
   ],
   "source": [
    "print(medias)"
   ]
  },
  {
   "cell_type": "code",
   "execution_count": 58,
   "id": "4b421f7d",
   "metadata": {},
   "outputs": [
    {
     "name": "stderr",
     "output_type": "stream",
     "text": [
      "C:\\Users\\Libania\\anaconda3\\lib\\site-packages\\seaborn\\distributions.py:2557: FutureWarning: `distplot` is a deprecated function and will be removed in a future version. Please adapt your code to use either `displot` (a figure-level function with similar flexibility) or `histplot` (an axes-level function for histograms).\n",
      "  warnings.warn(msg, FutureWarning)\n"
     ]
    },
    {
     "data": {
      "text/plain": [
       "<AxesSubplot:ylabel='Density'>"
      ]
     },
     "execution_count": 58,
     "metadata": {},
     "output_type": "execute_result"
    },
    {
     "data": {
      "image/png": "[encoded data removed]",
      "text/plain": [
       "<Figure size 432x288 with 1 Axes>"
      ]
     },
     "metadata": {
      "needs_background": "light"
     },
     "output_type": "display_data"
    }
   ],
   "source": [
    "sns.distplot(medias)"
   ]
  },
  {
   "cell_type": "markdown",
   "id": "7f94a9be",
   "metadata": {},
   "source": [
    "### Distribuição gamma\n",
    "\n",
    "- Distribuição geral com valores assimétricos à direita\n",
    "- Análise de tempo de vida de produtos\n",
    "- Inadimplência com valores agregados\n",
    "- Quantidade de chuva acumulada em um reservatório\n",
    "- Tempo de reação de um motorista de acordo com a idade"
   ]
  },
  {
   "cell_type": "code",
   "execution_count": 64,
   "id": "af802d00",
   "metadata": {},
   "outputs": [],
   "source": [
    "from scipy.stats import gamma"
   ]
  },
  {
   "cell_type": "code",
   "execution_count": 65,
   "id": "ad80ef12",
   "metadata": {},
   "outputs": [],
   "source": [
    "dados_gama = gamma.rvs(a = 5, size = 1000)"
   ]
  },
  {
   "cell_type": "code",
   "execution_count": 66,
   "id": "cdf579bd",
   "metadata": {},
   "outputs": [
    {
     "name": "stderr",
     "output_type": "stream",
     "text": [
      "C:\\Users\\Libania\\anaconda3\\lib\\site-packages\\seaborn\\distributions.py:2557: FutureWarning: `distplot` is a deprecated function and will be removed in a future version. Please adapt your code to use either `displot` (a figure-level function with similar flexibility) or `histplot` (an axes-level function for histograms).\n",
      "  warnings.warn(msg, FutureWarning)\n"
     ]
    },
    {
     "data": {
      "image/png": "[encoded data removed]",
      "text/plain": [
       "<Figure size 432x288 with 1 Axes>"
      ]
     },
     "metadata": {
      "needs_background": "light"
     },
     "output_type": "display_data"
    }
   ],
   "source": [
    "sns.distplot(dados_gama);"
   ]
  },
  {
   "cell_type": "code",
   "execution_count": 67,
   "id": "d9ab624e",
   "metadata": {},
   "outputs": [
    {
     "data": {
      "text/plain": [
       "(0.5935771173336898, 22.423803462096814)"
      ]
     },
     "execution_count": 67,
     "metadata": {},
     "output_type": "execute_result"
    }
   ],
   "source": [
    "min(dados_gama), max(dados_gama)"
   ]
  },
  {
   "cell_type": "markdown",
   "id": "d0298a10",
   "metadata": {},
   "source": [
    "### Distribuição exponencial\n",
    "\n",
    "- É um tipo da distribuição gama\n",
    "- Tempo de vida de certos produtos e materiais\n",
    "- Tempo de vida de óleos isolantes e dielétricos, entre outros"
   ]
  },
  {
   "cell_type": "code",
   "execution_count": 68,
   "id": "ad060e77",
   "metadata": {},
   "outputs": [],
   "source": [
    "from scipy.stats import expon"
   ]
  },
  {
   "cell_type": "code",
   "execution_count": 69,
   "id": "6925d846",
   "metadata": {},
   "outputs": [],
   "source": [
    "dados_exponencial = expon.rvs(size = 1000)"
   ]
  },
  {
   "cell_type": "code",
   "execution_count": 70,
   "id": "b4cfe47f",
   "metadata": {},
   "outputs": [
    {
     "name": "stderr",
     "output_type": "stream",
     "text": [
      "C:\\Users\\Libania\\anaconda3\\lib\\site-packages\\seaborn\\distributions.py:2557: FutureWarning: `distplot` is a deprecated function and will be removed in a future version. Please adapt your code to use either `displot` (a figure-level function with similar flexibility) or `histplot` (an axes-level function for histograms).\n",
      "  warnings.warn(msg, FutureWarning)\n"
     ]
    },
    {
     "data": {
      "image/png": "[encoded data removed]",
      "text/plain": [
       "<Figure size 432x288 with 1 Axes>"
      ]
     },
     "metadata": {
      "needs_background": "light"
     },
     "output_type": "display_data"
    }
   ],
   "source": [
    "sns.distplot(dados_exponencial);"
   ]
  },
  {
   "cell_type": "code",
   "execution_count": 71,
   "id": "53638d54",
   "metadata": {},
   "outputs": [
    {
     "data": {
      "text/plain": [
       "(0.0022358604613867254, 6.62551216092782)"
      ]
     },
     "execution_count": 71,
     "metadata": {},
     "output_type": "execute_result"
    }
   ],
   "source": [
    "min(dados_exponencial), max(dados_exponencial)"
   ]
  },
  {
   "cell_type": "markdown",
   "id": "853d906c",
   "metadata": {},
   "source": [
    "### Distribuição uniforme\n",
    "\n",
    "- Os números da distribuição possuem a mesma probabilidade\n",
    "- Probabilidade de peças com defeitos em um lote com determinada quantidade de peças\n",
    "- Geração de números aleatórios em linguagens de programação"
   ]
  },
  {
   "cell_type": "code",
   "execution_count": 72,
   "id": "7e530b87",
   "metadata": {},
   "outputs": [],
   "source": [
    "from scipy.stats import uniform"
   ]
  },
  {
   "cell_type": "code",
   "execution_count": 73,
   "id": "73978139",
   "metadata": {},
   "outputs": [],
   "source": [
    "dados_uniforme = uniform.rvs(size=1000)"
   ]
  },
  {
   "cell_type": "code",
   "execution_count": 74,
   "id": "9f940ea4",
   "metadata": {},
   "outputs": [
    {
     "name": "stderr",
     "output_type": "stream",
     "text": [
      "C:\\Users\\Libania\\anaconda3\\lib\\site-packages\\seaborn\\distributions.py:2557: FutureWarning: `distplot` is a deprecated function and will be removed in a future version. Please adapt your code to use either `displot` (a figure-level function with similar flexibility) or `histplot` (an axes-level function for histograms).\n",
      "  warnings.warn(msg, FutureWarning)\n"
     ]
    },
    {
     "data": {
      "text/plain": [
       "<AxesSubplot:ylabel='Density'>"
      ]
     },
     "execution_count": 74,
     "metadata": {},
     "output_type": "execute_result"
    },
    {
     "data": {
      "image/png": "[encoded data removed]",
      "text/plain": [
       "<Figure size 432x288 with 1 Axes>"
      ]
     },
     "metadata": {
      "needs_background": "light"
     },
     "output_type": "display_data"
    }
   ],
   "source": [
    "sns.distplot(dados_uniforme)"
   ]
  },
  {
   "cell_type": "code",
   "execution_count": 75,
   "id": "d31a6689",
   "metadata": {},
   "outputs": [
    {
     "data": {
      "text/plain": [
       "(0.00023837197220721862, 0.9994061908655267)"
      ]
     },
     "execution_count": 75,
     "metadata": {},
     "output_type": "execute_result"
    }
   ],
   "source": [
    "min(dados_uniforme), max(dados_uniforme)"
   ]
  },
  {
   "cell_type": "code",
   "execution_count": 76,
   "id": "09bce116",
   "metadata": {},
   "outputs": [
    {
     "data": {
      "text/plain": [
       "(array([2.38371972e-04, 3.83325665e-04, 9.20208908e-04, 2.47144321e-03,\n",
       "        2.61827943e-03, 3.02822533e-03, 5.09072325e-03, 5.69604077e-03,\n",
       "        5.93136698e-03, 6.07276912e-03, 6.54616893e-03, 9.48668721e-03,\n",
       "        1.10562698e-02, 1.22472867e-02, 1.31906506e-02, 1.33801458e-02,\n",
       "        1.52185317e-02, 1.54789727e-02, 1.61251574e-02, 1.83832433e-02,\n",
       "        1.99823265e-02, 2.02417371e-02, 2.08063197e-02, 2.29522530e-02,\n",
       "        2.50065480e-02, 2.59508013e-02, 2.60671357e-02, 2.61885134e-02,\n",
       "        2.79333969e-02, 2.80563277e-02, 2.83320393e-02, 2.92934437e-02,\n",
       "        2.95565424e-02, 2.95832399e-02, 3.02083047e-02, 3.49842508e-02,\n",
       "        3.55022792e-02, 3.68320167e-02, 3.75889757e-02, 3.84896640e-02,\n",
       "        3.90471387e-02, 3.92513440e-02, 4.07418812e-02, 4.46308624e-02,\n",
       "        4.58404164e-02, 4.81952334e-02, 4.89568433e-02, 5.16579785e-02,\n",
       "        5.22736334e-02, 5.35895573e-02, 5.58530570e-02, 5.62468835e-02,\n",
       "        5.70600619e-02, 5.74430796e-02, 5.80483408e-02, 6.02666529e-02,\n",
       "        6.08499013e-02, 6.31507403e-02, 6.37064503e-02, 6.37617220e-02,\n",
       "        6.38107485e-02, 6.46047906e-02, 6.47710535e-02, 6.64200912e-02,\n",
       "        6.68672390e-02, 6.93657582e-02, 7.11809940e-02, 7.24737797e-02,\n",
       "        7.39226907e-02, 7.44347435e-02, 7.55460100e-02, 7.68283707e-02,\n",
       "        7.70116673e-02, 7.81210194e-02, 7.85046298e-02, 7.91086499e-02,\n",
       "        8.10353990e-02, 8.20937669e-02, 8.24702716e-02, 8.30144333e-02,\n",
       "        8.35351364e-02, 8.37427637e-02, 8.41236833e-02, 8.65895708e-02,\n",
       "        8.80104123e-02, 8.89084554e-02, 8.94771263e-02, 8.97634144e-02,\n",
       "        9.00698393e-02, 9.14384797e-02, 9.20139382e-02, 9.32507872e-02,\n",
       "        9.40778576e-02, 9.42749715e-02, 9.73853627e-02, 9.84740080e-02,\n",
       "        9.90773011e-02, 1.00011443e-01, 1.00981819e-01, 1.01677907e-01,\n",
       "        1.02922902e-01, 1.03174725e-01, 1.06215121e-01, 1.08573400e-01,\n",
       "        1.08865056e-01, 1.09640600e-01, 1.09816945e-01, 1.11244984e-01,\n",
       "        1.11786452e-01, 1.12206497e-01, 1.14670935e-01, 1.15706986e-01,\n",
       "        1.16417701e-01, 1.17313345e-01, 1.19835088e-01, 1.20046402e-01,\n",
       "        1.23453995e-01, 1.24062081e-01, 1.25055795e-01, 1.25059649e-01,\n",
       "        1.25413153e-01, 1.25864296e-01, 1.26094205e-01, 1.26440284e-01,\n",
       "        1.26819435e-01, 1.27471869e-01, 1.28290464e-01, 1.29996401e-01,\n",
       "        1.30874967e-01, 1.31723749e-01, 1.32765762e-01, 1.34707891e-01,\n",
       "        1.34979980e-01, 1.38560689e-01, 1.40312159e-01, 1.41341044e-01,\n",
       "        1.41743485e-01, 1.43350678e-01, 1.43704860e-01, 1.43899769e-01,\n",
       "        1.45056662e-01, 1.48183990e-01, 1.49751120e-01, 1.49862128e-01,\n",
       "        1.50644577e-01, 1.50875271e-01, 1.52185362e-01, 1.52715332e-01,\n",
       "        1.53557889e-01, 1.54730971e-01, 1.56075976e-01, 1.56148932e-01,\n",
       "        1.56549406e-01, 1.57444734e-01, 1.58153999e-01, 1.58691963e-01,\n",
       "        1.60104380e-01, 1.60143743e-01, 1.61846470e-01, 1.62959551e-01,\n",
       "        1.63860067e-01, 1.64718211e-01, 1.65617192e-01, 1.67052576e-01,\n",
       "        1.67920389e-01, 1.68810284e-01, 1.69270102e-01, 1.69819142e-01,\n",
       "        1.70323339e-01, 1.71430991e-01, 1.72833345e-01, 1.73991564e-01,\n",
       "        1.74145521e-01, 1.78310700e-01, 1.80335440e-01, 1.80561119e-01,\n",
       "        1.83283635e-01, 1.84109754e-01, 1.84358105e-01, 1.84833325e-01,\n",
       "        1.84934089e-01, 1.86820731e-01, 1.88789679e-01, 1.89287408e-01,\n",
       "        1.90320128e-01, 1.90459358e-01, 1.90582438e-01, 1.92049573e-01,\n",
       "        1.92105420e-01, 1.94673789e-01, 1.94708482e-01, 1.94809035e-01,\n",
       "        1.95286905e-01, 1.97004829e-01, 1.98635835e-01, 2.01654189e-01,\n",
       "        2.02012719e-01, 2.02987539e-01, 2.04417236e-01, 2.04466003e-01,\n",
       "        2.06326511e-01, 2.06351599e-01, 2.08254012e-01, 2.08376092e-01,\n",
       "        2.08609906e-01, 2.08856142e-01, 2.10236300e-01, 2.10477162e-01,\n",
       "        2.12708464e-01, 2.14672752e-01, 2.15418216e-01, 2.16026925e-01,\n",
       "        2.16434678e-01, 2.17583031e-01, 2.17810273e-01, 2.20468363e-01,\n",
       "        2.21689147e-01, 2.21878351e-01, 2.26516989e-01, 2.26754424e-01,\n",
       "        2.28768022e-01, 2.29256677e-01, 2.30323901e-01, 2.31058258e-01,\n",
       "        2.33413045e-01, 2.33826915e-01, 2.34644477e-01, 2.35087891e-01,\n",
       "        2.35213956e-01, 2.35420242e-01, 2.35691732e-01, 2.38078197e-01,\n",
       "        2.41867020e-01, 2.41920889e-01, 2.42001412e-01, 2.42601845e-01,\n",
       "        2.45352612e-01, 2.45586255e-01, 2.45651639e-01, 2.46922036e-01,\n",
       "        2.47012048e-01, 2.47206781e-01, 2.47875818e-01, 2.48598057e-01,\n",
       "        2.48898299e-01, 2.50191812e-01, 2.52826931e-01, 2.53138772e-01,\n",
       "        2.53702641e-01, 2.54039220e-01, 2.54180643e-01, 2.54407082e-01,\n",
       "        2.54431299e-01, 2.54464310e-01, 2.54953382e-01, 2.56034146e-01,\n",
       "        2.56465082e-01, 2.57857500e-01, 2.58177094e-01, 2.60249158e-01,\n",
       "        2.60297716e-01, 2.60881330e-01, 2.61484119e-01, 2.61842486e-01,\n",
       "        2.61989929e-01, 2.63355844e-01, 2.63842980e-01, 2.64412604e-01,\n",
       "        2.66225386e-01, 2.67859554e-01, 2.68351727e-01, 2.69804430e-01,\n",
       "        2.70244459e-01, 2.70556175e-01, 2.71273507e-01, 2.71610752e-01,\n",
       "        2.72564346e-01, 2.73190336e-01, 2.73306529e-01, 2.73328842e-01,\n",
       "        2.73369082e-01, 2.74107469e-01, 2.74512297e-01, 2.75616115e-01,\n",
       "        2.78042670e-01, 2.78222256e-01, 2.80601217e-01, 2.80751151e-01,\n",
       "        2.81860701e-01, 2.81962387e-01, 2.83236588e-01, 2.84169466e-01,\n",
       "        2.85259789e-01, 2.85980009e-01, 2.87156765e-01, 2.87511595e-01,\n",
       "        2.88230503e-01, 2.89123120e-01, 2.89744961e-01, 2.91370765e-01,\n",
       "        2.91939291e-01, 2.92275320e-01, 2.92847854e-01, 2.93265371e-01,\n",
       "        2.93547001e-01, 2.94662088e-01, 2.94711552e-01, 2.94973929e-01,\n",
       "        2.95165282e-01, 2.96257699e-01, 2.96806705e-01, 2.96813715e-01,\n",
       "        2.97404159e-01, 2.98415886e-01, 2.98698777e-01, 2.99873098e-01,\n",
       "        3.03262049e-01, 3.05207501e-01, 3.05304563e-01, 3.05780278e-01,\n",
       "        3.05803163e-01, 3.06620145e-01, 3.07023887e-01, 3.07156454e-01,\n",
       "        3.07533377e-01, 3.07789179e-01, 3.08119606e-01, 3.10235621e-01,\n",
       "        3.14629071e-01, 3.14858487e-01, 3.16393940e-01, 3.16492815e-01,\n",
       "        3.16985244e-01, 3.17223868e-01, 3.17419176e-01, 3.18879355e-01,\n",
       "        3.19752439e-01, 3.20604676e-01, 3.21040655e-01, 3.21453198e-01,\n",
       "        3.22121655e-01, 3.23297743e-01, 3.25101406e-01, 3.26315889e-01,\n",
       "        3.27179468e-01, 3.27914897e-01, 3.28039748e-01, 3.30443962e-01,\n",
       "        3.30480633e-01, 3.31046941e-01, 3.31075343e-01, 3.31188743e-01,\n",
       "        3.34726657e-01, 3.35559417e-01, 3.35592884e-01, 3.36759547e-01,\n",
       "        3.37076936e-01, 3.38137036e-01, 3.38757294e-01, 3.40131275e-01,\n",
       "        3.40569215e-01, 3.40649763e-01, 3.42253012e-01, 3.45079158e-01,\n",
       "        3.47012938e-01, 3.48285493e-01, 3.50470695e-01, 3.52142363e-01,\n",
       "        3.52193729e-01, 3.52598936e-01, 3.52857483e-01, 3.53463782e-01,\n",
       "        3.53636299e-01, 3.55951779e-01, 3.56072677e-01, 3.57127006e-01,\n",
       "        3.57485423e-01, 3.60378720e-01, 3.62065413e-01, 3.62858357e-01,\n",
       "        3.63353592e-01, 3.65749026e-01, 3.69231070e-01, 3.70689137e-01,\n",
       "        3.72746696e-01, 3.79044287e-01, 3.80935949e-01, 3.82667227e-01,\n",
       "        3.82826982e-01, 3.82900390e-01, 3.83991992e-01, 3.84320100e-01,\n",
       "        3.84368117e-01, 3.85096388e-01, 3.85742688e-01, 3.85866531e-01,\n",
       "        3.89417066e-01, 3.91300344e-01, 3.91524959e-01, 3.91670841e-01,\n",
       "        3.92191354e-01, 3.92356686e-01, 3.93163405e-01, 3.93310670e-01,\n",
       "        3.94544802e-01, 3.95383714e-01, 3.96707262e-01, 3.99611438e-01,\n",
       "        3.99735402e-01, 3.99749866e-01, 3.99993966e-01, 4.02376235e-01,\n",
       "        4.03000065e-01, 4.03261093e-01, 4.03424163e-01, 4.04465604e-01,\n",
       "        4.04802531e-01, 4.06948993e-01, 4.07102166e-01, 4.07307892e-01,\n",
       "        4.08284251e-01, 4.08366471e-01, 4.09693679e-01, 4.10084993e-01,\n",
       "        4.10167000e-01, 4.10510132e-01, 4.10575282e-01, 4.10957165e-01,\n",
       "        4.11472615e-01, 4.11957911e-01, 4.12386553e-01, 4.12659695e-01,\n",
       "        4.13552867e-01, 4.13830118e-01, 4.14650276e-01, 4.15694615e-01,\n",
       "        4.15762261e-01, 4.23963381e-01, 4.24345717e-01, 4.25314851e-01,\n",
       "        4.25651576e-01, 4.27759682e-01, 4.27897134e-01, 4.29056126e-01,\n",
       "        4.32028795e-01, 4.33719010e-01, 4.35532971e-01, 4.36223565e-01,\n",
       "        4.37430989e-01, 4.37573188e-01, 4.37759053e-01, 4.38295957e-01,\n",
       "        4.38637982e-01, 4.39550813e-01, 4.42540214e-01, 4.42737609e-01,\n",
       "        4.43377222e-01, 4.44455932e-01, 4.44704349e-01, 4.46368592e-01,\n",
       "        4.46773803e-01, 4.47096813e-01, 4.47947329e-01, 4.51764131e-01,\n",
       "        4.54814885e-01, 4.56647577e-01, 4.56962146e-01, 4.58165711e-01,\n",
       "        4.58411866e-01, 4.61194016e-01, 4.62845994e-01, 4.63485136e-01,\n",
       "        4.64220546e-01, 4.65022624e-01, 4.65812664e-01, 4.66683927e-01,\n",
       "        4.68244244e-01, 4.68350065e-01, 4.68663867e-01, 4.69745263e-01,\n",
       "        4.69865867e-01, 4.71060665e-01, 4.71685424e-01, 4.73164436e-01,\n",
       "        4.73630164e-01, 4.74124578e-01, 4.76446775e-01, 4.76982343e-01,\n",
       "        4.77391333e-01, 4.79211352e-01, 4.79978036e-01, 4.80609889e-01,\n",
       "        4.82673885e-01, 4.83294974e-01, 4.83394474e-01, 4.84795935e-01,\n",
       "        4.85366753e-01, 4.85455730e-01, 4.89244399e-01, 4.89319763e-01,\n",
       "        4.91297263e-01, 4.92139126e-01, 4.94028652e-01, 4.94056814e-01,\n",
       "        4.94404419e-01, 4.95497573e-01, 4.95629771e-01, 4.96910645e-01,\n",
       "        4.97078040e-01, 4.97165399e-01, 4.97233234e-01, 4.97332800e-01,\n",
       "        4.97486657e-01, 4.99179917e-01, 4.99716170e-01, 5.02574949e-01,\n",
       "        5.02712248e-01, 5.05991954e-01, 5.07181956e-01, 5.10148650e-01,\n",
       "        5.12303429e-01, 5.14362644e-01, 5.15229292e-01, 5.15829483e-01,\n",
       "        5.16464987e-01, 5.17809010e-01, 5.19297646e-01, 5.19427606e-01,\n",
       "        5.20251711e-01, 5.20392271e-01, 5.21045433e-01, 5.22351387e-01,\n",
       "        5.23425632e-01, 5.23439003e-01, 5.23653931e-01, 5.23961968e-01,\n",
       "        5.25486313e-01, 5.27691418e-01, 5.28422481e-01, 5.29186785e-01,\n",
       "        5.33318007e-01, 5.34248499e-01, 5.36438443e-01, 5.36651398e-01,\n",
       "        5.37489433e-01, 5.37821213e-01, 5.38746378e-01, 5.38780908e-01,\n",
       "        5.39244225e-01, 5.39840361e-01, 5.41779721e-01, 5.42734551e-01,\n",
       "        5.42787839e-01, 5.45478545e-01, 5.45648085e-01, 5.45804117e-01,\n",
       "        5.47413044e-01, 5.48093616e-01, 5.49365792e-01, 5.49482947e-01,\n",
       "        5.49919556e-01, 5.50094513e-01, 5.51766323e-01, 5.53870126e-01,\n",
       "        5.55129158e-01, 5.55801930e-01, 5.56990657e-01, 5.57886793e-01,\n",
       "        5.59200254e-01, 5.59720023e-01, 5.60680000e-01, 5.61158846e-01,\n",
       "        5.61684451e-01, 5.64148340e-01, 5.66252327e-01, 5.66681681e-01,\n",
       "        5.68813727e-01, 5.70729392e-01, 5.71509375e-01, 5.71758737e-01,\n",
       "        5.71804252e-01, 5.71919041e-01, 5.72108391e-01, 5.73140503e-01,\n",
       "        5.73248845e-01, 5.74109223e-01, 5.75207737e-01, 5.76041091e-01,\n",
       "        5.77766102e-01, 5.79464526e-01, 5.80463029e-01, 5.80731071e-01,\n",
       "        5.81130009e-01, 5.82918028e-01, 5.83127083e-01, 5.83996047e-01,\n",
       "        5.85316977e-01, 5.85495406e-01, 5.88762291e-01, 5.88968840e-01,\n",
       "        5.89319741e-01, 5.89547213e-01, 5.89956176e-01, 5.90027550e-01,\n",
       "        5.92602095e-01, 5.94761994e-01, 5.95361208e-01, 5.95711256e-01,\n",
       "        5.99559499e-01, 5.99908650e-01, 6.02297708e-01, 6.03029698e-01,\n",
       "        6.03787408e-01, 6.06901856e-01, 6.07225356e-01, 6.07923827e-01,\n",
       "        6.08212201e-01, 6.08459211e-01, 6.08998615e-01, 6.09008065e-01,\n",
       "        6.09513215e-01, 6.11711028e-01, 6.12304061e-01, 6.13048165e-01,\n",
       "        6.13539099e-01, 6.15945534e-01, 6.16985102e-01, 6.18594332e-01,\n",
       "        6.20403046e-01, 6.20619749e-01, 6.21953253e-01, 6.24442051e-01,\n",
       "        6.24515580e-01, 6.25740755e-01, 6.26751366e-01, 6.27312114e-01,\n",
       "        6.28680994e-01, 6.29512705e-01, 6.29579740e-01, 6.29796105e-01,\n",
       "        6.31047924e-01, 6.31214983e-01, 6.31295709e-01, 6.32733932e-01,\n",
       "        6.32871251e-01, 6.32937985e-01, 6.33132555e-01, 6.33136507e-01,\n",
       "        6.33833507e-01, 6.33939411e-01, 6.35317921e-01, 6.35557693e-01,\n",
       "        6.35794777e-01, 6.36901451e-01, 6.37247465e-01, 6.37662764e-01,\n",
       "        6.41649383e-01, 6.41666769e-01, 6.42009580e-01, 6.42491236e-01,\n",
       "        6.42615443e-01, 6.43615869e-01, 6.45492863e-01, 6.45624662e-01,\n",
       "        6.45932747e-01, 6.47873086e-01, 6.49672600e-01, 6.50238170e-01,\n",
       "        6.51041370e-01, 6.51434138e-01, 6.52386721e-01, 6.54469071e-01,\n",
       "        6.55538079e-01, 6.56747542e-01, 6.59644925e-01, 6.63195219e-01,\n",
       "        6.65087498e-01, 6.66072519e-01, 6.66281796e-01, 6.66335068e-01,\n",
       "        6.67298391e-01, 6.68895353e-01, 6.72167522e-01, 6.74648008e-01,\n",
       "        6.75274283e-01, 6.75524521e-01, 6.78211058e-01, 6.79931665e-01,\n",
       "        6.84247815e-01, 6.85379175e-01, 6.85496349e-01, 6.85668934e-01,\n",
       "        6.86638126e-01, 6.88634442e-01, 6.89554024e-01, 6.90475146e-01,\n",
       "        6.93312947e-01, 6.97980594e-01, 6.99389583e-01, 7.00889123e-01,\n",
       "        7.01947992e-01, 7.05228311e-01, 7.08335503e-01, 7.09401835e-01,\n",
       "        7.09946623e-01, 7.10415298e-01, 7.10444733e-01, 7.10659324e-01,\n",
       "        7.11976980e-01, 7.12317890e-01, 7.13264818e-01, 7.13411726e-01,\n",
       "        7.14701824e-01, 7.15508477e-01, 7.15957938e-01, 7.17759501e-01,\n",
       "        7.17787737e-01, 7.18517641e-01, 7.18611023e-01, 7.18878891e-01,\n",
       "        7.19715495e-01, 7.20437124e-01, 7.24047956e-01, 7.24103493e-01,\n",
       "        7.25238545e-01, 7.25517790e-01, 7.26331298e-01, 7.27041161e-01,\n",
       "        7.27076430e-01, 7.27411364e-01, 7.28046916e-01, 7.29493136e-01,\n",
       "        7.29590100e-01, 7.30551259e-01, 7.30943476e-01, 7.31436449e-01,\n",
       "        7.31536006e-01, 7.33060298e-01, 7.35771092e-01, 7.37473545e-01,\n",
       "        7.39746113e-01, 7.40458602e-01, 7.41501942e-01, 7.42801903e-01,\n",
       "        7.46486978e-01, 7.48297818e-01, 7.51025711e-01, 7.53003025e-01,\n",
       "        7.53576533e-01, 7.53957955e-01, 7.54237334e-01, 7.54279963e-01,\n",
       "        7.55470880e-01, 7.55524842e-01, 7.55677837e-01, 7.58252508e-01,\n",
       "        7.58506344e-01, 7.61283152e-01, 7.61485567e-01, 7.63477198e-01,\n",
       "        7.65642236e-01, 7.68805090e-01, 7.68923930e-01, 7.71248419e-01,\n",
       "        7.71563700e-01, 7.72069401e-01, 7.72414484e-01, 7.72892305e-01,\n",
       "        7.74879260e-01, 7.76254191e-01, 7.79056691e-01, 7.79314612e-01,\n",
       "        7.80092286e-01, 7.80159127e-01, 7.80269108e-01, 7.80502824e-01,\n",
       "        7.80547288e-01, 7.81548040e-01, 7.81788133e-01, 7.81791937e-01,\n",
       "        7.82441001e-01, 7.82444114e-01, 7.82511831e-01, 7.84330457e-01,\n",
       "        7.85765255e-01, 7.86561152e-01, 7.86639672e-01, 7.87743225e-01,\n",
       "        7.90031839e-01, 7.90600341e-01, 7.90981878e-01, 7.91232200e-01,\n",
       "        7.94479831e-01, 7.96629948e-01, 7.97272372e-01, 7.99889473e-01,\n",
       "        8.00237541e-01, 8.00822060e-01, 8.01680933e-01, 8.03786797e-01,\n",
       "        8.04033400e-01, 8.04128127e-01, 8.06822352e-01, 8.06825311e-01,\n",
       "        8.06846365e-01, 8.06992271e-01, 8.07871637e-01, 8.09441837e-01,\n",
       "        8.11324153e-01, 8.11805436e-01, 8.11824715e-01, 8.12225422e-01,\n",
       "        8.13282223e-01, 8.14128133e-01, 8.14243574e-01, 8.14274926e-01,\n",
       "        8.14957873e-01, 8.16297968e-01, 8.16539542e-01, 8.20159624e-01,\n",
       "        8.23325529e-01, 8.27117841e-01, 8.27718693e-01, 8.28323366e-01,\n",
       "        8.28501359e-01, 8.30775858e-01, 8.31002997e-01, 8.31366908e-01,\n",
       "        8.32330767e-01, 8.34646286e-01, 8.34750867e-01, 8.35066360e-01,\n",
       "        8.35286244e-01, 8.36190312e-01, 8.36751214e-01, 8.37249729e-01,\n",
       "        8.38221451e-01, 8.39620502e-01, 8.40841609e-01, 8.42112223e-01,\n",
       "        8.43422072e-01, 8.43877124e-01, 8.44772247e-01, 8.44948634e-01,\n",
       "        8.46864128e-01, 8.48059050e-01, 8.48618243e-01, 8.49912211e-01,\n",
       "        8.54151081e-01, 8.54333890e-01, 8.54822675e-01, 8.55543801e-01,\n",
       "        8.55967382e-01, 8.56003106e-01, 8.56651890e-01, 8.58257515e-01,\n",
       "        8.58486154e-01, 8.60120914e-01, 8.60476658e-01, 8.61196871e-01,\n",
       "        8.65058171e-01, 8.65783728e-01, 8.66142313e-01, 8.67827134e-01,\n",
       "        8.68088287e-01, 8.68140161e-01, 8.68642915e-01, 8.68669705e-01,\n",
       "        8.68799892e-01, 8.68953887e-01, 8.70193342e-01, 8.70613030e-01,\n",
       "        8.72155869e-01, 8.72931458e-01, 8.73525917e-01, 8.75514105e-01,\n",
       "        8.76205727e-01, 8.76701796e-01, 8.78154798e-01, 8.78438088e-01,\n",
       "        8.78891926e-01, 8.79028302e-01, 8.80402551e-01, 8.82908154e-01,\n",
       "        8.83005721e-01, 8.85504986e-01, 8.86431359e-01, 8.88612990e-01,\n",
       "        8.89659420e-01, 8.91736396e-01, 8.92474645e-01, 8.92605891e-01,\n",
       "        8.93083145e-01, 8.93404977e-01, 8.96446808e-01, 8.96962497e-01,\n",
       "        8.97259049e-01, 8.97909269e-01, 9.00228200e-01, 9.01744906e-01,\n",
       "        9.02145557e-01, 9.04192154e-01, 9.05313894e-01, 9.05470834e-01,\n",
       "        9.06724609e-01, 9.06894210e-01, 9.07159116e-01, 9.07286628e-01,\n",
       "        9.07937975e-01, 9.08043469e-01, 9.08318651e-01, 9.08572409e-01,\n",
       "        9.08602385e-01, 9.09528547e-01, 9.13201920e-01, 9.13386476e-01,\n",
       "        9.13520268e-01, 9.14171686e-01, 9.15072697e-01, 9.16146324e-01,\n",
       "        9.16526255e-01, 9.17117946e-01, 9.17204060e-01, 9.17934297e-01,\n",
       "        9.18366108e-01, 9.19316924e-01, 9.19351246e-01, 9.19967371e-01,\n",
       "        9.20917903e-01, 9.21484182e-01, 9.22178620e-01, 9.25325524e-01,\n",
       "        9.26490817e-01, 9.26781284e-01, 9.29570786e-01, 9.30103312e-01,\n",
       "        9.30439678e-01, 9.31086520e-01, 9.32396811e-01, 9.32474024e-01,\n",
       "        9.32633868e-01, 9.33527212e-01, 9.35046742e-01, 9.35308970e-01,\n",
       "        9.35614769e-01, 9.36912618e-01, 9.37165392e-01, 9.37279429e-01,\n",
       "        9.37309088e-01, 9.37636623e-01, 9.40984845e-01, 9.42466536e-01,\n",
       "        9.43114091e-01, 9.45593128e-01, 9.46431292e-01, 9.47529633e-01,\n",
       "        9.47865201e-01, 9.47935129e-01, 9.48122434e-01, 9.49291645e-01,\n",
       "        9.50135839e-01, 9.50603950e-01, 9.51497107e-01, 9.52235647e-01,\n",
       "        9.52785177e-01, 9.54425043e-01, 9.55454150e-01, 9.56333609e-01,\n",
       "        9.58262601e-01, 9.58370860e-01, 9.61015263e-01, 9.64680601e-01,\n",
       "        9.65781593e-01, 9.68009981e-01, 9.69005749e-01, 9.69808598e-01,\n",
       "        9.72491796e-01, 9.73334899e-01, 9.75940288e-01, 9.76026115e-01,\n",
       "        9.76095789e-01, 9.77869712e-01, 9.78043285e-01, 9.79093417e-01,\n",
       "        9.79476248e-01, 9.80930698e-01, 9.84449665e-01, 9.85252211e-01,\n",
       "        9.88939310e-01, 9.89296770e-01, 9.89549756e-01, 9.89836350e-01,\n",
       "        9.91318278e-01, 9.92168926e-01, 9.94472722e-01, 9.95658474e-01,\n",
       "        9.96683731e-01, 9.98986356e-01, 9.99348500e-01, 9.99406191e-01]),\n",
       " array([1, 1, 1, 1, 1, 1, 1, 1, 1, 1, 1, 1, 1, 1, 1, 1, 1, 1, 1, 1, 1, 1,\n",
       "        1, 1, 1, 1, 1, 1, 1, 1, 1, 1, 1, 1, 1, 1, 1, 1, 1, 1, 1, 1, 1, 1,\n",
       "        1, 1, 1, 1, 1, 1, 1, 1, 1, 1, 1, 1, 1, 1, 1, 1, 1, 1, 1, 1, 1, 1,\n",
       "        1, 1, 1, 1, 1, 1, 1, 1, 1, 1, 1, 1, 1, 1, 1, 1, 1, 1, 1, 1, 1, 1,\n",
       "        1, 1, 1, 1, 1, 1, 1, 1, 1, 1, 1, 1, 1, 1, 1, 1, 1, 1, 1, 1, 1, 1,\n",
       "        1, 1, 1, 1, 1, 1, 1, 1, 1, 1, 1, 1, 1, 1, 1, 1, 1, 1, 1, 1, 1, 1,\n",
       "        1, 1, 1, 1, 1, 1, 1, 1, 1, 1, 1, 1, 1, 1, 1, 1, 1, 1, 1, 1, 1, 1,\n",
       "        1, 1, 1, 1, 1, 1, 1, 1, 1, 1, 1, 1, 1, 1, 1, 1, 1, 1, 1, 1, 1, 1,\n",
       "        1, 1, 1, 1, 1, 1, 1, 1, 1, 1, 1, 1, 1, 1, 1, 1, 1, 1, 1, 1, 1, 1,\n",
       "        1, 1, 1, 1, 1, 1, 1, 1, 1, 1, 1, 1, 1, 1, 1, 1, 1, 1, 1, 1, 1, 1,\n",
       "        1, 1, 1, 1, 1, 1, 1, 1, 1, 1, 1, 1, 1, 1, 1, 1, 1, 1, 1, 1, 1, 1,\n",
       "        1, 1, 1, 1, 1, 1, 1, 1, 1, 1, 1, 1, 1, 1, 1, 1, 1, 1, 1, 1, 1, 1,\n",
       "        1, 1, 1, 1, 1, 1, 1, 1, 1, 1, 1, 1, 1, 1, 1, 1, 1, 1, 1, 1, 1, 1,\n",
       "        1, 1, 1, 1, 1, 1, 1, 1, 1, 1, 1, 1, 1, 1, 1, 1, 1, 1, 1, 1, 1, 1,\n",
       "        1, 1, 1, 1, 1, 1, 1, 1, 1, 1, 1, 1, 1, 1, 1, 1, 1, 1, 1, 1, 1, 1,\n",
       "        1, 1, 1, 1, 1, 1, 1, 1, 1, 1, 1, 1, 1, 1, 1, 1, 1, 1, 1, 1, 1, 1,\n",
       "        1, 1, 1, 1, 1, 1, 1, 1, 1, 1, 1, 1, 1, 1, 1, 1, 1, 1, 1, 1, 1, 1,\n",
       "        1, 1, 1, 1, 1, 1, 1, 1, 1, 1, 1, 1, 1, 1, 1, 1, 1, 1, 1, 1, 1, 1,\n",
       "        1, 1, 1, 1, 1, 1, 1, 1, 1, 1, 1, 1, 1, 1, 1, 1, 1, 1, 1, 1, 1, 1,\n",
       "        1, 1, 1, 1, 1, 1, 1, 1, 1, 1, 1, 1, 1, 1, 1, 1, 1, 1, 1, 1, 1, 1,\n",
       "        1, 1, 1, 1, 1, 1, 1, 1, 1, 1, 1, 1, 1, 1, 1, 1, 1, 1, 1, 1, 1, 1,\n",
       "        1, 1, 1, 1, 1, 1, 1, 1, 1, 1, 1, 1, 1, 1, 1, 1, 1, 1, 1, 1, 1, 1,\n",
       "        1, 1, 1, 1, 1, 1, 1, 1, 1, 1, 1, 1, 1, 1, 1, 1, 1, 1, 1, 1, 1, 1,\n",
       "        1, 1, 1, 1, 1, 1, 1, 1, 1, 1, 1, 1, 1, 1, 1, 1, 1, 1, 1, 1, 1, 1,\n",
       "        1, 1, 1, 1, 1, 1, 1, 1, 1, 1, 1, 1, 1, 1, 1, 1, 1, 1, 1, 1, 1, 1,\n",
       "        1, 1, 1, 1, 1, 1, 1, 1, 1, 1, 1, 1, 1, 1, 1, 1, 1, 1, 1, 1, 1, 1,\n",
       "        1, 1, 1, 1, 1, 1, 1, 1, 1, 1, 1, 1, 1, 1, 1, 1, 1, 1, 1, 1, 1, 1,\n",
       "        1, 1, 1, 1, 1, 1, 1, 1, 1, 1, 1, 1, 1, 1, 1, 1, 1, 1, 1, 1, 1, 1,\n",
       "        1, 1, 1, 1, 1, 1, 1, 1, 1, 1, 1, 1, 1, 1, 1, 1, 1, 1, 1, 1, 1, 1,\n",
       "        1, 1, 1, 1, 1, 1, 1, 1, 1, 1, 1, 1, 1, 1, 1, 1, 1, 1, 1, 1, 1, 1,\n",
       "        1, 1, 1, 1, 1, 1, 1, 1, 1, 1, 1, 1, 1, 1, 1, 1, 1, 1, 1, 1, 1, 1,\n",
       "        1, 1, 1, 1, 1, 1, 1, 1, 1, 1, 1, 1, 1, 1, 1, 1, 1, 1, 1, 1, 1, 1,\n",
       "        1, 1, 1, 1, 1, 1, 1, 1, 1, 1, 1, 1, 1, 1, 1, 1, 1, 1, 1, 1, 1, 1,\n",
       "        1, 1, 1, 1, 1, 1, 1, 1, 1, 1, 1, 1, 1, 1, 1, 1, 1, 1, 1, 1, 1, 1,\n",
       "        1, 1, 1, 1, 1, 1, 1, 1, 1, 1, 1, 1, 1, 1, 1, 1, 1, 1, 1, 1, 1, 1,\n",
       "        1, 1, 1, 1, 1, 1, 1, 1, 1, 1, 1, 1, 1, 1, 1, 1, 1, 1, 1, 1, 1, 1,\n",
       "        1, 1, 1, 1, 1, 1, 1, 1, 1, 1, 1, 1, 1, 1, 1, 1, 1, 1, 1, 1, 1, 1,\n",
       "        1, 1, 1, 1, 1, 1, 1, 1, 1, 1, 1, 1, 1, 1, 1, 1, 1, 1, 1, 1, 1, 1,\n",
       "        1, 1, 1, 1, 1, 1, 1, 1, 1, 1, 1, 1, 1, 1, 1, 1, 1, 1, 1, 1, 1, 1,\n",
       "        1, 1, 1, 1, 1, 1, 1, 1, 1, 1, 1, 1, 1, 1, 1, 1, 1, 1, 1, 1, 1, 1,\n",
       "        1, 1, 1, 1, 1, 1, 1, 1, 1, 1, 1, 1, 1, 1, 1, 1, 1, 1, 1, 1, 1, 1,\n",
       "        1, 1, 1, 1, 1, 1, 1, 1, 1, 1, 1, 1, 1, 1, 1, 1, 1, 1, 1, 1, 1, 1,\n",
       "        1, 1, 1, 1, 1, 1, 1, 1, 1, 1, 1, 1, 1, 1, 1, 1, 1, 1, 1, 1, 1, 1,\n",
       "        1, 1, 1, 1, 1, 1, 1, 1, 1, 1, 1, 1, 1, 1, 1, 1, 1, 1, 1, 1, 1, 1,\n",
       "        1, 1, 1, 1, 1, 1, 1, 1, 1, 1, 1, 1, 1, 1, 1, 1, 1, 1, 1, 1, 1, 1,\n",
       "        1, 1, 1, 1, 1, 1, 1, 1, 1, 1], dtype=int64))"
      ]
     },
     "execution_count": 76,
     "metadata": {},
     "output_type": "execute_result"
    }
   ],
   "source": [
    "np.unique(dados_uniforme, return_counts=True)"
   ]
  },
  {
   "cell_type": "code",
   "execution_count": 77,
   "id": "3aa97b33",
   "metadata": {},
   "outputs": [
    {
     "data": {
      "text/plain": [
       "(1997, 5)"
      ]
     },
     "execution_count": 77,
     "metadata": {},
     "output_type": "execute_result"
    }
   ],
   "source": [
    "dataset = pd.read_csv('credit_data.csv')\n",
    "dataset.dropna(inplace=True)\n",
    "dataset.shape"
   ]
  },
  {
   "cell_type": "code",
   "execution_count": 78,
   "id": "0c0423ec",
   "metadata": {},
   "outputs": [
    {
     "data": {
      "text/html": [
       "<div>\n",
       "<style scoped>\n",
       "    .dataframe tbody tr th:only-of-type {\n",
       "        vertical-align: middle;\n",
       "    }\n",
       "\n",
       "    .dataframe tbody tr th {\n",
       "        vertical-align: top;\n",
       "    }\n",
       "\n",
       "    .dataframe thead th {\n",
       "        text-align: right;\n",
       "    }\n",
       "</style>\n",
       "<table border=\"1\" class=\"dataframe\">\n",
       "  <thead>\n",
       "    <tr style=\"text-align: right;\">\n",
       "      <th></th>\n",
       "      <th>i#clientid</th>\n",
       "      <th>income</th>\n",
       "      <th>age</th>\n",
       "      <th>loan</th>\n",
       "      <th>c#default</th>\n",
       "    </tr>\n",
       "  </thead>\n",
       "  <tbody>\n",
       "    <tr>\n",
       "      <th>0</th>\n",
       "      <td>1</td>\n",
       "      <td>66155.925095</td>\n",
       "      <td>59.017015</td>\n",
       "      <td>8106.532131</td>\n",
       "      <td>0</td>\n",
       "    </tr>\n",
       "    <tr>\n",
       "      <th>1</th>\n",
       "      <td>2</td>\n",
       "      <td>34415.153966</td>\n",
       "      <td>48.117153</td>\n",
       "      <td>6564.745018</td>\n",
       "      <td>0</td>\n",
       "    </tr>\n",
       "    <tr>\n",
       "      <th>2</th>\n",
       "      <td>3</td>\n",
       "      <td>57317.170063</td>\n",
       "      <td>63.108049</td>\n",
       "      <td>8020.953296</td>\n",
       "      <td>0</td>\n",
       "    </tr>\n",
       "    <tr>\n",
       "      <th>3</th>\n",
       "      <td>4</td>\n",
       "      <td>42709.534201</td>\n",
       "      <td>45.751972</td>\n",
       "      <td>6103.642260</td>\n",
       "      <td>0</td>\n",
       "    </tr>\n",
       "    <tr>\n",
       "      <th>4</th>\n",
       "      <td>5</td>\n",
       "      <td>66952.688845</td>\n",
       "      <td>18.584336</td>\n",
       "      <td>8770.099235</td>\n",
       "      <td>1</td>\n",
       "    </tr>\n",
       "  </tbody>\n",
       "</table>\n",
       "</div>"
      ],
      "text/plain": [
       "   i#clientid        income        age         loan  c#default\n",
       "0           1  66155.925095  59.017015  8106.532131          0\n",
       "1           2  34415.153966  48.117153  6564.745018          0\n",
       "2           3  57317.170063  63.108049  8020.953296          0\n",
       "3           4  42709.534201  45.751972  6103.642260          0\n",
       "4           5  66952.688845  18.584336  8770.099235          1"
      ]
     },
     "execution_count": 78,
     "metadata": {},
     "output_type": "execute_result"
    }
   ],
   "source": [
    "dataset.head()"
   ]
  },
  {
   "cell_type": "code",
   "execution_count": 79,
   "id": "d70a3731",
   "metadata": {},
   "outputs": [
    {
     "data": {
      "text/plain": [
       "array([[6.61559251e+04, 5.90170151e+01, 8.10653213e+03],\n",
       "       [3.44151540e+04, 4.81171531e+01, 6.56474502e+03],\n",
       "       [5.73171701e+04, 6.31080495e+01, 8.02095330e+03],\n",
       "       ...,\n",
       "       [4.43114493e+04, 2.80171669e+01, 5.52278669e+03],\n",
       "       [4.37560566e+04, 6.39717958e+01, 1.62272260e+03],\n",
       "       [6.94365796e+04, 5.61526170e+01, 7.37883360e+03]])"
      ]
     },
     "execution_count": 79,
     "metadata": {},
     "output_type": "execute_result"
    }
   ],
   "source": [
    "X = dataset.iloc[:, 1:4].values\n",
    "X"
   ]
  },
  {
   "cell_type": "code",
   "execution_count": 80,
   "id": "4d7564d9",
   "metadata": {},
   "outputs": [
    {
     "data": {
      "text/plain": [
       "array([0, 0, 0, ..., 1, 0, 0], dtype=int64)"
      ]
     },
     "execution_count": 80,
     "metadata": {},
     "output_type": "execute_result"
    }
   ],
   "source": [
    "y = dataset.iloc[:, 4].values\n",
    "y"
   ]
  },
  {
   "cell_type": "code",
   "execution_count": 81,
   "id": "3e5752fe",
   "metadata": {},
   "outputs": [],
   "source": [
    "from sklearn.naive_bayes import GaussianNB\n",
    "from sklearn.metrics import accuracy_score\n",
    "from sklearn.model_selection import train_test_split"
   ]
  },
  {
   "cell_type": "code",
   "execution_count": 82,
   "id": "ee2c91de",
   "metadata": {},
   "outputs": [],
   "source": [
    "resultados_naive_bayes = []\n",
    "for i in range(30):\n",
    "  X_treinamento, X_teste, y_treinamento, y_teste = train_test_split(X, y, test_size = 0.2, \n",
    "                                                                    stratify = y, random_state = i)\n",
    "  naive_bayes = GaussianNB()\n",
    "  naive_bayes.fit(X_treinamento, y_treinamento)\n",
    "  resultados_naive_bayes.append(accuracy_score(y_teste, naive_bayes.predict(X_teste)))"
   ]
  },
  {
   "cell_type": "code",
   "execution_count": 83,
   "id": "82deea13",
   "metadata": {},
   "outputs": [
    {
     "name": "stdout",
     "output_type": "stream",
     "text": [
      "[0.925, 0.925, 0.9325, 0.925, 0.92, 0.905, 0.9175, 0.9175, 0.9125, 0.9325, 0.9225, 0.9125, 0.935, 0.9175, 0.925, 0.9175, 0.9275, 0.92, 0.9325, 0.92, 0.93, 0.905, 0.9175, 0.9325, 0.9425, 0.9375, 0.94, 0.92, 0.935, 0.925]\n"
     ]
    }
   ],
   "source": [
    "print(resultados_naive_bayes)"
   ]
  },
  {
   "cell_type": "code",
   "execution_count": 84,
   "id": "350cf260",
   "metadata": {},
   "outputs": [
    {
     "name": "stderr",
     "output_type": "stream",
     "text": [
      "C:\\Users\\Libania\\anaconda3\\lib\\site-packages\\seaborn\\distributions.py:2557: FutureWarning: `distplot` is a deprecated function and will be removed in a future version. Please adapt your code to use either `displot` (a figure-level function with similar flexibility) or `histplot` (an axes-level function for histograms).\n",
      "  warnings.warn(msg, FutureWarning)\n"
     ]
    },
    {
     "data": {
      "image/png": "[encoded data removed]",
      "text/plain": [
       "<Figure size 432x288 with 1 Axes>"
      ]
     },
     "metadata": {
      "needs_background": "light"
     },
     "output_type": "display_data"
    }
   ],
   "source": [
    "sns.distplot(resultados_naive_bayes, bins = 10);"
   ]
  },
  {
   "cell_type": "markdown",
   "id": "37e72cf8",
   "metadata": {},
   "source": [
    "### Variáveis discretas"
   ]
  },
  {
   "cell_type": "markdown",
   "id": "c3169890",
   "metadata": {},
   "source": [
    "### Distribuição de Bernoulli\n",
    "\n",
    "- Tipo específico da distribuição binomial\n",
    "- Possui somente duas respostas: sucesso ou fracasso"
   ]
  },
  {
   "cell_type": "code",
   "execution_count": 85,
   "id": "8013c6ba",
   "metadata": {},
   "outputs": [],
   "source": [
    "from scipy.stats import bernoulli"
   ]
  },
  {
   "cell_type": "code",
   "execution_count": 86,
   "id": "d787a6df",
   "metadata": {},
   "outputs": [],
   "source": [
    "dados_bernoulli = bernoulli.rvs(size=1000, p=0.3)"
   ]
  },
  {
   "cell_type": "code",
   "execution_count": 87,
   "id": "c4decbcf",
   "metadata": {},
   "outputs": [
    {
     "data": {
      "text/plain": [
       "array([0, 0, 0, 1, 1, 1, 0, 0, 0, 1, 0, 0, 1, 0, 0, 0, 0, 0, 0, 0, 0, 0,\n",
       "       1, 0, 0, 1, 0, 0, 0, 0, 0, 0, 1, 1, 0, 1, 1, 0, 1, 0, 0, 0, 1, 0,\n",
       "       1, 0, 0, 0, 0, 0, 0, 0, 1, 1, 1, 1, 1, 0, 0, 0, 0, 0, 1, 0, 1, 0,\n",
       "       0, 0, 1, 0, 1, 0, 1, 0, 1, 0, 1, 0, 0, 0, 1, 0, 0, 1, 0, 1, 1, 0,\n",
       "       0, 0, 1, 0, 0, 0, 1, 0, 1, 0, 0, 0, 0, 0, 1, 0, 0, 0, 0, 0, 0, 1,\n",
       "       1, 1, 0, 1, 0, 0, 0, 0, 0, 1, 0, 1, 0, 0, 1, 1, 0, 1, 0, 1, 0, 0,\n",
       "       0, 0, 0, 1, 1, 0, 0, 1, 1, 0, 0, 0, 0, 0, 0, 0, 0, 0, 0, 0, 0, 1,\n",
       "       0, 0, 0, 0, 0, 1, 1, 0, 1, 1, 0, 0, 1, 0, 0, 0, 1, 0, 0, 0, 0, 0,\n",
       "       0, 0, 1, 0, 0, 0, 0, 1, 0, 1, 1, 0, 0, 0, 1, 1, 0, 0, 0, 0, 0, 0,\n",
       "       0, 1, 1, 0, 0, 1, 0, 1, 0, 1, 0, 1, 0, 0, 1, 0, 1, 0, 1, 0, 0, 0,\n",
       "       1, 0, 1, 0, 0, 0, 1, 0, 1, 1, 0, 0, 1, 0, 0, 1, 0, 0, 0, 0, 0, 1,\n",
       "       0, 0, 0, 1, 1, 0, 0, 0, 0, 0, 1, 1, 0, 0, 1, 0, 1, 0, 0, 0, 0, 0,\n",
       "       0, 0, 0, 0, 0, 0, 0, 0, 0, 0, 0, 1, 0, 0, 0, 1, 0, 1, 1, 1, 0, 0,\n",
       "       0, 0, 1, 1, 0, 1, 1, 0, 1, 0, 0, 0, 0, 0, 1, 0, 0, 0, 0, 0, 0, 0,\n",
       "       0, 0, 1, 0, 1, 0, 0, 0, 1, 1, 0, 0, 0, 0, 0, 1, 0, 1, 1, 0, 0, 1,\n",
       "       1, 1, 0, 0, 0, 0, 0, 1, 1, 1, 0, 0, 1, 1, 0, 0, 0, 0, 0, 1, 0, 0,\n",
       "       1, 0, 0, 0, 1, 0, 0, 1, 0, 1, 0, 0, 0, 1, 0, 1, 0, 0, 0, 0, 0, 1,\n",
       "       0, 1, 1, 0, 0, 0, 0, 1, 0, 0, 0, 0, 0, 0, 0, 0, 1, 0, 1, 1, 0, 0,\n",
       "       0, 0, 0, 0, 0, 0, 0, 0, 0, 0, 0, 0, 1, 1, 1, 0, 1, 1, 1, 0, 0, 0,\n",
       "       0, 0, 0, 0, 0, 0, 0, 0, 1, 1, 0, 0, 0, 0, 0, 0, 0, 0, 0, 0, 0, 0,\n",
       "       0, 0, 1, 1, 1, 1, 1, 0, 0, 0, 0, 0, 0, 0, 0, 0, 0, 0, 0, 0, 0, 0,\n",
       "       0, 0, 1, 1, 1, 0, 1, 0, 0, 0, 1, 1, 0, 0, 0, 0, 1, 0, 0, 0, 0, 0,\n",
       "       1, 0, 0, 0, 0, 0, 1, 0, 1, 1, 0, 0, 0, 0, 0, 0, 1, 1, 1, 0, 0, 0,\n",
       "       0, 0, 0, 1, 0, 0, 0, 0, 0, 0, 0, 0, 1, 1, 1, 0, 0, 1, 0, 1, 0, 0,\n",
       "       0, 0, 0, 0, 0, 0, 1, 0, 0, 0, 0, 0, 1, 0, 0, 1, 0, 1, 1, 0, 1, 0,\n",
       "       1, 0, 1, 0, 0, 1, 0, 0, 0, 0, 0, 0, 0, 0, 1, 0, 0, 0, 0, 0, 0, 1,\n",
       "       0, 1, 1, 1, 0, 0, 0, 1, 0, 0, 0, 0, 0, 0, 0, 0, 0, 0, 1, 0, 0, 0,\n",
       "       0, 0, 0, 0, 1, 0, 1, 1, 1, 1, 1, 1, 0, 0, 1, 0, 1, 1, 0, 1, 0, 0,\n",
       "       0, 0, 0, 0, 0, 0, 0, 0, 0, 0, 0, 1, 0, 0, 1, 0, 0, 0, 1, 0, 0, 1,\n",
       "       0, 0, 1, 1, 0, 0, 0, 1, 0, 0, 1, 1, 0, 1, 0, 1, 1, 0, 0, 0, 1, 1,\n",
       "       0, 0, 0, 0, 0, 0, 0, 1, 0, 0, 1, 1, 1, 0, 0, 0, 0, 0, 0, 0, 0, 0,\n",
       "       0, 0, 0, 0, 1, 1, 0, 1, 0, 0, 0, 0, 0, 0, 0, 0, 1, 1, 0, 0, 0, 0,\n",
       "       0, 0, 0, 0, 0, 0, 0, 1, 0, 0, 0, 0, 0, 0, 1, 0, 1, 0, 0, 0, 0, 0,\n",
       "       0, 0, 0, 1, 0, 1, 1, 0, 0, 1, 0, 0, 1, 1, 0, 0, 0, 1, 0, 1, 0, 0,\n",
       "       0, 0, 0, 0, 0, 1, 0, 0, 0, 1, 1, 0, 1, 0, 1, 0, 0, 1, 1, 0, 0, 0,\n",
       "       0, 1, 0, 1, 0, 0, 0, 1, 0, 0, 0, 1, 0, 0, 0, 1, 0, 1, 1, 0, 0, 1,\n",
       "       0, 0, 0, 0, 0, 0, 0, 0, 1, 0, 1, 1, 0, 0, 1, 0, 0, 1, 0, 0, 0, 0,\n",
       "       0, 0, 1, 0, 1, 0, 0, 1, 0, 0, 0, 1, 1, 0, 0, 1, 0, 1, 0, 1, 0, 0,\n",
       "       1, 1, 0, 0, 0, 1, 1, 0, 0, 0, 0, 0, 0, 0, 0, 0, 0, 0, 0, 0, 0, 0,\n",
       "       0, 0, 1, 1, 0, 0, 1, 0, 0, 0, 0, 0, 0, 0, 0, 0, 0, 0, 0, 0, 1, 1,\n",
       "       0, 0, 0, 0, 1, 1, 0, 0, 0, 0, 0, 0, 0, 1, 1, 0, 0, 0, 0, 0, 0, 1,\n",
       "       1, 0, 0, 0, 1, 1, 0, 0, 1, 1, 0, 0, 0, 0, 0, 0, 0, 0, 0, 0, 0, 1,\n",
       "       0, 1, 0, 0, 0, 1, 0, 0, 1, 0, 0, 0, 1, 1, 1, 1, 0, 0, 0, 1, 1, 0,\n",
       "       0, 1, 0, 0, 0, 0, 1, 0, 1, 0, 1, 1, 0, 0, 1, 1, 0, 0, 0, 1, 0, 1,\n",
       "       0, 0, 0, 0, 1, 1, 0, 0, 1, 1, 1, 0, 0, 0, 0, 0, 0, 0, 0, 0, 0, 1,\n",
       "       1, 0, 0, 1, 0, 1, 0, 0, 0, 0])"
      ]
     },
     "execution_count": 87,
     "metadata": {},
     "output_type": "execute_result"
    }
   ],
   "source": [
    "dados_bernoulli"
   ]
  },
  {
   "cell_type": "code",
   "execution_count": 88,
   "id": "f61716fe",
   "metadata": {},
   "outputs": [
    {
     "data": {
      "text/plain": [
       "(array([0, 1]), array([707, 293], dtype=int64))"
      ]
     },
     "execution_count": 88,
     "metadata": {},
     "output_type": "execute_result"
    }
   ],
   "source": [
    "np.unique(dados_bernoulli, return_counts=True)"
   ]
  },
  {
   "cell_type": "code",
   "execution_count": 89,
   "id": "80ff292c",
   "metadata": {},
   "outputs": [
    {
     "name": "stderr",
     "output_type": "stream",
     "text": [
      "C:\\Users\\Libania\\anaconda3\\lib\\site-packages\\seaborn\\distributions.py:2557: FutureWarning: `distplot` is a deprecated function and will be removed in a future version. Please adapt your code to use either `displot` (a figure-level function with similar flexibility) or `histplot` (an axes-level function for histograms).\n",
      "  warnings.warn(msg, FutureWarning)\n"
     ]
    },
    {
     "data": {
      "image/png": "[encoded data removed]",
      "text/plain": [
       "<Figure size 432x288 with 1 Axes>"
      ]
     },
     "metadata": {
      "needs_background": "light"
     },
     "output_type": "display_data"
    }
   ],
   "source": [
    "sns.distplot(dados_bernoulli, kde=False);"
   ]
  },
  {
   "cell_type": "markdown",
   "id": "2f691d81",
   "metadata": {},
   "source": [
    "### Distribuição binomial\n",
    "\n",
    "- Somente duas possibilidades (sucesso ou falha)\n",
    "- Probabilidade de sucesso ou falha"
   ]
  },
  {
   "cell_type": "code",
   "execution_count": 90,
   "id": "8fa6b7f4",
   "metadata": {},
   "outputs": [],
   "source": [
    "from scipy.stats import binom"
   ]
  },
  {
   "cell_type": "code",
   "execution_count": 91,
   "id": "59c6c72e",
   "metadata": {},
   "outputs": [],
   "source": [
    "dados_binomial = binom.rvs(size = 1000, n = 10, p = 0.8)"
   ]
  },
  {
   "cell_type": "code",
   "execution_count": 92,
   "id": "a262e402",
   "metadata": {},
   "outputs": [
    {
     "data": {
      "text/plain": [
       "(array([ 3,  4,  5,  6,  7,  8,  9, 10]),\n",
       " array([  1,   3,  19,  85, 214, 315, 271,  92], dtype=int64))"
      ]
     },
     "execution_count": 92,
     "metadata": {},
     "output_type": "execute_result"
    }
   ],
   "source": [
    "np.unique(dados_binomial, return_counts=True)"
   ]
  },
  {
   "cell_type": "code",
   "execution_count": 93,
   "id": "0d2cbfac",
   "metadata": {},
   "outputs": [
    {
     "name": "stdout",
     "output_type": "stream",
     "text": [
      "[ 9  8  8  8  9  9  8  8  8  8  8  8  8  7  9  9  8  9 10  7  7 10  5  7\n",
      " 10  7  8 10  6  9  9  9  8  9 10  7  7  9  8  9  8 10  7  6  7  9 10  8\n",
      "  9  7  7  8  9  9 10  9  7  8 10  7  9  8  8  9  6  8  8  9  9  8  7  5\n",
      "  9  7  7  8  9  7  9  8  8  8  6  8  8 10  9  7  6  8  8  7  8  7  6  7\n",
      " 10  6  9  9  7  8 10  7  7  8  7  9  7  9  6  9  9  9  9  7  6  9  7  8\n",
      "  8  9  8  8  6  7  6  7  8  9  7  8 10 10  9  9  9  7  8  8  7  9  6  9\n",
      "  8 10  3  9  8  9  7  9  6  9 10  8  8  8  8 10 10  9  9  7  8  6  8  6\n",
      "  8  7  8  7  9  7  6  7  8 10  7  8  8  7  8  8  7  7  9 10 10  6  7  9\n",
      "  9  6 10  6  5  9  8  9  9  8  6  8  9 10  9  8  8 10  6  8  8 10  8 10\n",
      "  8  8  9  9  7  9  8  9  7 10 10  6  8  7  9  8  9  8  8  9  7  9 10 10\n",
      "  9 10  7  7  9  7 10  7  7  7  8  7  5  7 10  9 10  7  8  9  9  9  8  8\n",
      "  8  9 10  8  6  9  8  9  9 10  9  9  6  8  7 10  8  8  6  7  9  6  8  7\n",
      "  8  8  8  7  8  8  8  8  7  8  8  7  9  9  8  6  9  9  8  8  9  7  9  9\n",
      "  7  7  7  8  9  8  8  6  6  7  6  7  8  7  9  9  8  7  6  9  5  7  8  7\n",
      "  9  7  8  8  8  8  6  7  8 10  9  9 10  8 10  9  6  7  9  9  8  6  9  9\n",
      "  7  8  6  7  9  8  7  8  9  9  8  9  9  9  8  8  8  8  7  8 10  9  7  7\n",
      "  9  8  9  9  7  8  8  6  9  9 10  7  6  8  8  8  7  8  7  7  8  8  7  8\n",
      "  9  7  9  9  8  4  8  8  7  8  7  8  8  9  9 10  8  7  9 10  6  6  9  7\n",
      "  5  6  8  8  9  8  8  7  6  9  8  4  7  8  9  6  7  9  9  8  7  5  9  8\n",
      "  8  7  6  8  9  8  8  8  7  7  8  6  6  7  6  5  9  9  8  7  9  9  9  6\n",
      "  7  8  8  8  9  9  9  8  7  9  8  7  8  8  9  9  7 10  7  8  8  7  8  8\n",
      "  9  9  9  8  7  6  9  9 10  7  8  8  6  8  7 10  7  6  9 10  8  9  6  8\n",
      "  9  9  7  9 10  7  9  7 10  8  9  8  8  9  5  8 10  8  9  8  9  9  9 10\n",
      "  9  9  9  8  8  7  7  9  7  8  8  8  5  7  6 10  9  7  9  8  7  9 10  7\n",
      "  8  8  9  9  9  6  9  8  7  7  9  8  7  8  8  8  7  7  8 10  8  8  8  8\n",
      "  9  8  8  9  8  8  8  7  8  7  5  9  7  6  8  8  7  7  8  8  9  7  8  7\n",
      "  9  9  9  8  9  8  9  7  7  9 10  9  8  8  9  8  9  8  7  8 10  8  7  7\n",
      "  9  9  7 10  6  7  6  8  7  8  9  7  8  9  8  9  8 10  8 10  9  8  7  7\n",
      "  8  7  9  8  8  9  9  9  8 10  8 10  9  7  9  8  8  7  8  8  9  9  9  9\n",
      "  7  9  9  8  9  7  8  8  9  8  6  7  8  8  9  9  9  8  6 10 10  7  6  8\n",
      "  9  9  7  8  7  8  6  8  9  8  8  8  9  8  8  9  7  8  7  5 10  9  9  4\n",
      "  7  8  7  6  8  7 10  8  8  8  5  7  9  5 10  9  9  9  8 10  8  9  7  8\n",
      "  8  9  8  8  7  9 10 10  7  7  8  8  8  9  7  8  6  7  7  8  7  6  7  9\n",
      "  8  8  8  9  9  9  8  8  9  8  7  6  8  8  7  8  9  5  9  9  8  7  9  9\n",
      "  8 10  7 10  7  8  9  7  8  9  9  7  9  8  8  9  9  7  7  7  7  9  6  6\n",
      "  8  9  9  7 10  7  8 10  9  8  9  9  6  9 10  9  8 10  7  9  9  9  8  6\n",
      "  5  8  6  8  9  9  8  7  7  9  8  8  9  7 10  9  9  7  8  8  7  5  6  6\n",
      "  7  8  9  7  9  9  9  8  8 10  9  6 10  8  7  6  7  8  8  8 10  7  9  7\n",
      "  7 10  8  7  7 10  7  8  8  9  8  8  8  7  7  9  7  8 10  8  8  8  7  6\n",
      "  9  6  9  6  5  5  7  7  8  9  9  8  7  9  6 10  8  9  8 10 10  9  9 10\n",
      "  6  9  7  7  7  7  6  7  8  8  8  9  9 10  6  6  9 10  8  8  9  8  9  9\n",
      "  8  6  7  6 10  9  9  8  7  7  6  7 10  6  8 10]\n"
     ]
    }
   ],
   "source": [
    "print(dados_binomial)"
   ]
  },
  {
   "cell_type": "code",
   "execution_count": 94,
   "id": "23ec54b4",
   "metadata": {},
   "outputs": [
    {
     "data": {
      "image/png": "[encoded data removed]",
      "text/plain": [
       "<Figure size 432x288 with 1 Axes>"
      ]
     },
     "metadata": {
      "needs_background": "light"
     },
     "output_type": "display_data"
    }
   ],
   "source": [
    "sns.distplot(dados_binomial, kde=False);"
   ]
  },
  {
   "cell_type": "markdown",
   "id": "95a1d7ef",
   "metadata": {},
   "source": [
    "### Distribuição de Poisson\n",
    "\n",
    "- Número de vezes que um evento aconteceu em um intervalo de tempo\n",
    "- Exemplo: número de usuários que visitaram um website em um intervalo\n",
    "- Quantidade de vezes que um evento aconteceu nesse intervalo (número de ligações em um call center)"
   ]
  },
  {
   "cell_type": "code",
   "execution_count": 95,
   "id": "67e19de5",
   "metadata": {},
   "outputs": [],
   "source": [
    "from scipy.stats import poisson"
   ]
  },
  {
   "cell_type": "code",
   "execution_count": 96,
   "id": "84d617b5",
   "metadata": {},
   "outputs": [],
   "source": [
    "dados_poisson = poisson.rvs(size=1000, mu=1)"
   ]
  },
  {
   "cell_type": "code",
   "execution_count": 97,
   "id": "1e607af5",
   "metadata": {},
   "outputs": [
    {
     "data": {
      "text/plain": [
       "(0, 6)"
      ]
     },
     "execution_count": 97,
     "metadata": {},
     "output_type": "execute_result"
    }
   ],
   "source": [
    "min(dados_poisson), max(dados_poisson)"
   ]
  },
  {
   "cell_type": "code",
   "execution_count": 98,
   "id": "607b1001",
   "metadata": {},
   "outputs": [
    {
     "data": {
      "text/plain": [
       "(array([0, 1, 2, 3, 4, 5, 6]),\n",
       " array([355, 368, 191,  62,  19,   2,   3], dtype=int64))"
      ]
     },
     "execution_count": 98,
     "metadata": {},
     "output_type": "execute_result"
    }
   ],
   "source": [
    "np.unique(dados_poisson, return_counts=True)"
   ]
  },
  {
   "cell_type": "code",
   "execution_count": 99,
   "id": "67c29ad9",
   "metadata": {},
   "outputs": [
    {
     "data": {
      "image/png": "[encoded data removed]",
      "text/plain": [
       "<Figure size 432x288 with 1 Axes>"
      ]
     },
     "metadata": {
      "needs_background": "light"
     },
     "output_type": "display_data"
    }
   ],
   "source": [
    "sns.distplot(dados_poisson, kde=False);"
   ]
  },
  {
   "cell_type": "markdown",
   "id": "14bfade4",
   "metadata": {},
   "source": [
    "### Exercício"
   ]
  },
  {
   "cell_type": "code",
   "execution_count": 100,
   "id": "80ec39b9",
   "metadata": {},
   "outputs": [
    {
     "data": {
      "text/html": [
       "<div>\n",
       "<style scoped>\n",
       "    .dataframe tbody tr th:only-of-type {\n",
       "        vertical-align: middle;\n",
       "    }\n",
       "\n",
       "    .dataframe tbody tr th {\n",
       "        vertical-align: top;\n",
       "    }\n",
       "\n",
       "    .dataframe thead th {\n",
       "        text-align: right;\n",
       "    }\n",
       "</style>\n",
       "<table border=\"1\" class=\"dataframe\">\n",
       "  <thead>\n",
       "    <tr style=\"text-align: right;\">\n",
       "      <th></th>\n",
       "      <th>age</th>\n",
       "      <th>workclass</th>\n",
       "      <th>final-weight</th>\n",
       "      <th>education</th>\n",
       "      <th>education-num</th>\n",
       "      <th>marital-status</th>\n",
       "      <th>occupation</th>\n",
       "      <th>relationship</th>\n",
       "      <th>race</th>\n",
       "      <th>sex</th>\n",
       "      <th>capital-gain</th>\n",
       "      <th>capital-loos</th>\n",
       "      <th>hour-per-week</th>\n",
       "      <th>native-country</th>\n",
       "      <th>income</th>\n",
       "    </tr>\n",
       "  </thead>\n",
       "  <tbody>\n",
       "    <tr>\n",
       "      <th>0</th>\n",
       "      <td>39</td>\n",
       "      <td>State-gov</td>\n",
       "      <td>77516</td>\n",
       "      <td>Bachelors</td>\n",
       "      <td>13</td>\n",
       "      <td>Never-married</td>\n",
       "      <td>Adm-clerical</td>\n",
       "      <td>Not-in-family</td>\n",
       "      <td>White</td>\n",
       "      <td>Male</td>\n",
       "      <td>2174</td>\n",
       "      <td>0</td>\n",
       "      <td>40</td>\n",
       "      <td>United-States</td>\n",
       "      <td>&lt;=50K</td>\n",
       "    </tr>\n",
       "    <tr>\n",
       "      <th>1</th>\n",
       "      <td>50</td>\n",
       "      <td>Self-emp-not-inc</td>\n",
       "      <td>83311</td>\n",
       "      <td>Bachelors</td>\n",
       "      <td>13</td>\n",
       "      <td>Married-civ-spouse</td>\n",
       "      <td>Exec-managerial</td>\n",
       "      <td>Husband</td>\n",
       "      <td>White</td>\n",
       "      <td>Male</td>\n",
       "      <td>0</td>\n",
       "      <td>0</td>\n",
       "      <td>13</td>\n",
       "      <td>United-States</td>\n",
       "      <td>&lt;=50K</td>\n",
       "    </tr>\n",
       "    <tr>\n",
       "      <th>2</th>\n",
       "      <td>38</td>\n",
       "      <td>Private</td>\n",
       "      <td>215646</td>\n",
       "      <td>HS-grad</td>\n",
       "      <td>9</td>\n",
       "      <td>Divorced</td>\n",
       "      <td>Handlers-cleaners</td>\n",
       "      <td>Not-in-family</td>\n",
       "      <td>White</td>\n",
       "      <td>Male</td>\n",
       "      <td>0</td>\n",
       "      <td>0</td>\n",
       "      <td>40</td>\n",
       "      <td>United-States</td>\n",
       "      <td>&lt;=50K</td>\n",
       "    </tr>\n",
       "    <tr>\n",
       "      <th>3</th>\n",
       "      <td>53</td>\n",
       "      <td>Private</td>\n",
       "      <td>234721</td>\n",
       "      <td>11th</td>\n",
       "      <td>7</td>\n",
       "      <td>Married-civ-spouse</td>\n",
       "      <td>Handlers-cleaners</td>\n",
       "      <td>Husband</td>\n",
       "      <td>Black</td>\n",
       "      <td>Male</td>\n",
       "      <td>0</td>\n",
       "      <td>0</td>\n",
       "      <td>40</td>\n",
       "      <td>United-States</td>\n",
       "      <td>&lt;=50K</td>\n",
       "    </tr>\n",
       "    <tr>\n",
       "      <th>4</th>\n",
       "      <td>28</td>\n",
       "      <td>Private</td>\n",
       "      <td>338409</td>\n",
       "      <td>Bachelors</td>\n",
       "      <td>13</td>\n",
       "      <td>Married-civ-spouse</td>\n",
       "      <td>Prof-specialty</td>\n",
       "      <td>Wife</td>\n",
       "      <td>Black</td>\n",
       "      <td>Female</td>\n",
       "      <td>0</td>\n",
       "      <td>0</td>\n",
       "      <td>40</td>\n",
       "      <td>Cuba</td>\n",
       "      <td>&lt;=50K</td>\n",
       "    </tr>\n",
       "  </tbody>\n",
       "</table>\n",
       "</div>"
      ],
      "text/plain": [
       "   age          workclass  final-weight   education  education-num  \\\n",
       "0   39          State-gov         77516   Bachelors             13   \n",
       "1   50   Self-emp-not-inc         83311   Bachelors             13   \n",
       "2   38            Private        215646     HS-grad              9   \n",
       "3   53            Private        234721        11th              7   \n",
       "4   28            Private        338409   Bachelors             13   \n",
       "\n",
       "        marital-status          occupation    relationship    race      sex  \\\n",
       "0        Never-married        Adm-clerical   Not-in-family   White     Male   \n",
       "1   Married-civ-spouse     Exec-managerial         Husband   White     Male   \n",
       "2             Divorced   Handlers-cleaners   Not-in-family   White     Male   \n",
       "3   Married-civ-spouse   Handlers-cleaners         Husband   Black     Male   \n",
       "4   Married-civ-spouse      Prof-specialty            Wife   Black   Female   \n",
       "\n",
       "   capital-gain  capital-loos  hour-per-week  native-country  income  \n",
       "0          2174             0             40   United-States   <=50K  \n",
       "1             0             0             13   United-States   <=50K  \n",
       "2             0             0             40   United-States   <=50K  \n",
       "3             0             0             40   United-States   <=50K  \n",
       "4             0             0             40            Cuba   <=50K  "
      ]
     },
     "execution_count": 100,
     "metadata": {},
     "output_type": "execute_result"
    }
   ],
   "source": [
    "dataset = pd.read_csv('census.csv')\n",
    "dataset.head()"
   ]
  },
  {
   "cell_type": "code",
   "execution_count": 101,
   "id": "d4c72b45",
   "metadata": {},
   "outputs": [
    {
     "data": {
      "text/plain": [
       "age                int64\n",
       "workclass         object\n",
       "final-weight       int64\n",
       "education         object\n",
       "education-num      int64\n",
       "marital-status    object\n",
       "occupation        object\n",
       "relationship      object\n",
       "race              object\n",
       "sex               object\n",
       "capital-gain       int64\n",
       "capital-loos       int64\n",
       "hour-per-week      int64\n",
       "native-country    object\n",
       "income            object\n",
       "dtype: object"
      ]
     },
     "execution_count": 101,
     "metadata": {},
     "output_type": "execute_result"
    }
   ],
   "source": [
    "dataset.dtypes"
   ]
  },
  {
   "cell_type": "code",
   "execution_count": 102,
   "id": "040b7656",
   "metadata": {},
   "outputs": [
    {
     "name": "stderr",
     "output_type": "stream",
     "text": [
      "C:\\Users\\Libania\\anaconda3\\lib\\site-packages\\seaborn\\distributions.py:2557: FutureWarning: `distplot` is a deprecated function and will be removed in a future version. Please adapt your code to use either `displot` (a figure-level function with similar flexibility) or `histplot` (an axes-level function for histograms).\n",
      "  warnings.warn(msg, FutureWarning)\n"
     ]
    },
    {
     "data": {
      "image/png": "[encoded data removed]",
      "text/plain": [
       "<Figure size 432x288 with 1 Axes>"
      ]
     },
     "metadata": {
      "needs_background": "light"
     },
     "output_type": "display_data"
    }
   ],
   "source": [
    "sns.distplot(dataset['age']);"
   ]
  },
  {
   "cell_type": "code",
   "execution_count": 103,
   "id": "e98dd2c4",
   "metadata": {},
   "outputs": [
    {
     "name": "stderr",
     "output_type": "stream",
     "text": [
      "C:\\Users\\Libania\\anaconda3\\lib\\site-packages\\seaborn\\distributions.py:2557: FutureWarning: `distplot` is a deprecated function and will be removed in a future version. Please adapt your code to use either `displot` (a figure-level function with similar flexibility) or `histplot` (an axes-level function for histograms).\n",
      "  warnings.warn(msg, FutureWarning)\n"
     ]
    },
    {
     "data": {
      "image/png": "[encoded data removed]",
      "text/plain": [
       "<Figure size 432x288 with 1 Axes>"
      ]
     },
     "metadata": {
      "needs_background": "light"
     },
     "output_type": "display_data"
    }
   ],
   "source": [
    "sns.distplot(dataset['final-weight']);"
   ]
  },
  {
   "cell_type": "code",
   "execution_count": 104,
   "id": "834f1161",
   "metadata": {},
   "outputs": [
    {
     "name": "stderr",
     "output_type": "stream",
     "text": [
      "C:\\Users\\Libania\\anaconda3\\lib\\site-packages\\seaborn\\distributions.py:2557: FutureWarning: `distplot` is a deprecated function and will be removed in a future version. Please adapt your code to use either `displot` (a figure-level function with similar flexibility) or `histplot` (an axes-level function for histograms).\n",
      "  warnings.warn(msg, FutureWarning)\n"
     ]
    },
    {
     "data": {
      "image/png": "[encoded data removed]",
      "text/plain": [
       "<Figure size 432x288 with 1 Axes>"
      ]
     },
     "metadata": {
      "needs_background": "light"
     },
     "output_type": "display_data"
    }
   ],
   "source": [
    "sns.distplot(dataset['education-num'], kde=False);"
   ]
  },
  {
   "cell_type": "code",
   "execution_count": 105,
   "id": "c39184a6",
   "metadata": {},
   "outputs": [
    {
     "data": {
      "image/png": "[encoded data removed]",
      "text/plain": [
       "<Figure size 432x288 with 1 Axes>"
      ]
     },
     "metadata": {
      "needs_background": "light"
     },
     "output_type": "display_data"
    }
   ],
   "source": [
    "sns.distplot(dataset['capital-gain'], kde=False);"
   ]
  },
  {
   "cell_type": "code",
   "execution_count": 106,
   "id": "a2498a4c",
   "metadata": {},
   "outputs": [
    {
     "data": {
      "image/png": "[encoded data removed]",
      "text/plain": [
       "<Figure size 432x288 with 1 Axes>"
      ]
     },
     "metadata": {
      "needs_background": "light"
     },
     "output_type": "display_data"
    }
   ],
   "source": [
    "sns.distplot(dataset['capital-loos']);"
   ]
  },
  {
   "cell_type": "code",
   "execution_count": 107,
   "id": "d357ebd6",
   "metadata": {},
   "outputs": [
    {
     "name": "stderr",
     "output_type": "stream",
     "text": [
      "C:\\Users\\Libania\\anaconda3\\lib\\site-packages\\seaborn\\_decorators.py:36: FutureWarning: Pass the following variable as a keyword arg: x. From version 0.12, the only valid positional argument will be `data`, and passing other arguments without an explicit keyword will result in an error or misinterpretation.\n",
      "  warnings.warn(\n"
     ]
    },
    {
     "data": {
      "image/png": "[encoded data removed]",
      "text/plain": [
       "<Figure size 432x288 with 1 Axes>"
      ]
     },
     "metadata": {
      "needs_background": "light"
     },
     "output_type": "display_data"
    }
   ],
   "source": [
    "sns.countplot(dataset['marital-status']);"
   ]
  },
  {
   "cell_type": "code",
   "execution_count": 108,
   "id": "7d3707f2",
   "metadata": {},
   "outputs": [
    {
     "name": "stderr",
     "output_type": "stream",
     "text": [
      "C:\\Users\\Libania\\anaconda3\\lib\\site-packages\\seaborn\\_decorators.py:36: FutureWarning: Pass the following variable as a keyword arg: x. From version 0.12, the only valid positional argument will be `data`, and passing other arguments without an explicit keyword will result in an error or misinterpretation.\n",
      "  warnings.warn(\n"
     ]
    },
    {
     "data": {
      "image/png": "[encoded data removed]",
      "text/plain": [
       "<Figure size 432x288 with 1 Axes>"
      ]
     },
     "metadata": {
      "needs_background": "light"
     },
     "output_type": "display_data"
    }
   ],
   "source": [
    "sns.countplot(dataset['sex']);"
   ]
  },
  {
   "cell_type": "code",
   "execution_count": 109,
   "id": "c5751e54",
   "metadata": {},
   "outputs": [
    {
     "name": "stderr",
     "output_type": "stream",
     "text": [
      "C:\\Users\\Libania\\anaconda3\\lib\\site-packages\\seaborn\\_decorators.py:36: FutureWarning: Pass the following variable as a keyword arg: x. From version 0.12, the only valid positional argument will be `data`, and passing other arguments without an explicit keyword will result in an error or misinterpretation.\n",
      "  warnings.warn(\n"
     ]
    },
    {
     "data": {
      "image/png": "[encoded data removed]",
      "text/plain": [
       "<Figure size 432x288 with 1 Axes>"
      ]
     },
     "metadata": {
      "needs_background": "light"
     },
     "output_type": "display_data"
    }
   ],
   "source": [
    "sns.countplot(dataset['income']);"
   ]
  },
  {
   "cell_type": "code",
   "execution_count": 110,
   "id": "0fce5f40",
   "metadata": {},
   "outputs": [
    {
     "data": {
      "text/html": [
       "<div>\n",
       "<style scoped>\n",
       "    .dataframe tbody tr th:only-of-type {\n",
       "        vertical-align: middle;\n",
       "    }\n",
       "\n",
       "    .dataframe tbody tr th {\n",
       "        vertical-align: top;\n",
       "    }\n",
       "\n",
       "    .dataframe thead th {\n",
       "        text-align: right;\n",
       "    }\n",
       "</style>\n",
       "<table border=\"1\" class=\"dataframe\">\n",
       "  <thead>\n",
       "    <tr style=\"text-align: right;\">\n",
       "      <th></th>\n",
       "      <th>i#clientid</th>\n",
       "      <th>income</th>\n",
       "      <th>age</th>\n",
       "      <th>loan</th>\n",
       "      <th>c#default</th>\n",
       "    </tr>\n",
       "  </thead>\n",
       "  <tbody>\n",
       "    <tr>\n",
       "      <th>0</th>\n",
       "      <td>1</td>\n",
       "      <td>66155.925095</td>\n",
       "      <td>59.017015</td>\n",
       "      <td>8106.532131</td>\n",
       "      <td>0</td>\n",
       "    </tr>\n",
       "    <tr>\n",
       "      <th>1</th>\n",
       "      <td>2</td>\n",
       "      <td>34415.153966</td>\n",
       "      <td>48.117153</td>\n",
       "      <td>6564.745018</td>\n",
       "      <td>0</td>\n",
       "    </tr>\n",
       "    <tr>\n",
       "      <th>2</th>\n",
       "      <td>3</td>\n",
       "      <td>57317.170063</td>\n",
       "      <td>63.108049</td>\n",
       "      <td>8020.953296</td>\n",
       "      <td>0</td>\n",
       "    </tr>\n",
       "    <tr>\n",
       "      <th>3</th>\n",
       "      <td>4</td>\n",
       "      <td>42709.534201</td>\n",
       "      <td>45.751972</td>\n",
       "      <td>6103.642260</td>\n",
       "      <td>0</td>\n",
       "    </tr>\n",
       "    <tr>\n",
       "      <th>4</th>\n",
       "      <td>5</td>\n",
       "      <td>66952.688845</td>\n",
       "      <td>18.584336</td>\n",
       "      <td>8770.099235</td>\n",
       "      <td>1</td>\n",
       "    </tr>\n",
       "  </tbody>\n",
       "</table>\n",
       "</div>"
      ],
      "text/plain": [
       "   i#clientid        income        age         loan  c#default\n",
       "0           1  66155.925095  59.017015  8106.532131          0\n",
       "1           2  34415.153966  48.117153  6564.745018          0\n",
       "2           3  57317.170063  63.108049  8020.953296          0\n",
       "3           4  42709.534201  45.751972  6103.642260          0\n",
       "4           5  66952.688845  18.584336  8770.099235          1"
      ]
     },
     "execution_count": 110,
     "metadata": {},
     "output_type": "execute_result"
    }
   ],
   "source": [
    "dataset = pd.read_csv('credit_data.csv')\n",
    "dataset.head()"
   ]
  },
  {
   "cell_type": "code",
   "execution_count": 111,
   "id": "589f6568",
   "metadata": {},
   "outputs": [
    {
     "name": "stderr",
     "output_type": "stream",
     "text": [
      "C:\\Users\\Libania\\anaconda3\\lib\\site-packages\\seaborn\\distributions.py:2557: FutureWarning: `distplot` is a deprecated function and will be removed in a future version. Please adapt your code to use either `displot` (a figure-level function with similar flexibility) or `histplot` (an axes-level function for histograms).\n",
      "  warnings.warn(msg, FutureWarning)\n"
     ]
    },
    {
     "data": {
      "image/png": "[encoded data removed]",
      "text/plain": [
       "<Figure size 432x288 with 1 Axes>"
      ]
     },
     "metadata": {
      "needs_background": "light"
     },
     "output_type": "display_data"
    }
   ],
   "source": [
    "sns.distplot(dataset['income']);"
   ]
  },
  {
   "cell_type": "code",
   "execution_count": 112,
   "id": "cf03595f",
   "metadata": {},
   "outputs": [
    {
     "name": "stderr",
     "output_type": "stream",
     "text": [
      "C:\\Users\\Libania\\anaconda3\\lib\\site-packages\\seaborn\\distributions.py:2557: FutureWarning: `distplot` is a deprecated function and will be removed in a future version. Please adapt your code to use either `displot` (a figure-level function with similar flexibility) or `histplot` (an axes-level function for histograms).\n",
      "  warnings.warn(msg, FutureWarning)\n"
     ]
    },
    {
     "data": {
      "image/png": "[encoded data removed]",
      "text/plain": [
       "<Figure size 432x288 with 1 Axes>"
      ]
     },
     "metadata": {
      "needs_background": "light"
     },
     "output_type": "display_data"
    }
   ],
   "source": [
    "sns.distplot(dataset['age']);"
   ]
  },
  {
   "cell_type": "code",
   "execution_count": 113,
   "id": "f907c318",
   "metadata": {},
   "outputs": [
    {
     "name": "stderr",
     "output_type": "stream",
     "text": [
      "C:\\Users\\Libania\\anaconda3\\lib\\site-packages\\seaborn\\distributions.py:2557: FutureWarning: `distplot` is a deprecated function and will be removed in a future version. Please adapt your code to use either `displot` (a figure-level function with similar flexibility) or `histplot` (an axes-level function for histograms).\n",
      "  warnings.warn(msg, FutureWarning)\n"
     ]
    },
    {
     "data": {
      "image/png": "[encoded data removed]",
      "text/plain": [
       "<Figure size 432x288 with 1 Axes>"
      ]
     },
     "metadata": {
      "needs_background": "light"
     },
     "output_type": "display_data"
    }
   ],
   "source": [
    "sns.distplot(dataset['loan']);"
   ]
  },
  {
   "cell_type": "code",
   "execution_count": 114,
   "id": "9117b2db",
   "metadata": {},
   "outputs": [
    {
     "name": "stderr",
     "output_type": "stream",
     "text": [
      "C:\\Users\\Libania\\anaconda3\\lib\\site-packages\\seaborn\\distributions.py:2557: FutureWarning: `distplot` is a deprecated function and will be removed in a future version. Please adapt your code to use either `displot` (a figure-level function with similar flexibility) or `histplot` (an axes-level function for histograms).\n",
      "  warnings.warn(msg, FutureWarning)\n"
     ]
    },
    {
     "data": {
      "image/png": "[encoded data removed]",
      "text/plain": [
       "<Figure size 432x288 with 1 Axes>"
      ]
     },
     "metadata": {
      "needs_background": "light"
     },
     "output_type": "display_data"
    }
   ],
   "source": [
    "sns.distplot(dataset['c#default'], kde = False);"
   ]
  },
  {
   "cell_type": "code",
   "execution_count": null,
   "id": "0d10341f",
   "metadata": {},
   "outputs": [],
   "source": []
  }
 ],
 "metadata": {
  "kernelspec": {
   "display_name": "Python 3",
   "language": "python",
   "name": "python3"
  },
  "language_info": {
   "codemirror_mode": {
    "name": "ipython",
    "version": 3
   },
   "file_extension": ".py",
   "mimetype": "text/x-python",
   "name": "python",
   "nbconvert_exporter": "python",
   "pygments_lexer": "ipython3",
   "version": "3.8.8"
  }
 },
 "nbformat": 4,
 "nbformat_minor": 5
}
