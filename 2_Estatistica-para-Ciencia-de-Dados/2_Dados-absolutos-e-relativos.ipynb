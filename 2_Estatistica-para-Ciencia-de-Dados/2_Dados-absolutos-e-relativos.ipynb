{
 "cells": [
  {
   "cell_type": "markdown",
   "id": "6ead4f59",
   "metadata": {},
   "source": [
    "# Estatística para Machine Learning "
   ]
  },
  {
   "cell_type": "markdown",
   "id": "2a63f879",
   "metadata": {},
   "source": [
    "## 2. Dados absolutos e relativos\n",
    "\n",
    "- Dados Absolutos: Coleta direta da fonte sem nenhum outro tipo de manipulação (somente contagem, ordenação).\n",
    "- Dados Relativos: Fácil entendimento para ajudar nas comparações."
   ]
  },
  {
   "cell_type": "code",
   "execution_count": 1,
   "id": "04fe8564",
   "metadata": {},
   "outputs": [],
   "source": [
    "import pandas as pd"
   ]
  },
  {
   "cell_type": "markdown",
   "id": "0f80bf2a",
   "metadata": {},
   "source": [
    "### Percentuais"
   ]
  },
  {
   "cell_type": "code",
   "execution_count": 10,
   "id": "cd7b705d",
   "metadata": {},
   "outputs": [],
   "source": [
    "dados = {'emprego': ['Administrador_banco_de_dados', 'Programador', 'Arquiteto_redes'],\n",
    "        'nova_jersey': [97350, 82080, 112840],\n",
    "         'florida': [77140, 71540, 62310]}"
   ]
  },
  {
   "cell_type": "code",
   "execution_count": 11,
   "id": "70cd5e67",
   "metadata": {},
   "outputs": [
    {
     "data": {
      "text/plain": [
       "dict"
      ]
     },
     "execution_count": 11,
     "metadata": {},
     "output_type": "execute_result"
    }
   ],
   "source": [
    "type(dados)"
   ]
  },
  {
   "cell_type": "code",
   "execution_count": 12,
   "id": "66ec7fc5",
   "metadata": {},
   "outputs": [
    {
     "data": {
      "text/plain": [
       "{'emprego': ['Administrador_banco_de_dados', 'Programador', 'Arquiteto_redes'],\n",
       " 'nova_jersey': [97350, 82080, 112840],\n",
       " 'florida': [77140, 71540, 62310]}"
      ]
     },
     "execution_count": 12,
     "metadata": {},
     "output_type": "execute_result"
    }
   ],
   "source": [
    "dados"
   ]
  },
  {
   "cell_type": "code",
   "execution_count": 13,
   "id": "a2782fc4",
   "metadata": {},
   "outputs": [],
   "source": [
    "dataset = pd.DataFrame(dados)"
   ]
  },
  {
   "cell_type": "code",
   "execution_count": 14,
   "id": "0cea9974",
   "metadata": {},
   "outputs": [
    {
     "data": {
      "text/html": [
       "<div>\n",
       "<style scoped>\n",
       "    .dataframe tbody tr th:only-of-type {\n",
       "        vertical-align: middle;\n",
       "    }\n",
       "\n",
       "    .dataframe tbody tr th {\n",
       "        vertical-align: top;\n",
       "    }\n",
       "\n",
       "    .dataframe thead th {\n",
       "        text-align: right;\n",
       "    }\n",
       "</style>\n",
       "<table border=\"1\" class=\"dataframe\">\n",
       "  <thead>\n",
       "    <tr style=\"text-align: right;\">\n",
       "      <th></th>\n",
       "      <th>emprego</th>\n",
       "      <th>nova_jersey</th>\n",
       "      <th>florida</th>\n",
       "    </tr>\n",
       "  </thead>\n",
       "  <tbody>\n",
       "    <tr>\n",
       "      <th>0</th>\n",
       "      <td>Administrador_banco_de_dados</td>\n",
       "      <td>97350</td>\n",
       "      <td>77140</td>\n",
       "    </tr>\n",
       "    <tr>\n",
       "      <th>1</th>\n",
       "      <td>Programador</td>\n",
       "      <td>82080</td>\n",
       "      <td>71540</td>\n",
       "    </tr>\n",
       "    <tr>\n",
       "      <th>2</th>\n",
       "      <td>Arquiteto_redes</td>\n",
       "      <td>112840</td>\n",
       "      <td>62310</td>\n",
       "    </tr>\n",
       "  </tbody>\n",
       "</table>\n",
       "</div>"
      ],
      "text/plain": [
       "                        emprego  nova_jersey  florida\n",
       "0  Administrador_banco_de_dados        97350    77140\n",
       "1                   Programador        82080    71540\n",
       "2               Arquiteto_redes       112840    62310"
      ]
     },
     "execution_count": 14,
     "metadata": {},
     "output_type": "execute_result"
    }
   ],
   "source": [
    "dataset"
   ]
  },
  {
   "cell_type": "code",
   "execution_count": 15,
   "id": "47fa1374",
   "metadata": {},
   "outputs": [
    {
     "data": {
      "text/plain": [
       "292270"
      ]
     },
     "execution_count": 15,
     "metadata": {},
     "output_type": "execute_result"
    }
   ],
   "source": [
    "dataset['nova_jersey'].sum()"
   ]
  },
  {
   "cell_type": "code",
   "execution_count": 16,
   "id": "2ff844b7",
   "metadata": {},
   "outputs": [
    {
     "data": {
      "text/plain": [
       "210990"
      ]
     },
     "execution_count": 16,
     "metadata": {},
     "output_type": "execute_result"
    }
   ],
   "source": [
    "dataset['florida'].sum()"
   ]
  },
  {
   "cell_type": "code",
   "execution_count": 18,
   "id": "0bfcea89",
   "metadata": {},
   "outputs": [],
   "source": [
    "dataset['%_nova_jersey'] = (dataset['nova_jersey'] / dataset['nova_jersey'].sum()) * 100"
   ]
  },
  {
   "cell_type": "code",
   "execution_count": 19,
   "id": "1e307060",
   "metadata": {},
   "outputs": [
    {
     "data": {
      "text/html": [
       "<div>\n",
       "<style scoped>\n",
       "    .dataframe tbody tr th:only-of-type {\n",
       "        vertical-align: middle;\n",
       "    }\n",
       "\n",
       "    .dataframe tbody tr th {\n",
       "        vertical-align: top;\n",
       "    }\n",
       "\n",
       "    .dataframe thead th {\n",
       "        text-align: right;\n",
       "    }\n",
       "</style>\n",
       "<table border=\"1\" class=\"dataframe\">\n",
       "  <thead>\n",
       "    <tr style=\"text-align: right;\">\n",
       "      <th></th>\n",
       "      <th>emprego</th>\n",
       "      <th>nova_jersey</th>\n",
       "      <th>florida</th>\n",
       "      <th>%_nova_jersey</th>\n",
       "    </tr>\n",
       "  </thead>\n",
       "  <tbody>\n",
       "    <tr>\n",
       "      <th>0</th>\n",
       "      <td>Administrador_banco_de_dados</td>\n",
       "      <td>97350</td>\n",
       "      <td>77140</td>\n",
       "      <td>33.308242</td>\n",
       "    </tr>\n",
       "    <tr>\n",
       "      <th>1</th>\n",
       "      <td>Programador</td>\n",
       "      <td>82080</td>\n",
       "      <td>71540</td>\n",
       "      <td>28.083621</td>\n",
       "    </tr>\n",
       "    <tr>\n",
       "      <th>2</th>\n",
       "      <td>Arquiteto_redes</td>\n",
       "      <td>112840</td>\n",
       "      <td>62310</td>\n",
       "      <td>38.608136</td>\n",
       "    </tr>\n",
       "  </tbody>\n",
       "</table>\n",
       "</div>"
      ],
      "text/plain": [
       "                        emprego  nova_jersey  florida  %_nova_jersey\n",
       "0  Administrador_banco_de_dados        97350    77140      33.308242\n",
       "1                   Programador        82080    71540      28.083621\n",
       "2               Arquiteto_redes       112840    62310      38.608136"
      ]
     },
     "execution_count": 19,
     "metadata": {},
     "output_type": "execute_result"
    }
   ],
   "source": [
    "dataset"
   ]
  },
  {
   "cell_type": "code",
   "execution_count": 20,
   "id": "852082a4",
   "metadata": {},
   "outputs": [],
   "source": [
    "dataset['%_florida'] = (dataset['florida'] / dataset['florida'].sum()) * 100"
   ]
  },
  {
   "cell_type": "code",
   "execution_count": 21,
   "id": "964a4007",
   "metadata": {},
   "outputs": [
    {
     "data": {
      "text/html": [
       "<div>\n",
       "<style scoped>\n",
       "    .dataframe tbody tr th:only-of-type {\n",
       "        vertical-align: middle;\n",
       "    }\n",
       "\n",
       "    .dataframe tbody tr th {\n",
       "        vertical-align: top;\n",
       "    }\n",
       "\n",
       "    .dataframe thead th {\n",
       "        text-align: right;\n",
       "    }\n",
       "</style>\n",
       "<table border=\"1\" class=\"dataframe\">\n",
       "  <thead>\n",
       "    <tr style=\"text-align: right;\">\n",
       "      <th></th>\n",
       "      <th>emprego</th>\n",
       "      <th>nova_jersey</th>\n",
       "      <th>florida</th>\n",
       "      <th>%_nova_jersey</th>\n",
       "      <th>%_florida</th>\n",
       "    </tr>\n",
       "  </thead>\n",
       "  <tbody>\n",
       "    <tr>\n",
       "      <th>0</th>\n",
       "      <td>Administrador_banco_de_dados</td>\n",
       "      <td>97350</td>\n",
       "      <td>77140</td>\n",
       "      <td>33.308242</td>\n",
       "      <td>36.560974</td>\n",
       "    </tr>\n",
       "    <tr>\n",
       "      <th>1</th>\n",
       "      <td>Programador</td>\n",
       "      <td>82080</td>\n",
       "      <td>71540</td>\n",
       "      <td>28.083621</td>\n",
       "      <td>33.906820</td>\n",
       "    </tr>\n",
       "    <tr>\n",
       "      <th>2</th>\n",
       "      <td>Arquiteto_redes</td>\n",
       "      <td>112840</td>\n",
       "      <td>62310</td>\n",
       "      <td>38.608136</td>\n",
       "      <td>29.532205</td>\n",
       "    </tr>\n",
       "  </tbody>\n",
       "</table>\n",
       "</div>"
      ],
      "text/plain": [
       "                        emprego  nova_jersey  florida  %_nova_jersey  \\\n",
       "0  Administrador_banco_de_dados        97350    77140      33.308242   \n",
       "1                   Programador        82080    71540      28.083621   \n",
       "2               Arquiteto_redes       112840    62310      38.608136   \n",
       "\n",
       "   %_florida  \n",
       "0  36.560974  \n",
       "1  33.906820  \n",
       "2  29.532205  "
      ]
     },
     "execution_count": 21,
     "metadata": {},
     "output_type": "execute_result"
    }
   ],
   "source": [
    "dataset"
   ]
  },
  {
   "cell_type": "markdown",
   "id": "4c18d3c9",
   "metadata": {},
   "source": [
    "## Exercícios"
   ]
  },
  {
   "cell_type": "markdown",
   "id": "c5c3fe8e",
   "metadata": {},
   "source": [
    "### Exercício 1 - Percentual"
   ]
  },
  {
   "cell_type": "code",
   "execution_count": 28,
   "id": "6b03b194",
   "metadata": {},
   "outputs": [],
   "source": [
    "dataset = pd.read_csv('census.csv')"
   ]
  },
  {
   "cell_type": "code",
   "execution_count": 29,
   "id": "3efe03e4",
   "metadata": {},
   "outputs": [
    {
     "data": {
      "text/html": [
       "<div>\n",
       "<style scoped>\n",
       "    .dataframe tbody tr th:only-of-type {\n",
       "        vertical-align: middle;\n",
       "    }\n",
       "\n",
       "    .dataframe tbody tr th {\n",
       "        vertical-align: top;\n",
       "    }\n",
       "\n",
       "    .dataframe thead th {\n",
       "        text-align: right;\n",
       "    }\n",
       "</style>\n",
       "<table border=\"1\" class=\"dataframe\">\n",
       "  <thead>\n",
       "    <tr style=\"text-align: right;\">\n",
       "      <th></th>\n",
       "      <th>age</th>\n",
       "      <th>workclass</th>\n",
       "      <th>final-weight</th>\n",
       "      <th>education</th>\n",
       "      <th>education-num</th>\n",
       "      <th>marital-status</th>\n",
       "      <th>occupation</th>\n",
       "      <th>relationship</th>\n",
       "      <th>race</th>\n",
       "      <th>sex</th>\n",
       "      <th>capital-gain</th>\n",
       "      <th>capital-loos</th>\n",
       "      <th>hour-per-week</th>\n",
       "      <th>native-country</th>\n",
       "      <th>income</th>\n",
       "    </tr>\n",
       "  </thead>\n",
       "  <tbody>\n",
       "    <tr>\n",
       "      <th>0</th>\n",
       "      <td>39</td>\n",
       "      <td>State-gov</td>\n",
       "      <td>77516</td>\n",
       "      <td>Bachelors</td>\n",
       "      <td>13</td>\n",
       "      <td>Never-married</td>\n",
       "      <td>Adm-clerical</td>\n",
       "      <td>Not-in-family</td>\n",
       "      <td>White</td>\n",
       "      <td>Male</td>\n",
       "      <td>2174</td>\n",
       "      <td>0</td>\n",
       "      <td>40</td>\n",
       "      <td>United-States</td>\n",
       "      <td>&lt;=50K</td>\n",
       "    </tr>\n",
       "    <tr>\n",
       "      <th>1</th>\n",
       "      <td>50</td>\n",
       "      <td>Self-emp-not-inc</td>\n",
       "      <td>83311</td>\n",
       "      <td>Bachelors</td>\n",
       "      <td>13</td>\n",
       "      <td>Married-civ-spouse</td>\n",
       "      <td>Exec-managerial</td>\n",
       "      <td>Husband</td>\n",
       "      <td>White</td>\n",
       "      <td>Male</td>\n",
       "      <td>0</td>\n",
       "      <td>0</td>\n",
       "      <td>13</td>\n",
       "      <td>United-States</td>\n",
       "      <td>&lt;=50K</td>\n",
       "    </tr>\n",
       "    <tr>\n",
       "      <th>2</th>\n",
       "      <td>38</td>\n",
       "      <td>Private</td>\n",
       "      <td>215646</td>\n",
       "      <td>HS-grad</td>\n",
       "      <td>9</td>\n",
       "      <td>Divorced</td>\n",
       "      <td>Handlers-cleaners</td>\n",
       "      <td>Not-in-family</td>\n",
       "      <td>White</td>\n",
       "      <td>Male</td>\n",
       "      <td>0</td>\n",
       "      <td>0</td>\n",
       "      <td>40</td>\n",
       "      <td>United-States</td>\n",
       "      <td>&lt;=50K</td>\n",
       "    </tr>\n",
       "    <tr>\n",
       "      <th>3</th>\n",
       "      <td>53</td>\n",
       "      <td>Private</td>\n",
       "      <td>234721</td>\n",
       "      <td>11th</td>\n",
       "      <td>7</td>\n",
       "      <td>Married-civ-spouse</td>\n",
       "      <td>Handlers-cleaners</td>\n",
       "      <td>Husband</td>\n",
       "      <td>Black</td>\n",
       "      <td>Male</td>\n",
       "      <td>0</td>\n",
       "      <td>0</td>\n",
       "      <td>40</td>\n",
       "      <td>United-States</td>\n",
       "      <td>&lt;=50K</td>\n",
       "    </tr>\n",
       "    <tr>\n",
       "      <th>4</th>\n",
       "      <td>28</td>\n",
       "      <td>Private</td>\n",
       "      <td>338409</td>\n",
       "      <td>Bachelors</td>\n",
       "      <td>13</td>\n",
       "      <td>Married-civ-spouse</td>\n",
       "      <td>Prof-specialty</td>\n",
       "      <td>Wife</td>\n",
       "      <td>Black</td>\n",
       "      <td>Female</td>\n",
       "      <td>0</td>\n",
       "      <td>0</td>\n",
       "      <td>40</td>\n",
       "      <td>Cuba</td>\n",
       "      <td>&lt;=50K</td>\n",
       "    </tr>\n",
       "  </tbody>\n",
       "</table>\n",
       "</div>"
      ],
      "text/plain": [
       "   age          workclass  final-weight   education  education-num  \\\n",
       "0   39          State-gov         77516   Bachelors             13   \n",
       "1   50   Self-emp-not-inc         83311   Bachelors             13   \n",
       "2   38            Private        215646     HS-grad              9   \n",
       "3   53            Private        234721        11th              7   \n",
       "4   28            Private        338409   Bachelors             13   \n",
       "\n",
       "        marital-status          occupation    relationship    race      sex  \\\n",
       "0        Never-married        Adm-clerical   Not-in-family   White     Male   \n",
       "1   Married-civ-spouse     Exec-managerial         Husband   White     Male   \n",
       "2             Divorced   Handlers-cleaners   Not-in-family   White     Male   \n",
       "3   Married-civ-spouse   Handlers-cleaners         Husband   Black     Male   \n",
       "4   Married-civ-spouse      Prof-specialty            Wife   Black   Female   \n",
       "\n",
       "   capital-gain  capital-loos  hour-per-week  native-country  income  \n",
       "0          2174             0             40   United-States   <=50K  \n",
       "1             0             0             13   United-States   <=50K  \n",
       "2             0             0             40   United-States   <=50K  \n",
       "3             0             0             40   United-States   <=50K  \n",
       "4             0             0             40            Cuba   <=50K  "
      ]
     },
     "execution_count": 29,
     "metadata": {},
     "output_type": "execute_result"
    }
   ],
   "source": [
    "dataset.head()"
   ]
  },
  {
   "cell_type": "code",
   "execution_count": 30,
   "id": "2103616b",
   "metadata": {},
   "outputs": [],
   "source": [
    "dataset2 = dataset[['income', 'education']]"
   ]
  },
  {
   "cell_type": "code",
   "execution_count": 31,
   "id": "a476cd37",
   "metadata": {},
   "outputs": [
    {
     "data": {
      "text/html": [
       "<div>\n",
       "<style scoped>\n",
       "    .dataframe tbody tr th:only-of-type {\n",
       "        vertical-align: middle;\n",
       "    }\n",
       "\n",
       "    .dataframe tbody tr th {\n",
       "        vertical-align: top;\n",
       "    }\n",
       "\n",
       "    .dataframe thead th {\n",
       "        text-align: right;\n",
       "    }\n",
       "</style>\n",
       "<table border=\"1\" class=\"dataframe\">\n",
       "  <thead>\n",
       "    <tr style=\"text-align: right;\">\n",
       "      <th></th>\n",
       "      <th>income</th>\n",
       "      <th>education</th>\n",
       "    </tr>\n",
       "  </thead>\n",
       "  <tbody>\n",
       "    <tr>\n",
       "      <th>0</th>\n",
       "      <td>&lt;=50K</td>\n",
       "      <td>Bachelors</td>\n",
       "    </tr>\n",
       "    <tr>\n",
       "      <th>1</th>\n",
       "      <td>&lt;=50K</td>\n",
       "      <td>Bachelors</td>\n",
       "    </tr>\n",
       "    <tr>\n",
       "      <th>2</th>\n",
       "      <td>&lt;=50K</td>\n",
       "      <td>HS-grad</td>\n",
       "    </tr>\n",
       "    <tr>\n",
       "      <th>3</th>\n",
       "      <td>&lt;=50K</td>\n",
       "      <td>11th</td>\n",
       "    </tr>\n",
       "    <tr>\n",
       "      <th>4</th>\n",
       "      <td>&lt;=50K</td>\n",
       "      <td>Bachelors</td>\n",
       "    </tr>\n",
       "    <tr>\n",
       "      <th>...</th>\n",
       "      <td>...</td>\n",
       "      <td>...</td>\n",
       "    </tr>\n",
       "    <tr>\n",
       "      <th>32556</th>\n",
       "      <td>&lt;=50K</td>\n",
       "      <td>Assoc-acdm</td>\n",
       "    </tr>\n",
       "    <tr>\n",
       "      <th>32557</th>\n",
       "      <td>&gt;50K</td>\n",
       "      <td>HS-grad</td>\n",
       "    </tr>\n",
       "    <tr>\n",
       "      <th>32558</th>\n",
       "      <td>&lt;=50K</td>\n",
       "      <td>HS-grad</td>\n",
       "    </tr>\n",
       "    <tr>\n",
       "      <th>32559</th>\n",
       "      <td>&lt;=50K</td>\n",
       "      <td>HS-grad</td>\n",
       "    </tr>\n",
       "    <tr>\n",
       "      <th>32560</th>\n",
       "      <td>&gt;50K</td>\n",
       "      <td>HS-grad</td>\n",
       "    </tr>\n",
       "  </tbody>\n",
       "</table>\n",
       "<p>32561 rows × 2 columns</p>\n",
       "</div>"
      ],
      "text/plain": [
       "       income    education\n",
       "0       <=50K    Bachelors\n",
       "1       <=50K    Bachelors\n",
       "2       <=50K      HS-grad\n",
       "3       <=50K         11th\n",
       "4       <=50K    Bachelors\n",
       "...       ...          ...\n",
       "32556   <=50K   Assoc-acdm\n",
       "32557    >50K      HS-grad\n",
       "32558   <=50K      HS-grad\n",
       "32559   <=50K      HS-grad\n",
       "32560    >50K      HS-grad\n",
       "\n",
       "[32561 rows x 2 columns]"
      ]
     },
     "execution_count": 31,
     "metadata": {},
     "output_type": "execute_result"
    }
   ],
   "source": [
    "dataset2"
   ]
  },
  {
   "cell_type": "code",
   "execution_count": 32,
   "id": "31bda609",
   "metadata": {},
   "outputs": [],
   "source": [
    "dataset3 = dataset2.groupby(['education', 'income'])['education'].count()"
   ]
  },
  {
   "cell_type": "code",
   "execution_count": 33,
   "id": "f63185c9",
   "metadata": {},
   "outputs": [
    {
     "data": {
      "text/plain": [
       "education      income\n",
       " 10th           <=50K     871\n",
       "                >50K       62\n",
       " 11th           <=50K    1115\n",
       "                >50K       60\n",
       " 12th           <=50K     400\n",
       "                >50K       33\n",
       " 1st-4th        <=50K     162\n",
       "                >50K        6\n",
       " 5th-6th        <=50K     317\n",
       "                >50K       16\n",
       " 7th-8th        <=50K     606\n",
       "                >50K       40\n",
       " 9th            <=50K     487\n",
       "                >50K       27\n",
       " Assoc-acdm     <=50K     802\n",
       "                >50K      265\n",
       " Assoc-voc      <=50K    1021\n",
       "                >50K      361\n",
       " Bachelors      <=50K    3134\n",
       "                >50K     2221\n",
       " Doctorate      <=50K     107\n",
       "                >50K      306\n",
       " HS-grad        <=50K    8826\n",
       "                >50K     1675\n",
       " Masters        <=50K     764\n",
       "                >50K      959\n",
       " Preschool      <=50K      51\n",
       " Prof-school    <=50K     153\n",
       "                >50K      423\n",
       " Some-college   <=50K    5904\n",
       "                >50K     1387\n",
       "Name: education, dtype: int64"
      ]
     },
     "execution_count": 33,
     "metadata": {},
     "output_type": "execute_result"
    }
   ],
   "source": [
    "dataset3"
   ]
  },
  {
   "cell_type": "code",
   "execution_count": 34,
   "id": "3e1d22f1",
   "metadata": {},
   "outputs": [
    {
     "data": {
      "text/plain": [
       "MultiIndex([(        ' 10th', ' <=50K'),\n",
       "            (        ' 10th',  ' >50K'),\n",
       "            (        ' 11th', ' <=50K'),\n",
       "            (        ' 11th',  ' >50K'),\n",
       "            (        ' 12th', ' <=50K'),\n",
       "            (        ' 12th',  ' >50K'),\n",
       "            (     ' 1st-4th', ' <=50K'),\n",
       "            (     ' 1st-4th',  ' >50K'),\n",
       "            (     ' 5th-6th', ' <=50K'),\n",
       "            (     ' 5th-6th',  ' >50K'),\n",
       "            (     ' 7th-8th', ' <=50K'),\n",
       "            (     ' 7th-8th',  ' >50K'),\n",
       "            (         ' 9th', ' <=50K'),\n",
       "            (         ' 9th',  ' >50K'),\n",
       "            (  ' Assoc-acdm', ' <=50K'),\n",
       "            (  ' Assoc-acdm',  ' >50K'),\n",
       "            (   ' Assoc-voc', ' <=50K'),\n",
       "            (   ' Assoc-voc',  ' >50K'),\n",
       "            (   ' Bachelors', ' <=50K'),\n",
       "            (   ' Bachelors',  ' >50K'),\n",
       "            (   ' Doctorate', ' <=50K'),\n",
       "            (   ' Doctorate',  ' >50K'),\n",
       "            (     ' HS-grad', ' <=50K'),\n",
       "            (     ' HS-grad',  ' >50K'),\n",
       "            (     ' Masters', ' <=50K'),\n",
       "            (     ' Masters',  ' >50K'),\n",
       "            (   ' Preschool', ' <=50K'),\n",
       "            ( ' Prof-school', ' <=50K'),\n",
       "            ( ' Prof-school',  ' >50K'),\n",
       "            (' Some-college', ' <=50K'),\n",
       "            (' Some-college',  ' >50K')],\n",
       "           names=['education', 'income'])"
      ]
     },
     "execution_count": 34,
     "metadata": {},
     "output_type": "execute_result"
    }
   ],
   "source": [
    "dataset3.index"
   ]
  },
  {
   "cell_type": "code",
   "execution_count": 35,
   "id": "67c1672d",
   "metadata": {},
   "outputs": [
    {
     "data": {
      "text/plain": [
       "(3134, 2221)"
      ]
     },
     "execution_count": 35,
     "metadata": {},
     "output_type": "execute_result"
    }
   ],
   "source": [
    "dataset3[' Bachelors', ' <=50K'], dataset3[' Bachelors', ' >50K']"
   ]
  },
  {
   "cell_type": "code",
   "execution_count": 36,
   "id": "24573a35",
   "metadata": {},
   "outputs": [
    {
     "data": {
      "text/plain": [
       "5355"
      ]
     },
     "execution_count": 36,
     "metadata": {},
     "output_type": "execute_result"
    }
   ],
   "source": [
    "3134 + 2221"
   ]
  },
  {
   "cell_type": "code",
   "execution_count": 37,
   "id": "8cabd9f0",
   "metadata": {},
   "outputs": [
    {
     "data": {
      "text/plain": [
       "41.47525676937442"
      ]
     },
     "execution_count": 37,
     "metadata": {},
     "output_type": "execute_result"
    }
   ],
   "source": [
    "# % >50K\n",
    "(2221 / 5355) * 100"
   ]
  },
  {
   "cell_type": "code",
   "execution_count": 38,
   "id": "39d7bbc6",
   "metadata": {},
   "outputs": [
    {
     "data": {
      "text/plain": [
       "58.52474323062559"
      ]
     },
     "execution_count": 38,
     "metadata": {},
     "output_type": "execute_result"
    }
   ],
   "source": [
    "# % <=50K\n",
    "(3134 / 5355) * 100"
   ]
  },
  {
   "cell_type": "markdown",
   "id": "0121ff26",
   "metadata": {},
   "source": [
    "### Exercício 2 - coeficientes e taxas"
   ]
  },
  {
   "cell_type": "code",
   "execution_count": 39,
   "id": "2d415781",
   "metadata": {},
   "outputs": [],
   "source": [
    "dados = {'ano': ['1', '2', '3', '4', 'total'],\n",
    "        'matriculas_marco': [70, 50, 47, 23, 190],\n",
    "        'matriculas_novembro': [65, 48, 40, 22, 175]}"
   ]
  },
  {
   "cell_type": "code",
   "execution_count": 40,
   "id": "9dccc0d7",
   "metadata": {},
   "outputs": [
    {
     "data": {
      "text/plain": [
       "{'ano': ['1', '2', '3', '4', 'total'],\n",
       " 'matriculas_marco': [70, 50, 47, 23, 190],\n",
       " 'matriculas_novembro': [65, 48, 40, 22, 175]}"
      ]
     },
     "execution_count": 40,
     "metadata": {},
     "output_type": "execute_result"
    }
   ],
   "source": [
    "dados"
   ]
  },
  {
   "cell_type": "code",
   "execution_count": 41,
   "id": "fa1504f1",
   "metadata": {},
   "outputs": [
    {
     "data": {
      "text/html": [
       "<div>\n",
       "<style scoped>\n",
       "    .dataframe tbody tr th:only-of-type {\n",
       "        vertical-align: middle;\n",
       "    }\n",
       "\n",
       "    .dataframe tbody tr th {\n",
       "        vertical-align: top;\n",
       "    }\n",
       "\n",
       "    .dataframe thead th {\n",
       "        text-align: right;\n",
       "    }\n",
       "</style>\n",
       "<table border=\"1\" class=\"dataframe\">\n",
       "  <thead>\n",
       "    <tr style=\"text-align: right;\">\n",
       "      <th></th>\n",
       "      <th>ano</th>\n",
       "      <th>matriculas_marco</th>\n",
       "      <th>matriculas_novembro</th>\n",
       "    </tr>\n",
       "  </thead>\n",
       "  <tbody>\n",
       "    <tr>\n",
       "      <th>0</th>\n",
       "      <td>1</td>\n",
       "      <td>70</td>\n",
       "      <td>65</td>\n",
       "    </tr>\n",
       "    <tr>\n",
       "      <th>1</th>\n",
       "      <td>2</td>\n",
       "      <td>50</td>\n",
       "      <td>48</td>\n",
       "    </tr>\n",
       "    <tr>\n",
       "      <th>2</th>\n",
       "      <td>3</td>\n",
       "      <td>47</td>\n",
       "      <td>40</td>\n",
       "    </tr>\n",
       "    <tr>\n",
       "      <th>3</th>\n",
       "      <td>4</td>\n",
       "      <td>23</td>\n",
       "      <td>22</td>\n",
       "    </tr>\n",
       "    <tr>\n",
       "      <th>4</th>\n",
       "      <td>total</td>\n",
       "      <td>190</td>\n",
       "      <td>175</td>\n",
       "    </tr>\n",
       "  </tbody>\n",
       "</table>\n",
       "</div>"
      ],
      "text/plain": [
       "     ano  matriculas_marco  matriculas_novembro\n",
       "0      1                70                   65\n",
       "1      2                50                   48\n",
       "2      3                47                   40\n",
       "3      4                23                   22\n",
       "4  total               190                  175"
      ]
     },
     "execution_count": 41,
     "metadata": {},
     "output_type": "execute_result"
    }
   ],
   "source": [
    "dataset = pd.DataFrame(dados)\n",
    "dataset"
   ]
  },
  {
   "cell_type": "code",
   "execution_count": 43,
   "id": "b1da9585",
   "metadata": {},
   "outputs": [],
   "source": [
    "dataset['taxa_evasao'] = ((dataset['matriculas_marco'] - dataset['matriculas_novembro']) / dataset['matriculas_marco']) * 100"
   ]
  },
  {
   "cell_type": "code",
   "execution_count": 44,
   "id": "4acea0a1",
   "metadata": {},
   "outputs": [
    {
     "data": {
      "text/html": [
       "<div>\n",
       "<style scoped>\n",
       "    .dataframe tbody tr th:only-of-type {\n",
       "        vertical-align: middle;\n",
       "    }\n",
       "\n",
       "    .dataframe tbody tr th {\n",
       "        vertical-align: top;\n",
       "    }\n",
       "\n",
       "    .dataframe thead th {\n",
       "        text-align: right;\n",
       "    }\n",
       "</style>\n",
       "<table border=\"1\" class=\"dataframe\">\n",
       "  <thead>\n",
       "    <tr style=\"text-align: right;\">\n",
       "      <th></th>\n",
       "      <th>ano</th>\n",
       "      <th>matriculas_marco</th>\n",
       "      <th>matriculas_novembro</th>\n",
       "      <th>taxa_evasao</th>\n",
       "    </tr>\n",
       "  </thead>\n",
       "  <tbody>\n",
       "    <tr>\n",
       "      <th>0</th>\n",
       "      <td>1</td>\n",
       "      <td>70</td>\n",
       "      <td>65</td>\n",
       "      <td>7.142857</td>\n",
       "    </tr>\n",
       "    <tr>\n",
       "      <th>1</th>\n",
       "      <td>2</td>\n",
       "      <td>50</td>\n",
       "      <td>48</td>\n",
       "      <td>4.000000</td>\n",
       "    </tr>\n",
       "    <tr>\n",
       "      <th>2</th>\n",
       "      <td>3</td>\n",
       "      <td>47</td>\n",
       "      <td>40</td>\n",
       "      <td>14.893617</td>\n",
       "    </tr>\n",
       "    <tr>\n",
       "      <th>3</th>\n",
       "      <td>4</td>\n",
       "      <td>23</td>\n",
       "      <td>22</td>\n",
       "      <td>4.347826</td>\n",
       "    </tr>\n",
       "    <tr>\n",
       "      <th>4</th>\n",
       "      <td>total</td>\n",
       "      <td>190</td>\n",
       "      <td>175</td>\n",
       "      <td>7.894737</td>\n",
       "    </tr>\n",
       "  </tbody>\n",
       "</table>\n",
       "</div>"
      ],
      "text/plain": [
       "     ano  matriculas_marco  matriculas_novembro  taxa_evasao\n",
       "0      1                70                   65     7.142857\n",
       "1      2                50                   48     4.000000\n",
       "2      3                47                   40    14.893617\n",
       "3      4                23                   22     4.347826\n",
       "4  total               190                  175     7.894737"
      ]
     },
     "execution_count": 44,
     "metadata": {},
     "output_type": "execute_result"
    }
   ],
   "source": [
    "dataset"
   ]
  },
  {
   "cell_type": "code",
   "execution_count": null,
   "id": "5fdb617a",
   "metadata": {},
   "outputs": [],
   "source": []
  }
 ],
 "metadata": {
  "kernelspec": {
   "display_name": "Python 3",
   "language": "python",
   "name": "python3"
  },
  "language_info": {
   "codemirror_mode": {
    "name": "ipython",
    "version": 3
   },
   "file_extension": ".py",
   "mimetype": "text/x-python",
   "name": "python",
   "nbconvert_exporter": "python",
   "pygments_lexer": "ipython3",
   "version": "3.8.8"
  }
 },
 "nbformat": 4,
 "nbformat_minor": 5
}
